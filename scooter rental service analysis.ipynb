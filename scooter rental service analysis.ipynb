{
 "cells": [
  {
   "cell_type": "markdown",
   "id": "d110e7ba",
   "metadata": {},
   "source": [
    "# Анализ популярного сервиса аренды самокатов GoFast"
   ]
  },
  {
   "cell_type": "markdown",
   "id": "78174f2b",
   "metadata": {},
   "source": [
    "Исследование данных о пользователях из нескольких городов, а также об их поездках на самокатах. Анализ данных и проверка гипотез, которые могут помочь бизнесу вырасти."
   ]
  },
  {
   "cell_type": "markdown",
   "id": "9b198521",
   "metadata": {},
   "source": [
    "**Описание данных**\n",
    "\n",
    "**Пользователи** — users_go.csv\n",
    "\n",
    "**user_id**\t- уникальный идентификатор пользователя\n",
    "\n",
    "**name** - имя пользователя\n",
    "\n",
    "**age** - возраст\n",
    "\n",
    "**city** - город\n",
    "\n",
    "**subscription_type** - тип подписки (free, ultra)\n",
    "\n",
    "**Поездки** — rides_go.csv\n",
    "\n",
    "**user_id** - уникальный идентификатор пользователя\n",
    "\n",
    "**distance** - расстояние, которое пользователь проехал в текущей сессии (в метрах)\n",
    "\n",
    "**duration** - продолжительность сессии (в минутах) — время с того момента, как пользователь нажал кнопку «Начать поездку» до момента, как он нажал кнопку «Завершить поездку»\n",
    "\n",
    "**date** - дата совершения поездки\n",
    "\n",
    "**Подписки** — subscriptions_go.csv\n",
    "\n",
    "**subscription_type** - тип подписки\n",
    "\n",
    "**minute_price** - стоимость одной минуты поездки по данной подписке\n",
    "\n",
    "**start_ride_price** - стоимость начала поездки\n",
    "\n",
    "**subscription_fee** - стоимость ежемесячного платежа\n"
   ]
  },
  {
   "cell_type": "markdown",
   "id": "f39a17af",
   "metadata": {},
   "source": [
    "### Загрузка данных"
   ]
  },
  {
   "cell_type": "code",
   "execution_count": 79,
   "id": "2a1d4c12",
   "metadata": {},
   "outputs": [],
   "source": [
    "import matplotlib.pyplot as plt\n",
    "import numpy as np\n",
    "from scipy import stats as st\n",
    "import pandas as pd"
   ]
  },
  {
   "cell_type": "code",
   "execution_count": 80,
   "id": "e47d3895",
   "metadata": {},
   "outputs": [],
   "source": [
    "users_go = pd.read_csv('/datasets/users_go.csv')\n",
    "rides_go = pd.read_csv('/datasets/rides_go.csv')\n",
    "subscriptions_go = pd.read_csv('/datasets/subscriptions_go.csv')"
   ]
  },
  {
   "cell_type": "code",
   "execution_count": 81,
   "id": "fdba79a7",
   "metadata": {},
   "outputs": [
    {
     "data": {
      "text/html": [
       "<div>\n",
       "<style scoped>\n",
       "    .dataframe tbody tr th:only-of-type {\n",
       "        vertical-align: middle;\n",
       "    }\n",
       "\n",
       "    .dataframe tbody tr th {\n",
       "        vertical-align: top;\n",
       "    }\n",
       "\n",
       "    .dataframe thead th {\n",
       "        text-align: right;\n",
       "    }\n",
       "</style>\n",
       "<table border=\"1\" class=\"dataframe\">\n",
       "  <thead>\n",
       "    <tr style=\"text-align: right;\">\n",
       "      <th></th>\n",
       "      <th>user_id</th>\n",
       "      <th>name</th>\n",
       "      <th>age</th>\n",
       "      <th>city</th>\n",
       "      <th>subscription_type</th>\n",
       "    </tr>\n",
       "  </thead>\n",
       "  <tbody>\n",
       "    <tr>\n",
       "      <th>0</th>\n",
       "      <td>1</td>\n",
       "      <td>Кира</td>\n",
       "      <td>22</td>\n",
       "      <td>Тюмень</td>\n",
       "      <td>ultra</td>\n",
       "    </tr>\n",
       "    <tr>\n",
       "      <th>1</th>\n",
       "      <td>2</td>\n",
       "      <td>Станислав</td>\n",
       "      <td>31</td>\n",
       "      <td>Омск</td>\n",
       "      <td>ultra</td>\n",
       "    </tr>\n",
       "    <tr>\n",
       "      <th>2</th>\n",
       "      <td>3</td>\n",
       "      <td>Алексей</td>\n",
       "      <td>20</td>\n",
       "      <td>Москва</td>\n",
       "      <td>ultra</td>\n",
       "    </tr>\n",
       "    <tr>\n",
       "      <th>3</th>\n",
       "      <td>4</td>\n",
       "      <td>Константин</td>\n",
       "      <td>26</td>\n",
       "      <td>Ростов-на-Дону</td>\n",
       "      <td>ultra</td>\n",
       "    </tr>\n",
       "    <tr>\n",
       "      <th>4</th>\n",
       "      <td>5</td>\n",
       "      <td>Адель</td>\n",
       "      <td>28</td>\n",
       "      <td>Омск</td>\n",
       "      <td>ultra</td>\n",
       "    </tr>\n",
       "  </tbody>\n",
       "</table>\n",
       "</div>"
      ],
      "text/plain": [
       "   user_id        name  age            city subscription_type\n",
       "0        1        Кира   22          Тюмень             ultra\n",
       "1        2   Станислав   31            Омск             ultra\n",
       "2        3     Алексей   20          Москва             ultra\n",
       "3        4  Константин   26  Ростов-на-Дону             ultra\n",
       "4        5       Адель   28            Омск             ultra"
      ]
     },
     "metadata": {},
     "output_type": "display_data"
    },
    {
     "name": "stdout",
     "output_type": "stream",
     "text": [
      " \n",
      "<class 'pandas.core.frame.DataFrame'>\n",
      "RangeIndex: 1565 entries, 0 to 1564\n",
      "Data columns (total 5 columns):\n",
      " #   Column             Non-Null Count  Dtype \n",
      "---  ------             --------------  ----- \n",
      " 0   user_id            1565 non-null   int64 \n",
      " 1   name               1565 non-null   object\n",
      " 2   age                1565 non-null   int64 \n",
      " 3   city               1565 non-null   object\n",
      " 4   subscription_type  1565 non-null   object\n",
      "dtypes: int64(2), object(3)\n",
      "memory usage: 61.3+ KB\n"
     ]
    }
   ],
   "source": [
    "display(users_go.head())\n",
    "print(' ')\n",
    "users_go.info()"
   ]
  },
  {
   "cell_type": "code",
   "execution_count": 82,
   "id": "eff9f206",
   "metadata": {},
   "outputs": [
    {
     "data": {
      "text/html": [
       "<div>\n",
       "<style scoped>\n",
       "    .dataframe tbody tr th:only-of-type {\n",
       "        vertical-align: middle;\n",
       "    }\n",
       "\n",
       "    .dataframe tbody tr th {\n",
       "        vertical-align: top;\n",
       "    }\n",
       "\n",
       "    .dataframe thead th {\n",
       "        text-align: right;\n",
       "    }\n",
       "</style>\n",
       "<table border=\"1\" class=\"dataframe\">\n",
       "  <thead>\n",
       "    <tr style=\"text-align: right;\">\n",
       "      <th></th>\n",
       "      <th>user_id</th>\n",
       "      <th>distance</th>\n",
       "      <th>duration</th>\n",
       "      <th>date</th>\n",
       "    </tr>\n",
       "  </thead>\n",
       "  <tbody>\n",
       "    <tr>\n",
       "      <th>0</th>\n",
       "      <td>1</td>\n",
       "      <td>4409.919140</td>\n",
       "      <td>25.599769</td>\n",
       "      <td>2021-01-01</td>\n",
       "    </tr>\n",
       "    <tr>\n",
       "      <th>1</th>\n",
       "      <td>1</td>\n",
       "      <td>2617.592153</td>\n",
       "      <td>15.816871</td>\n",
       "      <td>2021-01-18</td>\n",
       "    </tr>\n",
       "    <tr>\n",
       "      <th>2</th>\n",
       "      <td>1</td>\n",
       "      <td>754.159807</td>\n",
       "      <td>6.232113</td>\n",
       "      <td>2021-04-20</td>\n",
       "    </tr>\n",
       "    <tr>\n",
       "      <th>3</th>\n",
       "      <td>1</td>\n",
       "      <td>2694.783254</td>\n",
       "      <td>18.511000</td>\n",
       "      <td>2021-08-11</td>\n",
       "    </tr>\n",
       "    <tr>\n",
       "      <th>4</th>\n",
       "      <td>1</td>\n",
       "      <td>4028.687306</td>\n",
       "      <td>26.265803</td>\n",
       "      <td>2021-08-28</td>\n",
       "    </tr>\n",
       "  </tbody>\n",
       "</table>\n",
       "</div>"
      ],
      "text/plain": [
       "   user_id     distance   duration        date\n",
       "0        1  4409.919140  25.599769  2021-01-01\n",
       "1        1  2617.592153  15.816871  2021-01-18\n",
       "2        1   754.159807   6.232113  2021-04-20\n",
       "3        1  2694.783254  18.511000  2021-08-11\n",
       "4        1  4028.687306  26.265803  2021-08-28"
      ]
     },
     "metadata": {},
     "output_type": "display_data"
    },
    {
     "name": "stdout",
     "output_type": "stream",
     "text": [
      " \n",
      "<class 'pandas.core.frame.DataFrame'>\n",
      "RangeIndex: 18068 entries, 0 to 18067\n",
      "Data columns (total 4 columns):\n",
      " #   Column    Non-Null Count  Dtype  \n",
      "---  ------    --------------  -----  \n",
      " 0   user_id   18068 non-null  int64  \n",
      " 1   distance  18068 non-null  float64\n",
      " 2   duration  18068 non-null  float64\n",
      " 3   date      18068 non-null  object \n",
      "dtypes: float64(2), int64(1), object(1)\n",
      "memory usage: 564.8+ KB\n"
     ]
    }
   ],
   "source": [
    "display(rides_go.head())\n",
    "print(' ')\n",
    "rides_go.info()"
   ]
  },
  {
   "cell_type": "code",
   "execution_count": 83,
   "id": "66b8dfbb",
   "metadata": {},
   "outputs": [
    {
     "data": {
      "text/html": [
       "<div>\n",
       "<style scoped>\n",
       "    .dataframe tbody tr th:only-of-type {\n",
       "        vertical-align: middle;\n",
       "    }\n",
       "\n",
       "    .dataframe tbody tr th {\n",
       "        vertical-align: top;\n",
       "    }\n",
       "\n",
       "    .dataframe thead th {\n",
       "        text-align: right;\n",
       "    }\n",
       "</style>\n",
       "<table border=\"1\" class=\"dataframe\">\n",
       "  <thead>\n",
       "    <tr style=\"text-align: right;\">\n",
       "      <th></th>\n",
       "      <th>subscription_type</th>\n",
       "      <th>minute_price</th>\n",
       "      <th>start_ride_price</th>\n",
       "      <th>subscription_fee</th>\n",
       "    </tr>\n",
       "  </thead>\n",
       "  <tbody>\n",
       "    <tr>\n",
       "      <th>0</th>\n",
       "      <td>free</td>\n",
       "      <td>8</td>\n",
       "      <td>50</td>\n",
       "      <td>0</td>\n",
       "    </tr>\n",
       "    <tr>\n",
       "      <th>1</th>\n",
       "      <td>ultra</td>\n",
       "      <td>6</td>\n",
       "      <td>0</td>\n",
       "      <td>199</td>\n",
       "    </tr>\n",
       "  </tbody>\n",
       "</table>\n",
       "</div>"
      ],
      "text/plain": [
       "  subscription_type  minute_price  start_ride_price  subscription_fee\n",
       "0              free             8                50                 0\n",
       "1             ultra             6                 0               199"
      ]
     },
     "metadata": {},
     "output_type": "display_data"
    },
    {
     "name": "stdout",
     "output_type": "stream",
     "text": [
      " \n",
      "<class 'pandas.core.frame.DataFrame'>\n",
      "RangeIndex: 2 entries, 0 to 1\n",
      "Data columns (total 4 columns):\n",
      " #   Column             Non-Null Count  Dtype \n",
      "---  ------             --------------  ----- \n",
      " 0   subscription_type  2 non-null      object\n",
      " 1   minute_price       2 non-null      int64 \n",
      " 2   start_ride_price   2 non-null      int64 \n",
      " 3   subscription_fee   2 non-null      int64 \n",
      "dtypes: int64(3), object(1)\n",
      "memory usage: 192.0+ bytes\n"
     ]
    }
   ],
   "source": [
    "display(subscriptions_go.head())\n",
    "print(' ')\n",
    "subscriptions_go.info()"
   ]
  },
  {
   "cell_type": "markdown",
   "id": "6c467197",
   "metadata": {},
   "source": [
    "Пропущенных значений нет."
   ]
  },
  {
   "cell_type": "markdown",
   "id": "28b1e2c0",
   "metadata": {},
   "source": [
    "###  Предобработка данных"
   ]
  },
  {
   "cell_type": "code",
   "execution_count": 84,
   "id": "af6d202c",
   "metadata": {},
   "outputs": [
    {
     "data": {
      "text/html": [
       "<div>\n",
       "<style scoped>\n",
       "    .dataframe tbody tr th:only-of-type {\n",
       "        vertical-align: middle;\n",
       "    }\n",
       "\n",
       "    .dataframe tbody tr th {\n",
       "        vertical-align: top;\n",
       "    }\n",
       "\n",
       "    .dataframe thead th {\n",
       "        text-align: right;\n",
       "    }\n",
       "</style>\n",
       "<table border=\"1\" class=\"dataframe\">\n",
       "  <thead>\n",
       "    <tr style=\"text-align: right;\">\n",
       "      <th></th>\n",
       "      <th>user_id</th>\n",
       "      <th>distance</th>\n",
       "      <th>duration</th>\n",
       "      <th>date</th>\n",
       "      <th>month</th>\n",
       "    </tr>\n",
       "  </thead>\n",
       "  <tbody>\n",
       "    <tr>\n",
       "      <th>0</th>\n",
       "      <td>1</td>\n",
       "      <td>4409.919140</td>\n",
       "      <td>25.599769</td>\n",
       "      <td>2021-01-01</td>\n",
       "      <td>1</td>\n",
       "    </tr>\n",
       "    <tr>\n",
       "      <th>1</th>\n",
       "      <td>1</td>\n",
       "      <td>2617.592153</td>\n",
       "      <td>15.816871</td>\n",
       "      <td>2021-01-18</td>\n",
       "      <td>1</td>\n",
       "    </tr>\n",
       "    <tr>\n",
       "      <th>2</th>\n",
       "      <td>1</td>\n",
       "      <td>754.159807</td>\n",
       "      <td>6.232113</td>\n",
       "      <td>2021-04-20</td>\n",
       "      <td>4</td>\n",
       "    </tr>\n",
       "    <tr>\n",
       "      <th>3</th>\n",
       "      <td>1</td>\n",
       "      <td>2694.783254</td>\n",
       "      <td>18.511000</td>\n",
       "      <td>2021-08-11</td>\n",
       "      <td>8</td>\n",
       "    </tr>\n",
       "    <tr>\n",
       "      <th>4</th>\n",
       "      <td>1</td>\n",
       "      <td>4028.687306</td>\n",
       "      <td>26.265803</td>\n",
       "      <td>2021-08-28</td>\n",
       "      <td>8</td>\n",
       "    </tr>\n",
       "  </tbody>\n",
       "</table>\n",
       "</div>"
      ],
      "text/plain": [
       "   user_id     distance   duration       date  month\n",
       "0        1  4409.919140  25.599769 2021-01-01      1\n",
       "1        1  2617.592153  15.816871 2021-01-18      1\n",
       "2        1   754.159807   6.232113 2021-04-20      4\n",
       "3        1  2694.783254  18.511000 2021-08-11      8\n",
       "4        1  4028.687306  26.265803 2021-08-28      8"
      ]
     },
     "metadata": {},
     "output_type": "display_data"
    }
   ],
   "source": [
    "#Приводим столбец date к типу даты pandas\n",
    "rides_go['date'] = pd.to_datetime(rides_go['date'], format='%Y-%m-%d')\n",
    "#Создаём новый столбец с номером месяца на основе столбца date\n",
    "rides_go ['month'] = rides_go['date'].dt.month\n",
    "display (rides_go.head())"
   ]
  },
  {
   "cell_type": "code",
   "execution_count": 85,
   "id": "1a156f67",
   "metadata": {},
   "outputs": [
    {
     "name": "stdout",
     "output_type": "stream",
     "text": [
      "31\n",
      "0\n",
      "0\n"
     ]
    }
   ],
   "source": [
    "#Проверяем наличие дубликатов в датафреймах.\n",
    "print(users_go.duplicated().sum())\n",
    "print(rides_go.duplicated().sum())\n",
    "print(subscriptions_go.duplicated().sum())"
   ]
  },
  {
   "cell_type": "markdown",
   "id": "1e27a411",
   "metadata": {},
   "source": [
    "Выявлены явные дубликаты в датафрейме users_go, удалим их"
   ]
  },
  {
   "cell_type": "code",
   "execution_count": 86,
   "id": "042e3bdc",
   "metadata": {},
   "outputs": [
    {
     "name": "stdout",
     "output_type": "stream",
     "text": [
      "0\n"
     ]
    }
   ],
   "source": [
    "duplicated_users_go = users_go[users_go.duplicated()]\n",
    "users_go = users_go.drop_duplicates().reset_index(drop=True)\n",
    "print(users_go.duplicated().sum())"
   ]
  },
  {
   "cell_type": "code",
   "execution_count": 87,
   "id": "46be2802",
   "metadata": {},
   "outputs": [
    {
     "name": "stdout",
     "output_type": "stream",
     "text": [
      "[   1    2    3 ... 1532 1533 1534]\n",
      "['Кира' 'Станислав' 'Алексей' 'Константин' 'Адель' 'Регина' 'Игорь' 'Юрий'\n",
      " 'Ян' 'Валерий' 'Агата' 'Марк' 'Ева' 'Антонина' 'Валерия' 'Амалия'\n",
      " 'Даниил' 'Аделина' 'Святогор' 'Борис' 'Вероника' 'Ростислав' 'Назар'\n",
      " 'Эдуард' 'Василий' 'Денис' 'Тамара' 'Николай' 'Эвелина' 'Федор' 'Руслан'\n",
      " 'Иван' 'Любовь' 'Ярослава' 'Майя' 'Ильдар' 'Данила' 'Нина' 'Стефания'\n",
      " 'Ясмина' 'Дмитрий' 'Александр' 'Одиссей' 'Арсений' 'Алла' 'Таисия'\n",
      " 'Максим' 'Юлиана' 'Павел' 'Карина' 'Алиса' 'Лидия' 'Рамиль' 'Родион'\n",
      " 'Ника' 'Оксана' 'Анастасия' 'Маргарита' 'Вера' 'Тимур' 'Никита' 'Лев'\n",
      " 'Влад' 'Артур' 'Анна' 'Ольга' 'Вячеслав' 'Ксения' 'Виталина' 'Владислав'\n",
      " 'Тамерлан' 'Амина' 'Вадим' 'Олеся' 'Зарина' 'Егор' 'Гордей' 'Лилия'\n",
      " 'Святослав' 'Роберт' 'Амир' 'Влада' 'Богдан' 'Полина' 'Марат' 'Елисей'\n",
      " 'Макар' 'Алина' 'Глеб' 'Андрей' 'Альбина' 'Людмила' 'Марсель' 'Милена'\n",
      " 'Диана' 'Дарина' 'Данил' 'Артемий' 'Лиана' 'Альберт' 'Герман' 'Жанна'\n",
      " 'Нелли' 'Евгения' 'Ариана' 'Самира' 'Захар' 'Эльвира' 'Екатерина' 'Инна'\n",
      " 'Демид' 'Яна' 'Михаил' 'Татьяна' 'Степан' 'Мелания' 'Тимофей' 'Ирина'\n",
      " 'Анжелика' 'Владислава' 'Елизавета' 'Мадина' 'Снежана' 'Даниэль' 'Рустам'\n",
      " 'Каролина' 'Ангелина' 'Владимир' 'Виктория' 'Валентина' 'Семен' 'Арина'\n",
      " 'Лариса' 'Есения' 'Галина' 'Кирилл' 'Игнат' 'Виталий' 'Эмилия' 'Виолетта'\n",
      " 'Яромир' 'Софья' 'Мирослава' 'Евгений' 'Варвара' 'Платон' 'Наталия'\n",
      " 'Анатолий' 'Кристина' 'Всеволод' 'Дарья' 'Наташа' 'Мария' 'Марина'\n",
      " 'Василиса' 'Юлия' 'Илья' 'Злата' 'Роман' 'Наталья' 'Элина' 'Арсен'\n",
      " 'Айдар' 'Алия' 'Виктор' 'Мирон' 'Ульяна' 'Георгий' 'Петр' 'Эльмира'\n",
      " 'Олег' 'Дамир' 'Самир' 'Ярослав' 'Камилла' 'Сергей' 'Эмиль' 'Радмир'\n",
      " 'Савелий' 'Елена' 'Антон' 'Мирослав' 'София' 'Тихон' 'Артём' 'Давид'\n",
      " 'Григорий' 'Алёна' 'Светлана' 'Леонид' 'Александра' 'Василина' 'Милана'\n",
      " 'Матвей']\n",
      "['Тюмень' 'Омск' 'Москва' 'Ростов-на-Дону' 'Краснодар' 'Пятигорск'\n",
      " 'Екатеринбург' 'Сочи']\n",
      "['ultra' 'free']\n"
     ]
    }
   ],
   "source": [
    "print(users_go['user_id'].unique())\n",
    "print(users_go['name'].unique())\n",
    "print(users_go['city'].unique())\n",
    "print(users_go['subscription_type'].unique())"
   ]
  },
  {
   "cell_type": "markdown",
   "id": "ed3603f3",
   "metadata": {},
   "source": [
    "Неявных дубликатов не обнаружено. "
   ]
  },
  {
   "cell_type": "markdown",
   "id": "212593c7",
   "metadata": {},
   "source": [
    "### Исследовательский анализ данных"
   ]
  },
  {
   "cell_type": "markdown",
   "id": "201dd1c0",
   "metadata": {},
   "source": [
    "**Частота встречаемости городов**"
   ]
  },
  {
   "cell_type": "code",
   "execution_count": 88,
   "id": "e3a4274c",
   "metadata": {},
   "outputs": [
    {
     "data": {
      "image/png": "[encoded data removed]",
      "text/plain": [
       "<Figure size 1080x360 with 1 Axes>"
      ]
     },
     "metadata": {
      "needs_background": "light"
     },
     "output_type": "display_data"
    }
   ],
   "source": [
    "users_go['city'].hist(bins=30, figsize=(15,5))\n",
    "plt.title('Частота встречаемости городов')\n",
    "plt.xlabel('Города')\n",
    "plt.ylabel('Частота встречаемости')\n",
    "plt.show()"
   ]
  },
  {
   "cell_type": "markdown",
   "id": "017cba7f",
   "metadata": {},
   "source": [
    "По гистограмме видно, что наиболее часто встречается город Пятигорск, реже всего Москва"
   ]
  },
  {
   "cell_type": "markdown",
   "id": "14e47ffb",
   "metadata": {},
   "source": [
    "**Cоотношение пользователей с подпиской и без подписки**"
   ]
  },
  {
   "cell_type": "code",
   "execution_count": 89,
   "id": "3951beab",
   "metadata": {},
   "outputs": [
    {
     "name": "stdout",
     "output_type": "stream",
     "text": [
      "Соотношение пользователей с подпиской 0.4556714471968709\n",
      "Соотношение пользователей без подписки 0.5443285528031291\n"
     ]
    }
   ],
   "source": [
    "users_ratio_ultra = users_go['subscription_type'].value_counts().loc['ultra'] / len(users_go)\n",
    "users_ratio_free = users_go['subscription_type'].value_counts().loc['free'] / len(users_go)\n",
    "print('Соотношение пользователей с подпиской', users_ratio_ultra)\n",
    "print('Соотношение пользователей без подписки',users_ratio_free)"
   ]
  },
  {
   "cell_type": "markdown",
   "id": "6aa3b94e",
   "metadata": {},
   "source": [
    "45.6% составляют люди с подпиской, 54.4% - люди без подписки."
   ]
  },
  {
   "cell_type": "code",
   "execution_count": 90,
   "id": "4768c52c",
   "metadata": {},
   "outputs": [
    {
     "data": {
      "image/png": "[encoded data removed]",
      "text/plain": [
       "<Figure size 1080x360 with 1 Axes>"
      ]
     },
     "metadata": {
      "needs_background": "light"
     },
     "output_type": "display_data"
    }
   ],
   "source": [
    "users_go['users_ratio_ultra'] = users_ratio_ultra\n",
    "users_go['users_ratio_free'] = users_ratio_free\n",
    "users_go['users_ratio_ultra'].hist(bins=30, figsize=(15,5))\n",
    "users_go['users_ratio_free'].hist(bins=30, figsize=(15,5))\n",
    "plt.title('Соотношение пользователей с подпиской и без подписки')\n",
    "plt.xlabel('Соотношение')\n",
    "plt.ylabel('Частота встречаемости')\n",
    "plt.show()"
   ]
  },
  {
   "cell_type": "markdown",
   "id": "7f8143f9",
   "metadata": {},
   "source": [
    "**Возраст пользователей**"
   ]
  },
  {
   "cell_type": "code",
   "execution_count": 91,
   "id": "9cc94cca",
   "metadata": {},
   "outputs": [
    {
     "data": {
      "image/png": "[encoded data removed]",
      "text/plain": [
       "<Figure size 1080x360 with 1 Axes>"
      ]
     },
     "metadata": {
      "needs_background": "light"
     },
     "output_type": "display_data"
    }
   ],
   "source": [
    "users_go['age'].hist(bins=35, figsize=(15,5))\n",
    "plt.title('Возраст пользователей')\n",
    "plt.xlabel('Возраст')\n",
    "plt.ylabel('Частота встречаемости')\n",
    "plt.show()"
   ]
  },
  {
   "cell_type": "markdown",
   "id": "7d86424e",
   "metadata": {},
   "source": [
    "Чаще всего встречаются люди в возрасте 24-25 лет, старше 35 пользователей практически нет."
   ]
  },
  {
   "cell_type": "markdown",
   "id": "f5e0e330",
   "metadata": {},
   "source": [
    "**Расстояние, которое пользователь преодолел за одну поездку**"
   ]
  },
  {
   "cell_type": "code",
   "execution_count": 92,
   "id": "27501e6f",
   "metadata": {},
   "outputs": [
    {
     "data": {
      "image/png": "[encoded data removed]",
      "text/plain": [
       "<Figure size 1080x360 with 1 Axes>"
      ]
     },
     "metadata": {
      "needs_background": "light"
     },
     "output_type": "display_data"
    }
   ],
   "source": [
    "rides_go['distance'].hist(figsize=(15,5))\n",
    "plt.title('Расстояние, которое пользователь преодолел за одну поездку')\n",
    "plt.xlabel('Расстояние в метрах')\n",
    "plt.ylabel('Частота встречаемости')\n",
    "plt.show()"
   ]
  },
  {
   "cell_type": "markdown",
   "id": "ff90981c",
   "metadata": {},
   "source": [
    "На гистрограмме видно, что встречаются значения дистанции на самокате менее 1000 метров и более 5000 метров, чаще всего пользователи едут на самокате расстояния 3000-3500 метров."
   ]
  },
  {
   "cell_type": "markdown",
   "id": "ef1d5dcb",
   "metadata": {},
   "source": [
    "**Продолжительность поездок**"
   ]
  },
  {
   "cell_type": "code",
   "execution_count": 93,
   "id": "9e8c6ef6",
   "metadata": {},
   "outputs": [
    {
     "data": {
      "image/png": "[encoded data removed]",
      "text/plain": [
       "<Figure size 1080x360 with 1 Axes>"
      ]
     },
     "metadata": {
      "needs_background": "light"
     },
     "output_type": "display_data"
    }
   ],
   "source": [
    "rides_go['duration'].hist(figsize=(15,5))\n",
    "plt.title('Продолжительность поездок')\n",
    "plt.xlabel('Время сессии')\n",
    "plt.ylabel('Частота встречаемости')\n",
    "plt.show()"
   ]
  },
  {
   "cell_type": "markdown",
   "id": "b4a764e9",
   "metadata": {},
   "source": [
    "По гистрограмме видно, что чаще всего продолжительность сессии длится 16-21 минут."
   ]
  },
  {
   "cell_type": "markdown",
   "id": "4ef51331",
   "metadata": {},
   "source": [
    "### Объединение данных"
   ]
  },
  {
   "cell_type": "markdown",
   "id": "5dd56d12",
   "metadata": {},
   "source": [
    "**4.1 Объединение данных о пользователях, поездках и подписках**"
   ]
  },
  {
   "cell_type": "code",
   "execution_count": 94,
   "id": "896534b4",
   "metadata": {},
   "outputs": [
    {
     "data": {
      "text/html": [
       "<div>\n",
       "<style scoped>\n",
       "    .dataframe tbody tr th:only-of-type {\n",
       "        vertical-align: middle;\n",
       "    }\n",
       "\n",
       "    .dataframe tbody tr th {\n",
       "        vertical-align: top;\n",
       "    }\n",
       "\n",
       "    .dataframe thead th {\n",
       "        text-align: right;\n",
       "    }\n",
       "</style>\n",
       "<table border=\"1\" class=\"dataframe\">\n",
       "  <thead>\n",
       "    <tr style=\"text-align: right;\">\n",
       "      <th></th>\n",
       "      <th>user_id</th>\n",
       "      <th>name</th>\n",
       "      <th>age</th>\n",
       "      <th>city</th>\n",
       "      <th>subscription_type</th>\n",
       "      <th>users_ratio_ultra</th>\n",
       "      <th>users_ratio_free</th>\n",
       "      <th>distance</th>\n",
       "      <th>duration</th>\n",
       "      <th>date</th>\n",
       "      <th>month</th>\n",
       "      <th>minute_price</th>\n",
       "      <th>start_ride_price</th>\n",
       "      <th>subscription_fee</th>\n",
       "    </tr>\n",
       "  </thead>\n",
       "  <tbody>\n",
       "    <tr>\n",
       "      <th>0</th>\n",
       "      <td>1</td>\n",
       "      <td>Кира</td>\n",
       "      <td>22</td>\n",
       "      <td>Тюмень</td>\n",
       "      <td>ultra</td>\n",
       "      <td>0.455671</td>\n",
       "      <td>0.544329</td>\n",
       "      <td>4409.919140</td>\n",
       "      <td>25.599769</td>\n",
       "      <td>2021-01-01</td>\n",
       "      <td>1</td>\n",
       "      <td>6</td>\n",
       "      <td>0</td>\n",
       "      <td>199</td>\n",
       "    </tr>\n",
       "    <tr>\n",
       "      <th>1</th>\n",
       "      <td>1</td>\n",
       "      <td>Кира</td>\n",
       "      <td>22</td>\n",
       "      <td>Тюмень</td>\n",
       "      <td>ultra</td>\n",
       "      <td>0.455671</td>\n",
       "      <td>0.544329</td>\n",
       "      <td>2617.592153</td>\n",
       "      <td>15.816871</td>\n",
       "      <td>2021-01-18</td>\n",
       "      <td>1</td>\n",
       "      <td>6</td>\n",
       "      <td>0</td>\n",
       "      <td>199</td>\n",
       "    </tr>\n",
       "    <tr>\n",
       "      <th>2</th>\n",
       "      <td>1</td>\n",
       "      <td>Кира</td>\n",
       "      <td>22</td>\n",
       "      <td>Тюмень</td>\n",
       "      <td>ultra</td>\n",
       "      <td>0.455671</td>\n",
       "      <td>0.544329</td>\n",
       "      <td>754.159807</td>\n",
       "      <td>6.232113</td>\n",
       "      <td>2021-04-20</td>\n",
       "      <td>4</td>\n",
       "      <td>6</td>\n",
       "      <td>0</td>\n",
       "      <td>199</td>\n",
       "    </tr>\n",
       "    <tr>\n",
       "      <th>3</th>\n",
       "      <td>1</td>\n",
       "      <td>Кира</td>\n",
       "      <td>22</td>\n",
       "      <td>Тюмень</td>\n",
       "      <td>ultra</td>\n",
       "      <td>0.455671</td>\n",
       "      <td>0.544329</td>\n",
       "      <td>2694.783254</td>\n",
       "      <td>18.511000</td>\n",
       "      <td>2021-08-11</td>\n",
       "      <td>8</td>\n",
       "      <td>6</td>\n",
       "      <td>0</td>\n",
       "      <td>199</td>\n",
       "    </tr>\n",
       "    <tr>\n",
       "      <th>4</th>\n",
       "      <td>1</td>\n",
       "      <td>Кира</td>\n",
       "      <td>22</td>\n",
       "      <td>Тюмень</td>\n",
       "      <td>ultra</td>\n",
       "      <td>0.455671</td>\n",
       "      <td>0.544329</td>\n",
       "      <td>4028.687306</td>\n",
       "      <td>26.265803</td>\n",
       "      <td>2021-08-28</td>\n",
       "      <td>8</td>\n",
       "      <td>6</td>\n",
       "      <td>0</td>\n",
       "      <td>199</td>\n",
       "    </tr>\n",
       "    <tr>\n",
       "      <th>...</th>\n",
       "      <td>...</td>\n",
       "      <td>...</td>\n",
       "      <td>...</td>\n",
       "      <td>...</td>\n",
       "      <td>...</td>\n",
       "      <td>...</td>\n",
       "      <td>...</td>\n",
       "      <td>...</td>\n",
       "      <td>...</td>\n",
       "      <td>...</td>\n",
       "      <td>...</td>\n",
       "      <td>...</td>\n",
       "      <td>...</td>\n",
       "      <td>...</td>\n",
       "    </tr>\n",
       "    <tr>\n",
       "      <th>18063</th>\n",
       "      <td>1534</td>\n",
       "      <td>Альберт</td>\n",
       "      <td>25</td>\n",
       "      <td>Краснодар</td>\n",
       "      <td>free</td>\n",
       "      <td>0.455671</td>\n",
       "      <td>0.544329</td>\n",
       "      <td>3781.098080</td>\n",
       "      <td>19.822962</td>\n",
       "      <td>2021-11-04</td>\n",
       "      <td>11</td>\n",
       "      <td>8</td>\n",
       "      <td>50</td>\n",
       "      <td>0</td>\n",
       "    </tr>\n",
       "    <tr>\n",
       "      <th>18064</th>\n",
       "      <td>1534</td>\n",
       "      <td>Альберт</td>\n",
       "      <td>25</td>\n",
       "      <td>Краснодар</td>\n",
       "      <td>free</td>\n",
       "      <td>0.455671</td>\n",
       "      <td>0.544329</td>\n",
       "      <td>2840.423057</td>\n",
       "      <td>21.409799</td>\n",
       "      <td>2021-11-16</td>\n",
       "      <td>11</td>\n",
       "      <td>8</td>\n",
       "      <td>50</td>\n",
       "      <td>0</td>\n",
       "    </tr>\n",
       "    <tr>\n",
       "      <th>18065</th>\n",
       "      <td>1534</td>\n",
       "      <td>Альберт</td>\n",
       "      <td>25</td>\n",
       "      <td>Краснодар</td>\n",
       "      <td>free</td>\n",
       "      <td>0.455671</td>\n",
       "      <td>0.544329</td>\n",
       "      <td>3826.185507</td>\n",
       "      <td>18.435051</td>\n",
       "      <td>2021-11-18</td>\n",
       "      <td>11</td>\n",
       "      <td>8</td>\n",
       "      <td>50</td>\n",
       "      <td>0</td>\n",
       "    </tr>\n",
       "    <tr>\n",
       "      <th>18066</th>\n",
       "      <td>1534</td>\n",
       "      <td>Альберт</td>\n",
       "      <td>25</td>\n",
       "      <td>Краснодар</td>\n",
       "      <td>free</td>\n",
       "      <td>0.455671</td>\n",
       "      <td>0.544329</td>\n",
       "      <td>2902.308661</td>\n",
       "      <td>16.674362</td>\n",
       "      <td>2021-11-27</td>\n",
       "      <td>11</td>\n",
       "      <td>8</td>\n",
       "      <td>50</td>\n",
       "      <td>0</td>\n",
       "    </tr>\n",
       "    <tr>\n",
       "      <th>18067</th>\n",
       "      <td>1534</td>\n",
       "      <td>Альберт</td>\n",
       "      <td>25</td>\n",
       "      <td>Краснодар</td>\n",
       "      <td>free</td>\n",
       "      <td>0.455671</td>\n",
       "      <td>0.544329</td>\n",
       "      <td>2371.711192</td>\n",
       "      <td>15.893917</td>\n",
       "      <td>2021-12-29</td>\n",
       "      <td>12</td>\n",
       "      <td>8</td>\n",
       "      <td>50</td>\n",
       "      <td>0</td>\n",
       "    </tr>\n",
       "  </tbody>\n",
       "</table>\n",
       "<p>18068 rows × 14 columns</p>\n",
       "</div>"
      ],
      "text/plain": [
       "       user_id     name  age       city subscription_type  users_ratio_ultra  \\\n",
       "0            1     Кира   22     Тюмень             ultra           0.455671   \n",
       "1            1     Кира   22     Тюмень             ultra           0.455671   \n",
       "2            1     Кира   22     Тюмень             ultra           0.455671   \n",
       "3            1     Кира   22     Тюмень             ultra           0.455671   \n",
       "4            1     Кира   22     Тюмень             ultra           0.455671   \n",
       "...        ...      ...  ...        ...               ...                ...   \n",
       "18063     1534  Альберт   25  Краснодар              free           0.455671   \n",
       "18064     1534  Альберт   25  Краснодар              free           0.455671   \n",
       "18065     1534  Альберт   25  Краснодар              free           0.455671   \n",
       "18066     1534  Альберт   25  Краснодар              free           0.455671   \n",
       "18067     1534  Альберт   25  Краснодар              free           0.455671   \n",
       "\n",
       "       users_ratio_free     distance   duration       date  month  \\\n",
       "0              0.544329  4409.919140  25.599769 2021-01-01      1   \n",
       "1              0.544329  2617.592153  15.816871 2021-01-18      1   \n",
       "2              0.544329   754.159807   6.232113 2021-04-20      4   \n",
       "3              0.544329  2694.783254  18.511000 2021-08-11      8   \n",
       "4              0.544329  4028.687306  26.265803 2021-08-28      8   \n",
       "...                 ...          ...        ...        ...    ...   \n",
       "18063          0.544329  3781.098080  19.822962 2021-11-04     11   \n",
       "18064          0.544329  2840.423057  21.409799 2021-11-16     11   \n",
       "18065          0.544329  3826.185507  18.435051 2021-11-18     11   \n",
       "18066          0.544329  2902.308661  16.674362 2021-11-27     11   \n",
       "18067          0.544329  2371.711192  15.893917 2021-12-29     12   \n",
       "\n",
       "       minute_price  start_ride_price  subscription_fee  \n",
       "0                 6                 0               199  \n",
       "1                 6                 0               199  \n",
       "2                 6                 0               199  \n",
       "3                 6                 0               199  \n",
       "4                 6                 0               199  \n",
       "...             ...               ...               ...  \n",
       "18063             8                50                 0  \n",
       "18064             8                50                 0  \n",
       "18065             8                50                 0  \n",
       "18066             8                50                 0  \n",
       "18067             8                50                 0  \n",
       "\n",
       "[18068 rows x 14 columns]"
      ]
     },
     "metadata": {},
     "output_type": "display_data"
    }
   ],
   "source": [
    "data = users_go.merge(rides_go, on='user_id', how = 'left')\n",
    "final_data = data.merge(subscriptions_go, on='subscription_type', how = 'left')\n",
    "display(final_data)"
   ]
  },
  {
   "cell_type": "markdown",
   "id": "dc2c4e44",
   "metadata": {},
   "source": [
    "**4.2 Создание двух датафреймов из датафрейма, созданного на этапе 4.1**"
   ]
  },
  {
   "cell_type": "markdown",
   "id": "38c643b5",
   "metadata": {},
   "source": [
    "**c данными о пользователях без подписки:**"
   ]
  },
  {
   "cell_type": "code",
   "execution_count": 95,
   "id": "c4bb17bc",
   "metadata": {},
   "outputs": [
    {
     "data": {
      "text/html": [
       "<div>\n",
       "<style scoped>\n",
       "    .dataframe tbody tr th:only-of-type {\n",
       "        vertical-align: middle;\n",
       "    }\n",
       "\n",
       "    .dataframe tbody tr th {\n",
       "        vertical-align: top;\n",
       "    }\n",
       "\n",
       "    .dataframe thead th {\n",
       "        text-align: right;\n",
       "    }\n",
       "</style>\n",
       "<table border=\"1\" class=\"dataframe\">\n",
       "  <thead>\n",
       "    <tr style=\"text-align: right;\">\n",
       "      <th></th>\n",
       "      <th>user_id</th>\n",
       "      <th>name</th>\n",
       "      <th>age</th>\n",
       "      <th>city</th>\n",
       "      <th>subscription_type</th>\n",
       "      <th>users_ratio_ultra</th>\n",
       "      <th>users_ratio_free</th>\n",
       "      <th>distance</th>\n",
       "      <th>duration</th>\n",
       "      <th>date</th>\n",
       "      <th>month</th>\n",
       "      <th>minute_price</th>\n",
       "      <th>start_ride_price</th>\n",
       "      <th>subscription_fee</th>\n",
       "    </tr>\n",
       "  </thead>\n",
       "  <tbody>\n",
       "    <tr>\n",
       "      <th>6500</th>\n",
       "      <td>700</td>\n",
       "      <td>Айдар</td>\n",
       "      <td>22</td>\n",
       "      <td>Омск</td>\n",
       "      <td>free</td>\n",
       "      <td>0.455671</td>\n",
       "      <td>0.544329</td>\n",
       "      <td>2515.690719</td>\n",
       "      <td>14.944286</td>\n",
       "      <td>2021-01-02</td>\n",
       "      <td>1</td>\n",
       "      <td>8</td>\n",
       "      <td>50</td>\n",
       "      <td>0</td>\n",
       "    </tr>\n",
       "    <tr>\n",
       "      <th>6501</th>\n",
       "      <td>700</td>\n",
       "      <td>Айдар</td>\n",
       "      <td>22</td>\n",
       "      <td>Омск</td>\n",
       "      <td>free</td>\n",
       "      <td>0.455671</td>\n",
       "      <td>0.544329</td>\n",
       "      <td>846.932642</td>\n",
       "      <td>16.234663</td>\n",
       "      <td>2021-02-01</td>\n",
       "      <td>2</td>\n",
       "      <td>8</td>\n",
       "      <td>50</td>\n",
       "      <td>0</td>\n",
       "    </tr>\n",
       "    <tr>\n",
       "      <th>6502</th>\n",
       "      <td>700</td>\n",
       "      <td>Айдар</td>\n",
       "      <td>22</td>\n",
       "      <td>Омск</td>\n",
       "      <td>free</td>\n",
       "      <td>0.455671</td>\n",
       "      <td>0.544329</td>\n",
       "      <td>4004.434142</td>\n",
       "      <td>20.016628</td>\n",
       "      <td>2021-02-04</td>\n",
       "      <td>2</td>\n",
       "      <td>8</td>\n",
       "      <td>50</td>\n",
       "      <td>0</td>\n",
       "    </tr>\n",
       "    <tr>\n",
       "      <th>6503</th>\n",
       "      <td>700</td>\n",
       "      <td>Айдар</td>\n",
       "      <td>22</td>\n",
       "      <td>Омск</td>\n",
       "      <td>free</td>\n",
       "      <td>0.455671</td>\n",
       "      <td>0.544329</td>\n",
       "      <td>1205.911290</td>\n",
       "      <td>9.782872</td>\n",
       "      <td>2021-02-10</td>\n",
       "      <td>2</td>\n",
       "      <td>8</td>\n",
       "      <td>50</td>\n",
       "      <td>0</td>\n",
       "    </tr>\n",
       "    <tr>\n",
       "      <th>6504</th>\n",
       "      <td>700</td>\n",
       "      <td>Айдар</td>\n",
       "      <td>22</td>\n",
       "      <td>Омск</td>\n",
       "      <td>free</td>\n",
       "      <td>0.455671</td>\n",
       "      <td>0.544329</td>\n",
       "      <td>3047.379435</td>\n",
       "      <td>17.427673</td>\n",
       "      <td>2021-02-14</td>\n",
       "      <td>2</td>\n",
       "      <td>8</td>\n",
       "      <td>50</td>\n",
       "      <td>0</td>\n",
       "    </tr>\n",
       "    <tr>\n",
       "      <th>...</th>\n",
       "      <td>...</td>\n",
       "      <td>...</td>\n",
       "      <td>...</td>\n",
       "      <td>...</td>\n",
       "      <td>...</td>\n",
       "      <td>...</td>\n",
       "      <td>...</td>\n",
       "      <td>...</td>\n",
       "      <td>...</td>\n",
       "      <td>...</td>\n",
       "      <td>...</td>\n",
       "      <td>...</td>\n",
       "      <td>...</td>\n",
       "      <td>...</td>\n",
       "    </tr>\n",
       "    <tr>\n",
       "      <th>18063</th>\n",
       "      <td>1534</td>\n",
       "      <td>Альберт</td>\n",
       "      <td>25</td>\n",
       "      <td>Краснодар</td>\n",
       "      <td>free</td>\n",
       "      <td>0.455671</td>\n",
       "      <td>0.544329</td>\n",
       "      <td>3781.098080</td>\n",
       "      <td>19.822962</td>\n",
       "      <td>2021-11-04</td>\n",
       "      <td>11</td>\n",
       "      <td>8</td>\n",
       "      <td>50</td>\n",
       "      <td>0</td>\n",
       "    </tr>\n",
       "    <tr>\n",
       "      <th>18064</th>\n",
       "      <td>1534</td>\n",
       "      <td>Альберт</td>\n",
       "      <td>25</td>\n",
       "      <td>Краснодар</td>\n",
       "      <td>free</td>\n",
       "      <td>0.455671</td>\n",
       "      <td>0.544329</td>\n",
       "      <td>2840.423057</td>\n",
       "      <td>21.409799</td>\n",
       "      <td>2021-11-16</td>\n",
       "      <td>11</td>\n",
       "      <td>8</td>\n",
       "      <td>50</td>\n",
       "      <td>0</td>\n",
       "    </tr>\n",
       "    <tr>\n",
       "      <th>18065</th>\n",
       "      <td>1534</td>\n",
       "      <td>Альберт</td>\n",
       "      <td>25</td>\n",
       "      <td>Краснодар</td>\n",
       "      <td>free</td>\n",
       "      <td>0.455671</td>\n",
       "      <td>0.544329</td>\n",
       "      <td>3826.185507</td>\n",
       "      <td>18.435051</td>\n",
       "      <td>2021-11-18</td>\n",
       "      <td>11</td>\n",
       "      <td>8</td>\n",
       "      <td>50</td>\n",
       "      <td>0</td>\n",
       "    </tr>\n",
       "    <tr>\n",
       "      <th>18066</th>\n",
       "      <td>1534</td>\n",
       "      <td>Альберт</td>\n",
       "      <td>25</td>\n",
       "      <td>Краснодар</td>\n",
       "      <td>free</td>\n",
       "      <td>0.455671</td>\n",
       "      <td>0.544329</td>\n",
       "      <td>2902.308661</td>\n",
       "      <td>16.674362</td>\n",
       "      <td>2021-11-27</td>\n",
       "      <td>11</td>\n",
       "      <td>8</td>\n",
       "      <td>50</td>\n",
       "      <td>0</td>\n",
       "    </tr>\n",
       "    <tr>\n",
       "      <th>18067</th>\n",
       "      <td>1534</td>\n",
       "      <td>Альберт</td>\n",
       "      <td>25</td>\n",
       "      <td>Краснодар</td>\n",
       "      <td>free</td>\n",
       "      <td>0.455671</td>\n",
       "      <td>0.544329</td>\n",
       "      <td>2371.711192</td>\n",
       "      <td>15.893917</td>\n",
       "      <td>2021-12-29</td>\n",
       "      <td>12</td>\n",
       "      <td>8</td>\n",
       "      <td>50</td>\n",
       "      <td>0</td>\n",
       "    </tr>\n",
       "  </tbody>\n",
       "</table>\n",
       "<p>11568 rows × 14 columns</p>\n",
       "</div>"
      ],
      "text/plain": [
       "       user_id     name  age       city subscription_type  users_ratio_ultra  \\\n",
       "6500       700    Айдар   22       Омск              free           0.455671   \n",
       "6501       700    Айдар   22       Омск              free           0.455671   \n",
       "6502       700    Айдар   22       Омск              free           0.455671   \n",
       "6503       700    Айдар   22       Омск              free           0.455671   \n",
       "6504       700    Айдар   22       Омск              free           0.455671   \n",
       "...        ...      ...  ...        ...               ...                ...   \n",
       "18063     1534  Альберт   25  Краснодар              free           0.455671   \n",
       "18064     1534  Альберт   25  Краснодар              free           0.455671   \n",
       "18065     1534  Альберт   25  Краснодар              free           0.455671   \n",
       "18066     1534  Альберт   25  Краснодар              free           0.455671   \n",
       "18067     1534  Альберт   25  Краснодар              free           0.455671   \n",
       "\n",
       "       users_ratio_free     distance   duration       date  month  \\\n",
       "6500           0.544329  2515.690719  14.944286 2021-01-02      1   \n",
       "6501           0.544329   846.932642  16.234663 2021-02-01      2   \n",
       "6502           0.544329  4004.434142  20.016628 2021-02-04      2   \n",
       "6503           0.544329  1205.911290   9.782872 2021-02-10      2   \n",
       "6504           0.544329  3047.379435  17.427673 2021-02-14      2   \n",
       "...                 ...          ...        ...        ...    ...   \n",
       "18063          0.544329  3781.098080  19.822962 2021-11-04     11   \n",
       "18064          0.544329  2840.423057  21.409799 2021-11-16     11   \n",
       "18065          0.544329  3826.185507  18.435051 2021-11-18     11   \n",
       "18066          0.544329  2902.308661  16.674362 2021-11-27     11   \n",
       "18067          0.544329  2371.711192  15.893917 2021-12-29     12   \n",
       "\n",
       "       minute_price  start_ride_price  subscription_fee  \n",
       "6500              8                50                 0  \n",
       "6501              8                50                 0  \n",
       "6502              8                50                 0  \n",
       "6503              8                50                 0  \n",
       "6504              8                50                 0  \n",
       "...             ...               ...               ...  \n",
       "18063             8                50                 0  \n",
       "18064             8                50                 0  \n",
       "18065             8                50                 0  \n",
       "18066             8                50                 0  \n",
       "18067             8                50                 0  \n",
       "\n",
       "[11568 rows x 14 columns]"
      ]
     },
     "metadata": {},
     "output_type": "display_data"
    }
   ],
   "source": [
    "data_free = final_data.groupby('subscription_type').get_group('free')\n",
    "display(data_free)"
   ]
  },
  {
   "cell_type": "markdown",
   "id": "bca1491d",
   "metadata": {},
   "source": [
    "**с данными о пользователях с подпиской:**"
   ]
  },
  {
   "cell_type": "code",
   "execution_count": 96,
   "id": "a4cd05a0",
   "metadata": {},
   "outputs": [
    {
     "data": {
      "text/html": [
       "<div>\n",
       "<style scoped>\n",
       "    .dataframe tbody tr th:only-of-type {\n",
       "        vertical-align: middle;\n",
       "    }\n",
       "\n",
       "    .dataframe tbody tr th {\n",
       "        vertical-align: top;\n",
       "    }\n",
       "\n",
       "    .dataframe thead th {\n",
       "        text-align: right;\n",
       "    }\n",
       "</style>\n",
       "<table border=\"1\" class=\"dataframe\">\n",
       "  <thead>\n",
       "    <tr style=\"text-align: right;\">\n",
       "      <th></th>\n",
       "      <th>user_id</th>\n",
       "      <th>name</th>\n",
       "      <th>age</th>\n",
       "      <th>city</th>\n",
       "      <th>subscription_type</th>\n",
       "      <th>users_ratio_ultra</th>\n",
       "      <th>users_ratio_free</th>\n",
       "      <th>distance</th>\n",
       "      <th>duration</th>\n",
       "      <th>date</th>\n",
       "      <th>month</th>\n",
       "      <th>minute_price</th>\n",
       "      <th>start_ride_price</th>\n",
       "      <th>subscription_fee</th>\n",
       "    </tr>\n",
       "  </thead>\n",
       "  <tbody>\n",
       "    <tr>\n",
       "      <th>0</th>\n",
       "      <td>1</td>\n",
       "      <td>Кира</td>\n",
       "      <td>22</td>\n",
       "      <td>Тюмень</td>\n",
       "      <td>ultra</td>\n",
       "      <td>0.455671</td>\n",
       "      <td>0.544329</td>\n",
       "      <td>4409.919140</td>\n",
       "      <td>25.599769</td>\n",
       "      <td>2021-01-01</td>\n",
       "      <td>1</td>\n",
       "      <td>6</td>\n",
       "      <td>0</td>\n",
       "      <td>199</td>\n",
       "    </tr>\n",
       "    <tr>\n",
       "      <th>1</th>\n",
       "      <td>1</td>\n",
       "      <td>Кира</td>\n",
       "      <td>22</td>\n",
       "      <td>Тюмень</td>\n",
       "      <td>ultra</td>\n",
       "      <td>0.455671</td>\n",
       "      <td>0.544329</td>\n",
       "      <td>2617.592153</td>\n",
       "      <td>15.816871</td>\n",
       "      <td>2021-01-18</td>\n",
       "      <td>1</td>\n",
       "      <td>6</td>\n",
       "      <td>0</td>\n",
       "      <td>199</td>\n",
       "    </tr>\n",
       "    <tr>\n",
       "      <th>2</th>\n",
       "      <td>1</td>\n",
       "      <td>Кира</td>\n",
       "      <td>22</td>\n",
       "      <td>Тюмень</td>\n",
       "      <td>ultra</td>\n",
       "      <td>0.455671</td>\n",
       "      <td>0.544329</td>\n",
       "      <td>754.159807</td>\n",
       "      <td>6.232113</td>\n",
       "      <td>2021-04-20</td>\n",
       "      <td>4</td>\n",
       "      <td>6</td>\n",
       "      <td>0</td>\n",
       "      <td>199</td>\n",
       "    </tr>\n",
       "    <tr>\n",
       "      <th>3</th>\n",
       "      <td>1</td>\n",
       "      <td>Кира</td>\n",
       "      <td>22</td>\n",
       "      <td>Тюмень</td>\n",
       "      <td>ultra</td>\n",
       "      <td>0.455671</td>\n",
       "      <td>0.544329</td>\n",
       "      <td>2694.783254</td>\n",
       "      <td>18.511000</td>\n",
       "      <td>2021-08-11</td>\n",
       "      <td>8</td>\n",
       "      <td>6</td>\n",
       "      <td>0</td>\n",
       "      <td>199</td>\n",
       "    </tr>\n",
       "    <tr>\n",
       "      <th>4</th>\n",
       "      <td>1</td>\n",
       "      <td>Кира</td>\n",
       "      <td>22</td>\n",
       "      <td>Тюмень</td>\n",
       "      <td>ultra</td>\n",
       "      <td>0.455671</td>\n",
       "      <td>0.544329</td>\n",
       "      <td>4028.687306</td>\n",
       "      <td>26.265803</td>\n",
       "      <td>2021-08-28</td>\n",
       "      <td>8</td>\n",
       "      <td>6</td>\n",
       "      <td>0</td>\n",
       "      <td>199</td>\n",
       "    </tr>\n",
       "    <tr>\n",
       "      <th>...</th>\n",
       "      <td>...</td>\n",
       "      <td>...</td>\n",
       "      <td>...</td>\n",
       "      <td>...</td>\n",
       "      <td>...</td>\n",
       "      <td>...</td>\n",
       "      <td>...</td>\n",
       "      <td>...</td>\n",
       "      <td>...</td>\n",
       "      <td>...</td>\n",
       "      <td>...</td>\n",
       "      <td>...</td>\n",
       "      <td>...</td>\n",
       "      <td>...</td>\n",
       "    </tr>\n",
       "    <tr>\n",
       "      <th>6495</th>\n",
       "      <td>699</td>\n",
       "      <td>Оксана</td>\n",
       "      <td>22</td>\n",
       "      <td>Москва</td>\n",
       "      <td>ultra</td>\n",
       "      <td>0.455671</td>\n",
       "      <td>0.544329</td>\n",
       "      <td>3973.046497</td>\n",
       "      <td>24.671163</td>\n",
       "      <td>2021-08-29</td>\n",
       "      <td>8</td>\n",
       "      <td>6</td>\n",
       "      <td>0</td>\n",
       "      <td>199</td>\n",
       "    </tr>\n",
       "    <tr>\n",
       "      <th>6496</th>\n",
       "      <td>699</td>\n",
       "      <td>Оксана</td>\n",
       "      <td>22</td>\n",
       "      <td>Москва</td>\n",
       "      <td>ultra</td>\n",
       "      <td>0.455671</td>\n",
       "      <td>0.544329</td>\n",
       "      <td>3288.702563</td>\n",
       "      <td>15.892886</td>\n",
       "      <td>2021-09-12</td>\n",
       "      <td>9</td>\n",
       "      <td>6</td>\n",
       "      <td>0</td>\n",
       "      <td>199</td>\n",
       "    </tr>\n",
       "    <tr>\n",
       "      <th>6497</th>\n",
       "      <td>699</td>\n",
       "      <td>Оксана</td>\n",
       "      <td>22</td>\n",
       "      <td>Москва</td>\n",
       "      <td>ultra</td>\n",
       "      <td>0.455671</td>\n",
       "      <td>0.544329</td>\n",
       "      <td>3076.159348</td>\n",
       "      <td>14.389525</td>\n",
       "      <td>2021-09-26</td>\n",
       "      <td>9</td>\n",
       "      <td>6</td>\n",
       "      <td>0</td>\n",
       "      <td>199</td>\n",
       "    </tr>\n",
       "    <tr>\n",
       "      <th>6498</th>\n",
       "      <td>699</td>\n",
       "      <td>Оксана</td>\n",
       "      <td>22</td>\n",
       "      <td>Москва</td>\n",
       "      <td>ultra</td>\n",
       "      <td>0.455671</td>\n",
       "      <td>0.544329</td>\n",
       "      <td>4707.845501</td>\n",
       "      <td>15.839579</td>\n",
       "      <td>2021-10-17</td>\n",
       "      <td>10</td>\n",
       "      <td>6</td>\n",
       "      <td>0</td>\n",
       "      <td>199</td>\n",
       "    </tr>\n",
       "    <tr>\n",
       "      <th>6499</th>\n",
       "      <td>699</td>\n",
       "      <td>Оксана</td>\n",
       "      <td>22</td>\n",
       "      <td>Москва</td>\n",
       "      <td>ultra</td>\n",
       "      <td>0.455671</td>\n",
       "      <td>0.544329</td>\n",
       "      <td>3202.890770</td>\n",
       "      <td>25.217345</td>\n",
       "      <td>2021-12-03</td>\n",
       "      <td>12</td>\n",
       "      <td>6</td>\n",
       "      <td>0</td>\n",
       "      <td>199</td>\n",
       "    </tr>\n",
       "  </tbody>\n",
       "</table>\n",
       "<p>6500 rows × 14 columns</p>\n",
       "</div>"
      ],
      "text/plain": [
       "      user_id    name  age    city subscription_type  users_ratio_ultra  \\\n",
       "0           1    Кира   22  Тюмень             ultra           0.455671   \n",
       "1           1    Кира   22  Тюмень             ultra           0.455671   \n",
       "2           1    Кира   22  Тюмень             ultra           0.455671   \n",
       "3           1    Кира   22  Тюмень             ultra           0.455671   \n",
       "4           1    Кира   22  Тюмень             ultra           0.455671   \n",
       "...       ...     ...  ...     ...               ...                ...   \n",
       "6495      699  Оксана   22  Москва             ultra           0.455671   \n",
       "6496      699  Оксана   22  Москва             ultra           0.455671   \n",
       "6497      699  Оксана   22  Москва             ultra           0.455671   \n",
       "6498      699  Оксана   22  Москва             ultra           0.455671   \n",
       "6499      699  Оксана   22  Москва             ultra           0.455671   \n",
       "\n",
       "      users_ratio_free     distance   duration       date  month  \\\n",
       "0             0.544329  4409.919140  25.599769 2021-01-01      1   \n",
       "1             0.544329  2617.592153  15.816871 2021-01-18      1   \n",
       "2             0.544329   754.159807   6.232113 2021-04-20      4   \n",
       "3             0.544329  2694.783254  18.511000 2021-08-11      8   \n",
       "4             0.544329  4028.687306  26.265803 2021-08-28      8   \n",
       "...                ...          ...        ...        ...    ...   \n",
       "6495          0.544329  3973.046497  24.671163 2021-08-29      8   \n",
       "6496          0.544329  3288.702563  15.892886 2021-09-12      9   \n",
       "6497          0.544329  3076.159348  14.389525 2021-09-26      9   \n",
       "6498          0.544329  4707.845501  15.839579 2021-10-17     10   \n",
       "6499          0.544329  3202.890770  25.217345 2021-12-03     12   \n",
       "\n",
       "      minute_price  start_ride_price  subscription_fee  \n",
       "0                6                 0               199  \n",
       "1                6                 0               199  \n",
       "2                6                 0               199  \n",
       "3                6                 0               199  \n",
       "4                6                 0               199  \n",
       "...            ...               ...               ...  \n",
       "6495             6                 0               199  \n",
       "6496             6                 0               199  \n",
       "6497             6                 0               199  \n",
       "6498             6                 0               199  \n",
       "6499             6                 0               199  \n",
       "\n",
       "[6500 rows x 14 columns]"
      ]
     },
     "metadata": {},
     "output_type": "display_data"
    }
   ],
   "source": [
    "data_ultra = final_data.groupby('subscription_type').get_group('ultra')\n",
    "display(data_ultra)"
   ]
  },
  {
   "cell_type": "markdown",
   "id": "ccc1082b",
   "metadata": {},
   "source": [
    "**4.3 Визуализируем информацию о расстоянии и времени поездок для пользователей обеих категорий**"
   ]
  },
  {
   "cell_type": "code",
   "execution_count": 97,
   "id": "4361039d",
   "metadata": {},
   "outputs": [
    {
     "data": {
      "image/png": "[encoded data removed]",
      "text/plain": [
       "<Figure size 720x720 with 1 Axes>"
      ]
     },
     "metadata": {
      "needs_background": "light"
     },
     "output_type": "display_data"
    }
   ],
   "source": [
    "data_free.plot(x='distance', y='duration', style='o',xlim=(1000,6000), grid=True, figsize=(10,10))\n",
    "plt.show()"
   ]
  },
  {
   "cell_type": "code",
   "execution_count": 98,
   "id": "e0677365",
   "metadata": {},
   "outputs": [
    {
     "data": {
      "image/png": "[encoded data removed]",
      "text/plain": [
       "<Figure size 720x720 with 1 Axes>"
      ]
     },
     "metadata": {
      "needs_background": "light"
     },
     "output_type": "display_data"
    }
   ],
   "source": [
    "data_ultra.plot(x='distance', y='duration', style='o',xlim=(1000,6000), grid=True, figsize=(10,10))\n",
    "plt.show()"
   ]
  },
  {
   "cell_type": "markdown",
   "id": "9051b2cd",
   "metadata": {},
   "source": [
    "Вполне логично: чем меньше времени идёт сессия, тем меньшее расстояние пройдено, больше времени = большее расстояние."
   ]
  },
  {
   "cell_type": "markdown",
   "id": "402d620f",
   "metadata": {},
   "source": [
    "### Подсчёт выручки"
   ]
  },
  {
   "cell_type": "markdown",
   "id": "1696064b",
   "metadata": {},
   "source": [
    "**5.1 Создаём датафрейм с агрегированными данными о поездках на основе датафрейма с объединёнными данными из шага 4: находим суммарное расстояние, количество поездок и суммарное время для каждого пользователя за каждый месяц**"
   ]
  },
  {
   "cell_type": "code",
   "execution_count": 99,
   "id": "53049e0a",
   "metadata": {},
   "outputs": [
    {
     "data": {
      "text/html": [
       "<div>\n",
       "<style scoped>\n",
       "    .dataframe tbody tr th:only-of-type {\n",
       "        vertical-align: middle;\n",
       "    }\n",
       "\n",
       "    .dataframe tbody tr th {\n",
       "        vertical-align: top;\n",
       "    }\n",
       "\n",
       "    .dataframe thead th {\n",
       "        text-align: right;\n",
       "    }\n",
       "</style>\n",
       "<table border=\"1\" class=\"dataframe\">\n",
       "  <thead>\n",
       "    <tr style=\"text-align: right;\">\n",
       "      <th></th>\n",
       "      <th>user_id</th>\n",
       "      <th>month</th>\n",
       "      <th>total_distance</th>\n",
       "      <th>total_duration</th>\n",
       "      <th>rides_count</th>\n",
       "      <th>subscription_type</th>\n",
       "    </tr>\n",
       "  </thead>\n",
       "  <tbody>\n",
       "    <tr>\n",
       "      <th>0</th>\n",
       "      <td>1</td>\n",
       "      <td>1</td>\n",
       "      <td>7027.511294</td>\n",
       "      <td>42.0</td>\n",
       "      <td>2</td>\n",
       "      <td>ultra</td>\n",
       "    </tr>\n",
       "    <tr>\n",
       "      <th>1</th>\n",
       "      <td>1</td>\n",
       "      <td>4</td>\n",
       "      <td>754.159807</td>\n",
       "      <td>7.0</td>\n",
       "      <td>1</td>\n",
       "      <td>ultra</td>\n",
       "    </tr>\n",
       "    <tr>\n",
       "      <th>2</th>\n",
       "      <td>1</td>\n",
       "      <td>8</td>\n",
       "      <td>6723.470560</td>\n",
       "      <td>45.0</td>\n",
       "      <td>2</td>\n",
       "      <td>ultra</td>\n",
       "    </tr>\n",
       "    <tr>\n",
       "      <th>3</th>\n",
       "      <td>1</td>\n",
       "      <td>10</td>\n",
       "      <td>5809.911100</td>\n",
       "      <td>32.0</td>\n",
       "      <td>2</td>\n",
       "      <td>ultra</td>\n",
       "    </tr>\n",
       "    <tr>\n",
       "      <th>4</th>\n",
       "      <td>1</td>\n",
       "      <td>11</td>\n",
       "      <td>7003.499363</td>\n",
       "      <td>54.0</td>\n",
       "      <td>3</td>\n",
       "      <td>ultra</td>\n",
       "    </tr>\n",
       "    <tr>\n",
       "      <th>...</th>\n",
       "      <td>...</td>\n",
       "      <td>...</td>\n",
       "      <td>...</td>\n",
       "      <td>...</td>\n",
       "      <td>...</td>\n",
       "      <td>...</td>\n",
       "    </tr>\n",
       "    <tr>\n",
       "      <th>11326</th>\n",
       "      <td>1534</td>\n",
       "      <td>6</td>\n",
       "      <td>3409.468534</td>\n",
       "      <td>25.0</td>\n",
       "      <td>2</td>\n",
       "      <td>free</td>\n",
       "    </tr>\n",
       "    <tr>\n",
       "      <th>11327</th>\n",
       "      <td>1534</td>\n",
       "      <td>8</td>\n",
       "      <td>7622.453034</td>\n",
       "      <td>48.0</td>\n",
       "      <td>2</td>\n",
       "      <td>free</td>\n",
       "    </tr>\n",
       "    <tr>\n",
       "      <th>11328</th>\n",
       "      <td>1534</td>\n",
       "      <td>9</td>\n",
       "      <td>4928.173852</td>\n",
       "      <td>23.0</td>\n",
       "      <td>1</td>\n",
       "      <td>free</td>\n",
       "    </tr>\n",
       "    <tr>\n",
       "      <th>11329</th>\n",
       "      <td>1534</td>\n",
       "      <td>11</td>\n",
       "      <td>13350.015305</td>\n",
       "      <td>77.0</td>\n",
       "      <td>4</td>\n",
       "      <td>free</td>\n",
       "    </tr>\n",
       "    <tr>\n",
       "      <th>11330</th>\n",
       "      <td>1534</td>\n",
       "      <td>12</td>\n",
       "      <td>2371.711192</td>\n",
       "      <td>16.0</td>\n",
       "      <td>1</td>\n",
       "      <td>free</td>\n",
       "    </tr>\n",
       "  </tbody>\n",
       "</table>\n",
       "<p>11331 rows × 6 columns</p>\n",
       "</div>"
      ],
      "text/plain": [
       "       user_id  month  total_distance  total_duration  rides_count  \\\n",
       "0            1      1     7027.511294            42.0            2   \n",
       "1            1      4      754.159807             7.0            1   \n",
       "2            1      8     6723.470560            45.0            2   \n",
       "3            1     10     5809.911100            32.0            2   \n",
       "4            1     11     7003.499363            54.0            3   \n",
       "...        ...    ...             ...             ...          ...   \n",
       "11326     1534      6     3409.468534            25.0            2   \n",
       "11327     1534      8     7622.453034            48.0            2   \n",
       "11328     1534      9     4928.173852            23.0            1   \n",
       "11329     1534     11    13350.015305            77.0            4   \n",
       "11330     1534     12     2371.711192            16.0            1   \n",
       "\n",
       "      subscription_type  \n",
       "0                 ultra  \n",
       "1                 ultra  \n",
       "2                 ultra  \n",
       "3                 ultra  \n",
       "4                 ultra  \n",
       "...                 ...  \n",
       "11326              free  \n",
       "11327              free  \n",
       "11328              free  \n",
       "11329              free  \n",
       "11330              free  \n",
       "\n",
       "[11331 rows x 6 columns]"
      ]
     },
     "metadata": {},
     "output_type": "display_data"
    }
   ],
   "source": [
    "agg_data = final_data.pivot_table(index=['user_id', 'month'], values = ['distance', 'duration', 'name', 'subscription_type'], aggfunc={'distance':'sum', 'duration':'sum', 'name':'count', 'subscription_type': 'min'})\n",
    "agg_data.columns = ['total_distance', 'total_duration','rides_count', 'subscription_type']\n",
    "agg_data = agg_data.reset_index()\n",
    "agg_data['total_duration']= np.ceil(agg_data['total_duration'])\n",
    "display(agg_data)"
   ]
  },
  {
   "cell_type": "markdown",
   "id": "46fe2fdb",
   "metadata": {},
   "source": [
    "**5.2 В этот же датафрейм добавляем столбец с помесячной выручкой, которую принёс каждый пользователь. Для этого обращаемся к информации об условиях оплаты для подписчиков и тех, у кого нет подписки**"
   ]
  },
  {
   "cell_type": "code",
   "execution_count": 100,
   "id": "c202e9c4",
   "metadata": {},
   "outputs": [
    {
     "data": {
      "text/html": [
       "<div>\n",
       "<style scoped>\n",
       "    .dataframe tbody tr th:only-of-type {\n",
       "        vertical-align: middle;\n",
       "    }\n",
       "\n",
       "    .dataframe tbody tr th {\n",
       "        vertical-align: top;\n",
       "    }\n",
       "\n",
       "    .dataframe thead th {\n",
       "        text-align: right;\n",
       "    }\n",
       "</style>\n",
       "<table border=\"1\" class=\"dataframe\">\n",
       "  <thead>\n",
       "    <tr style=\"text-align: right;\">\n",
       "      <th></th>\n",
       "      <th>user_id</th>\n",
       "      <th>month</th>\n",
       "      <th>total_distance</th>\n",
       "      <th>total_duration</th>\n",
       "      <th>rides_count</th>\n",
       "      <th>subscription_type</th>\n",
       "      <th>income</th>\n",
       "    </tr>\n",
       "  </thead>\n",
       "  <tbody>\n",
       "    <tr>\n",
       "      <th>0</th>\n",
       "      <td>1</td>\n",
       "      <td>1</td>\n",
       "      <td>7027.511294</td>\n",
       "      <td>42.0</td>\n",
       "      <td>2</td>\n",
       "      <td>ultra</td>\n",
       "      <td>451.0</td>\n",
       "    </tr>\n",
       "    <tr>\n",
       "      <th>1</th>\n",
       "      <td>1</td>\n",
       "      <td>4</td>\n",
       "      <td>754.159807</td>\n",
       "      <td>7.0</td>\n",
       "      <td>1</td>\n",
       "      <td>ultra</td>\n",
       "      <td>241.0</td>\n",
       "    </tr>\n",
       "    <tr>\n",
       "      <th>2</th>\n",
       "      <td>1</td>\n",
       "      <td>8</td>\n",
       "      <td>6723.470560</td>\n",
       "      <td>45.0</td>\n",
       "      <td>2</td>\n",
       "      <td>ultra</td>\n",
       "      <td>469.0</td>\n",
       "    </tr>\n",
       "    <tr>\n",
       "      <th>3</th>\n",
       "      <td>1</td>\n",
       "      <td>10</td>\n",
       "      <td>5809.911100</td>\n",
       "      <td>32.0</td>\n",
       "      <td>2</td>\n",
       "      <td>ultra</td>\n",
       "      <td>391.0</td>\n",
       "    </tr>\n",
       "    <tr>\n",
       "      <th>4</th>\n",
       "      <td>1</td>\n",
       "      <td>11</td>\n",
       "      <td>7003.499363</td>\n",
       "      <td>54.0</td>\n",
       "      <td>3</td>\n",
       "      <td>ultra</td>\n",
       "      <td>523.0</td>\n",
       "    </tr>\n",
       "    <tr>\n",
       "      <th>...</th>\n",
       "      <td>...</td>\n",
       "      <td>...</td>\n",
       "      <td>...</td>\n",
       "      <td>...</td>\n",
       "      <td>...</td>\n",
       "      <td>...</td>\n",
       "      <td>...</td>\n",
       "    </tr>\n",
       "    <tr>\n",
       "      <th>11326</th>\n",
       "      <td>1534</td>\n",
       "      <td>6</td>\n",
       "      <td>3409.468534</td>\n",
       "      <td>25.0</td>\n",
       "      <td>2</td>\n",
       "      <td>free</td>\n",
       "      <td>300.0</td>\n",
       "    </tr>\n",
       "    <tr>\n",
       "      <th>11327</th>\n",
       "      <td>1534</td>\n",
       "      <td>8</td>\n",
       "      <td>7622.453034</td>\n",
       "      <td>48.0</td>\n",
       "      <td>2</td>\n",
       "      <td>free</td>\n",
       "      <td>484.0</td>\n",
       "    </tr>\n",
       "    <tr>\n",
       "      <th>11328</th>\n",
       "      <td>1534</td>\n",
       "      <td>9</td>\n",
       "      <td>4928.173852</td>\n",
       "      <td>23.0</td>\n",
       "      <td>1</td>\n",
       "      <td>free</td>\n",
       "      <td>234.0</td>\n",
       "    </tr>\n",
       "    <tr>\n",
       "      <th>11329</th>\n",
       "      <td>1534</td>\n",
       "      <td>11</td>\n",
       "      <td>13350.015305</td>\n",
       "      <td>77.0</td>\n",
       "      <td>4</td>\n",
       "      <td>free</td>\n",
       "      <td>816.0</td>\n",
       "    </tr>\n",
       "    <tr>\n",
       "      <th>11330</th>\n",
       "      <td>1534</td>\n",
       "      <td>12</td>\n",
       "      <td>2371.711192</td>\n",
       "      <td>16.0</td>\n",
       "      <td>1</td>\n",
       "      <td>free</td>\n",
       "      <td>178.0</td>\n",
       "    </tr>\n",
       "  </tbody>\n",
       "</table>\n",
       "<p>11331 rows × 7 columns</p>\n",
       "</div>"
      ],
      "text/plain": [
       "       user_id  month  total_distance  total_duration  rides_count  \\\n",
       "0            1      1     7027.511294            42.0            2   \n",
       "1            1      4      754.159807             7.0            1   \n",
       "2            1      8     6723.470560            45.0            2   \n",
       "3            1     10     5809.911100            32.0            2   \n",
       "4            1     11     7003.499363            54.0            3   \n",
       "...        ...    ...             ...             ...          ...   \n",
       "11326     1534      6     3409.468534            25.0            2   \n",
       "11327     1534      8     7622.453034            48.0            2   \n",
       "11328     1534      9     4928.173852            23.0            1   \n",
       "11329     1534     11    13350.015305            77.0            4   \n",
       "11330     1534     12     2371.711192            16.0            1   \n",
       "\n",
       "      subscription_type  income  \n",
       "0                 ultra   451.0  \n",
       "1                 ultra   241.0  \n",
       "2                 ultra   469.0  \n",
       "3                 ultra   391.0  \n",
       "4                 ultra   523.0  \n",
       "...                 ...     ...  \n",
       "11326              free   300.0  \n",
       "11327              free   484.0  \n",
       "11328              free   234.0  \n",
       "11329              free   816.0  \n",
       "11330              free   178.0  \n",
       "\n",
       "[11331 rows x 7 columns]"
      ]
     },
     "metadata": {},
     "output_type": "display_data"
    }
   ],
   "source": [
    "def income_func (row):\n",
    "    if row['subscription_type'] == 'ultra':\n",
    "        return 6*row['total_duration']+199\n",
    "    if row['subscription_type'] == 'free':\n",
    "        return 8*row['total_duration']+ 50*row['rides_count']\n",
    "\n",
    "agg_data['income'] = agg_data.apply(income_func, axis=1)  \n",
    "display(agg_data)"
   ]
  },
  {
   "cell_type": "markdown",
   "id": "41545ac0",
   "metadata": {},
   "source": [
    "### Проверка гипотез"
   ]
  },
  {
   "cell_type": "markdown",
   "id": "42ca1389",
   "metadata": {},
   "source": [
    "**6.1 Тратят ли пользователи с подпиской больше времени на поездки? Проверяем гипотезу. Используем исходные данные о продолжительности каждой сессии — отдельно для подписчиков и тех, у кого нет подписки.**\n",
    "\n",
    "H0 - data_ultra['duration'] = data_free['duration] (пользователи с подпиской тратят столько же времени на поездку, как и пользователи без подписки)\n",
    "\n",
    "H1 - data_ultra['duration'] != data_free['duration]; data_ultra['duration'] > data_free['duration] - (пользователи c подпиской по времени поездки различаются с пользователями без подписки; пользователи с подпиской тратят больше времени на поездку, чем пользователи без подписки)"
   ]
  },
  {
   "cell_type": "code",
   "execution_count": 77,
   "id": "23ea867b",
   "metadata": {},
   "outputs": [
    {
     "name": "stdout",
     "output_type": "stream",
     "text": [
      "p-value: 1.2804098316645618e-34\n",
      "Отвергаем гипотезу\n"
     ]
    }
   ],
   "source": [
    "alpha = 0.05\n",
    "first_group = data_ultra['duration']\n",
    "second_group = data_free['duration']\n",
    "results = st.ttest_ind(first_group, second_group, alternative='greater')\n",
    "print(f'p-value: {results.pvalue}')\n",
    "if results.pvalue < alpha:\n",
    "    print('Отвергаем гипотезу')\n",
    "else:\n",
    "    print('Не получилось отвергнуть гипотезу')"
   ]
  },
  {
   "cell_type": "markdown",
   "id": "ca3798c0",
   "metadata": {},
   "source": [
    "Получается, что пользователи с подпиской, скорее всего, тратят больше времени на поездку, чем пользователи без подписки."
   ]
  },
  {
   "cell_type": "markdown",
   "id": "0ba063dc",
   "metadata": {},
   "source": [
    "**6.2 Расстояние одной поездки в 3130 метров — оптимальное с точки зрения износа самоката. Можно ли сказать, что расстояние, которое проезжают пользователи с подпиской за одну поездку, не превышает 3130 метров? Проверяем гипотезу и делаем выводы.**\n",
    "\n",
    "H0 - data_ultra['distance'] = 3130 (пользователи с подпиской проезжают за одну поездку 3130 метров)\n",
    "\n",
    "H1 - data_ultra['distance'] < 3130 ((пользователи с подпиской проезжают за одну поездку расстояние, не превышающее 3130 метров)\n"
   ]
  },
  {
   "cell_type": "code",
   "execution_count": 101,
   "id": "6d671754",
   "metadata": {},
   "outputs": [
    {
     "name": "stdout",
     "output_type": "stream",
     "text": [
      "p-value: 0.08046311521502146\n",
      "Не получилось отвергнуть гипотезу\n"
     ]
    }
   ],
   "source": [
    "distance_ultra = data_ultra['distance']\n",
    "optimal_value = 3130\n",
    "alpha = 0.05\n",
    "results = st.ttest_1samp(distance_ultra, optimal_value, alternative='less')\n",
    "print(f'p-value: {results.pvalue}')\n",
    "if results.pvalue < alpha:\n",
    "    print('Отвергаем гипотезу')\n",
    "else:\n",
    "    print('Не получилось отвергнуть гипотезу')"
   ]
  },
  {
   "cell_type": "markdown",
   "id": "62173479",
   "metadata": {},
   "source": [
    "Сказать, что пользователи с подпиской проезжают за одну поездку расстояние, не превышающее 3130 метров, нельзя."
   ]
  },
  {
   "cell_type": "markdown",
   "id": "5d9c6078",
   "metadata": {},
   "source": [
    "**6.3. Проверяем гипотезу о том, будет ли помесячная выручка от пользователей с подпиской по месяцам выше, чем выручка от пользователей без подписки. Сделаем вывод.**\n",
    "\n",
    "H0 - income_ultra = income_free (помесячная выручка от пользователей с подпиской равна помесячной выручке от пользователей без подписки)\n",
    "\n",
    "H1 - income_ultra != income_free; income_ultra > income_free ((помесячная выручка от пользователей с подпиской различается с помесячной выручкой пользователей без подписки; помесячная выручка пользователей с подпиской больше, чем помесячная выручка пользователей без подписки)"
   ]
  },
  {
   "cell_type": "code",
   "execution_count": 103,
   "id": "4764f758",
   "metadata": {},
   "outputs": [
    {
     "name": "stdout",
     "output_type": "stream",
     "text": [
      "0       451.0\n",
      "1       241.0\n",
      "2       469.0\n",
      "3       391.0\n",
      "4       523.0\n",
      "        ...  \n",
      "4528    301.0\n",
      "4529    469.0\n",
      "4530    385.0\n",
      "4531    295.0\n",
      "4532    355.0\n",
      "Name: income, Length: 4533, dtype: float64\n",
      "4533     170.0\n",
      "4534     938.0\n",
      "4535     202.0\n",
      "4536     178.0\n",
      "4537     332.0\n",
      "         ...  \n",
      "11326    300.0\n",
      "11327    484.0\n",
      "11328    234.0\n",
      "11329    816.0\n",
      "11330    178.0\n",
      "Name: income, Length: 6798, dtype: float64\n"
     ]
    }
   ],
   "source": [
    "income_ultra = agg_data.groupby('subscription_type').get_group('ultra')\n",
    "income_ultra = income_ultra['income']\n",
    "print(income_ultra)\n",
    "income_free = agg_data.groupby('subscription_type').get_group('free')\n",
    "income_free = income_free['income']\n",
    "print(income_free)"
   ]
  },
  {
   "cell_type": "code",
   "execution_count": 104,
   "id": "0a8ce8df",
   "metadata": {},
   "outputs": [
    {
     "name": "stdout",
     "output_type": "stream",
     "text": [
      "p-value:2.8130926188487286e-35\n",
      "Отвергаем гипотезу\n"
     ]
    }
   ],
   "source": [
    "alpha= 0.05\n",
    "results = st.ttest_ind(income_ultra, income_free, alternative = 'greater')\n",
    "print(f'p-value:{results.pvalue}')\n",
    "if results.pvalue < alpha:\n",
    "    print('Отвергаем гипотезу')\n",
    "else:\n",
    "    print('Не получилось отвергнуть гипотезу')"
   ]
  },
  {
   "cell_type": "markdown",
   "id": "fbc0656c",
   "metadata": {},
   "source": [
    "Получается, что помесячная выручка от пользователей с подпиской больше, чем помесячная выручка от пользователей без подписки. "
   ]
  },
  {
   "cell_type": "markdown",
   "id": "f69ac115",
   "metadata": {},
   "source": [
    "**6.4. Ситуация: техническая команда сервиса обновила сервера, с которыми взаимодействует мобильное приложение. Она надеется, что из-за этого количество обращений в техподдержку значимо снизилось. Некоторый файл содержит для каждого пользователя данные о количестве обращений до обновления и после него. Вопрос: какой тест вам понадобился бы для проверки этой гипотезы?**\n",
    "\n",
    "Ответ: это гипотеза о равенстве средних для зависимых (парных) выборок, будет применён ttest с двумя параметрами: наборы данных до и после обновления:\n",
    "\n",
    "results = st.ttest_rel(before, after)"
   ]
  },
  {
   "cell_type": "markdown",
   "id": "a4cf9d3a",
   "metadata": {},
   "source": [
    "### Вывод"
   ]
  },
  {
   "cell_type": "markdown",
   "id": "91a490ae",
   "metadata": {},
   "source": [
    "Были проанализированы данные о пользователях и их поездках на самокате GoFast из нескольких городов.\n",
    "\n",
    "В результате исследования было выявлено, что чаще всего самокатами GoFast пользуются в городе Пятигорске, используют подписку Ultra 45,6% людей, чаще всего пользователями приложения являются люди в возрасте 24-25 лет, чаще всего расстояние, которое они проезжают на самокате, это 3000-3500 метров, а длительность сессии на самокате чаще всего равна 16-21 минут. \n",
    "\n",
    "В результате проверок нескольких гипотез стало понятно, что:\n",
    "\n",
    "1) пользователи мобильного приложения GoFast с подпиской Ultra, скорее всего, тратят больше времени на поездку, чем пользователи без подписки;\n",
    "\n",
    "2) пользователи мобильного приложения GoFast с подпиской Ultra проезжают за одну поездку расстояние, оптимальное с точки зрения износа самоката - 3130 метров;\n",
    "\n",
    "3) помесячная выручка от пользователей мобильного приложения GoFast с подпиской Ultra больше, чем помесячная выручка от пользователей без подписки. \n",
    "\n",
    "А это значит, что продакт-менеджеры сервиса могут проводить различные акции для увеличения количества пользователей с подпиской, что повлечёт за собой большую помесячную выручку для GoFast.\n"
   ]
  },
  {
   "cell_type": "code",
   "execution_count": null,
   "id": "9351d109",
   "metadata": {},
   "outputs": [],
   "source": []
  }
 ],
 "metadata": {
  "ExecuteTimeLog": [
   {
    "duration": 52,
    "start_time": "2023-06-05T12:34:18.012Z"
   },
   {
    "duration": 408,
    "start_time": "2023-06-05T12:34:23.673Z"
   },
   {
    "duration": 390,
    "start_time": "2023-06-05T12:34:25.597Z"
   },
   {
    "duration": 56,
    "start_time": "2023-06-05T12:34:26.383Z"
   },
   {
    "duration": 33,
    "start_time": "2023-06-05T12:34:56.146Z"
   },
   {
    "duration": 8,
    "start_time": "2023-06-05T12:35:06.456Z"
   },
   {
    "duration": 3,
    "start_time": "2023-06-05T12:35:14.073Z"
   },
   {
    "duration": 37,
    "start_time": "2023-06-05T12:35:17.098Z"
   },
   {
    "duration": 16,
    "start_time": "2023-06-05T12:35:17.808Z"
   },
   {
    "duration": 9,
    "start_time": "2023-06-05T12:35:18.463Z"
   },
   {
    "duration": 8,
    "start_time": "2023-06-05T12:35:40.968Z"
   },
   {
    "duration": 6,
    "start_time": "2023-06-05T12:36:02.532Z"
   },
   {
    "duration": 6,
    "start_time": "2023-06-05T12:36:18.934Z"
   },
   {
    "duration": 7,
    "start_time": "2023-06-05T12:36:31.486Z"
   },
   {
    "duration": 6,
    "start_time": "2023-06-05T12:36:38.602Z"
   },
   {
    "duration": 8,
    "start_time": "2023-06-05T12:36:45.529Z"
   },
   {
    "duration": 7,
    "start_time": "2023-06-05T12:37:02.812Z"
   },
   {
    "duration": 39,
    "start_time": "2023-06-05T12:40:39.332Z"
   },
   {
    "duration": 26,
    "start_time": "2023-06-05T12:40:40.426Z"
   },
   {
    "duration": 7,
    "start_time": "2023-06-05T12:40:46.905Z"
   },
   {
    "duration": 41,
    "start_time": "2023-06-05T12:42:42.118Z"
   },
   {
    "duration": 28,
    "start_time": "2023-06-05T12:42:43.211Z"
   },
   {
    "duration": 7,
    "start_time": "2023-06-05T12:42:44.156Z"
   },
   {
    "duration": 3,
    "start_time": "2023-06-05T12:44:26.066Z"
   },
   {
    "duration": 2,
    "start_time": "2023-06-05T12:45:01.629Z"
   },
   {
    "duration": 126,
    "start_time": "2023-06-05T12:47:09.766Z"
   },
   {
    "duration": 72,
    "start_time": "2023-06-05T12:47:24.603Z"
   },
   {
    "duration": 73,
    "start_time": "2023-06-05T12:47:53.838Z"
   },
   {
    "duration": 73,
    "start_time": "2023-06-05T12:49:09.072Z"
   },
   {
    "duration": 75,
    "start_time": "2023-06-05T12:49:12.004Z"
   },
   {
    "duration": 73,
    "start_time": "2023-06-05T12:49:32.728Z"
   },
   {
    "duration": 76,
    "start_time": "2023-06-05T12:50:18.718Z"
   },
   {
    "duration": 75,
    "start_time": "2023-06-05T12:50:32.359Z"
   },
   {
    "duration": 87,
    "start_time": "2023-06-05T12:50:58.172Z"
   },
   {
    "duration": 75,
    "start_time": "2023-06-05T12:51:05.530Z"
   },
   {
    "duration": 77,
    "start_time": "2023-06-05T12:51:17.652Z"
   },
   {
    "duration": 70,
    "start_time": "2023-06-05T12:51:24.579Z"
   },
   {
    "duration": 74,
    "start_time": "2023-06-05T12:51:31.339Z"
   },
   {
    "duration": 82,
    "start_time": "2023-06-05T12:52:12.808Z"
   },
   {
    "duration": 76,
    "start_time": "2023-06-05T12:52:26.769Z"
   },
   {
    "duration": 71,
    "start_time": "2023-06-05T12:52:35.396Z"
   },
   {
    "duration": 14,
    "start_time": "2023-06-05T12:52:42.996Z"
   },
   {
    "duration": 18,
    "start_time": "2023-06-05T12:53:10.425Z"
   },
   {
    "duration": 12,
    "start_time": "2023-06-05T12:53:35.849Z"
   },
   {
    "duration": 16,
    "start_time": "2023-06-05T12:53:45.235Z"
   },
   {
    "duration": 15,
    "start_time": "2023-06-05T12:53:57.850Z"
   },
   {
    "duration": 16,
    "start_time": "2023-06-05T12:54:05.690Z"
   },
   {
    "duration": 68,
    "start_time": "2023-06-05T12:55:30.438Z"
   },
   {
    "duration": 17,
    "start_time": "2023-06-05T12:55:31.674Z"
   },
   {
    "duration": 15,
    "start_time": "2023-06-05T12:55:34.167Z"
   },
   {
    "duration": 13,
    "start_time": "2023-06-05T12:55:35.417Z"
   },
   {
    "duration": 15,
    "start_time": "2023-06-05T12:56:17.306Z"
   },
   {
    "duration": 21,
    "start_time": "2023-06-05T12:56:48.976Z"
   },
   {
    "duration": 15,
    "start_time": "2023-06-05T12:57:06.446Z"
   },
   {
    "duration": 15,
    "start_time": "2023-06-05T12:57:22.913Z"
   },
   {
    "duration": 540,
    "start_time": "2023-06-06T09:39:08.366Z"
   },
   {
    "duration": 14,
    "start_time": "2023-06-06T09:39:11.910Z"
   },
   {
    "duration": 14,
    "start_time": "2023-06-06T09:39:52.248Z"
   },
   {
    "duration": 13,
    "start_time": "2023-06-06T09:40:01.730Z"
   },
   {
    "duration": 8,
    "start_time": "2023-06-06T09:43:48.142Z"
   },
   {
    "duration": 17,
    "start_time": "2023-06-06T09:44:33.572Z"
   },
   {
    "duration": 62,
    "start_time": "2023-06-06T09:47:12.220Z"
   },
   {
    "duration": 18,
    "start_time": "2023-06-06T09:47:41.743Z"
   },
   {
    "duration": 5,
    "start_time": "2023-06-06T09:50:28.852Z"
   },
   {
    "duration": 8,
    "start_time": "2023-06-06T09:50:55.173Z"
   },
   {
    "duration": 9,
    "start_time": "2023-06-06T09:51:18.844Z"
   },
   {
    "duration": 12,
    "start_time": "2023-06-06T09:51:58.178Z"
   },
   {
    "duration": 12,
    "start_time": "2023-06-06T09:52:29.643Z"
   },
   {
    "duration": 14,
    "start_time": "2023-06-06T09:52:59.168Z"
   },
   {
    "duration": 12,
    "start_time": "2023-06-06T09:53:27.209Z"
   },
   {
    "duration": 11,
    "start_time": "2023-06-06T09:53:40.593Z"
   },
   {
    "duration": 4,
    "start_time": "2023-06-06T09:53:49.333Z"
   },
   {
    "duration": 13,
    "start_time": "2023-06-06T09:54:37.776Z"
   },
   {
    "duration": 66,
    "start_time": "2023-06-06T09:56:13.590Z"
   },
   {
    "duration": 4,
    "start_time": "2023-06-06T09:57:49.885Z"
   },
   {
    "duration": 4,
    "start_time": "2023-06-06T09:58:22.081Z"
   },
   {
    "duration": 4,
    "start_time": "2023-06-06T09:58:39.521Z"
   },
   {
    "duration": 4,
    "start_time": "2023-06-06T09:59:41.658Z"
   },
   {
    "duration": 10,
    "start_time": "2023-06-06T10:01:35.795Z"
   },
   {
    "duration": 7,
    "start_time": "2023-06-06T10:01:44.992Z"
   },
   {
    "duration": 65,
    "start_time": "2023-06-06T10:07:12.191Z"
   },
   {
    "duration": 12,
    "start_time": "2023-06-06T10:07:14.257Z"
   },
   {
    "duration": 14,
    "start_time": "2023-06-06T10:07:18.549Z"
   },
   {
    "duration": 17,
    "start_time": "2023-06-06T10:07:21.843Z"
   },
   {
    "duration": 14,
    "start_time": "2023-06-06T10:07:27.494Z"
   },
   {
    "duration": 19,
    "start_time": "2023-06-06T10:08:24.744Z"
   },
   {
    "duration": 13,
    "start_time": "2023-06-06T10:09:01.827Z"
   },
   {
    "duration": 18,
    "start_time": "2023-06-06T10:10:06.241Z"
   },
   {
    "duration": 13,
    "start_time": "2023-06-06T10:14:09.309Z"
   },
   {
    "duration": 8,
    "start_time": "2023-06-06T10:14:20.068Z"
   },
   {
    "duration": 21,
    "start_time": "2023-06-06T10:15:04.234Z"
   },
   {
    "duration": 4,
    "start_time": "2023-06-06T10:15:49.412Z"
   },
   {
    "duration": 63,
    "start_time": "2023-06-06T10:37:06.589Z"
   },
   {
    "duration": 13,
    "start_time": "2023-06-06T10:37:09.331Z"
   },
   {
    "duration": 15,
    "start_time": "2023-06-06T10:37:16.076Z"
   },
   {
    "duration": 13,
    "start_time": "2023-06-06T10:37:19.393Z"
   },
   {
    "duration": 14,
    "start_time": "2023-06-06T10:37:24.417Z"
   },
   {
    "duration": 11,
    "start_time": "2023-06-06T10:37:29.918Z"
   },
   {
    "duration": 4,
    "start_time": "2023-06-06T10:37:33.909Z"
   },
   {
    "duration": 63,
    "start_time": "2023-06-06T10:39:13.940Z"
   },
   {
    "duration": 14,
    "start_time": "2023-06-06T10:39:17.111Z"
   },
   {
    "duration": 14,
    "start_time": "2023-06-06T10:39:19.626Z"
   },
   {
    "duration": 12,
    "start_time": "2023-06-06T10:39:22.440Z"
   },
   {
    "duration": 12,
    "start_time": "2023-06-06T10:39:26.037Z"
   },
   {
    "duration": 11,
    "start_time": "2023-06-06T10:39:28.232Z"
   },
   {
    "duration": 5,
    "start_time": "2023-06-06T10:39:30.901Z"
   },
   {
    "duration": 615,
    "start_time": "2023-06-06T10:41:19.566Z"
   },
   {
    "duration": 129,
    "start_time": "2023-06-06T10:41:31.866Z"
   },
   {
    "duration": 245,
    "start_time": "2023-06-06T10:41:37.933Z"
   },
   {
    "duration": 125,
    "start_time": "2023-06-06T10:41:46.707Z"
   },
   {
    "duration": 41,
    "start_time": "2023-06-06T11:00:13.220Z"
   },
   {
    "duration": 6,
    "start_time": "2023-06-06T11:00:44.813Z"
   },
   {
    "duration": 9,
    "start_time": "2023-06-06T11:02:42.364Z"
   },
   {
    "duration": 9,
    "start_time": "2023-06-06T11:02:53.603Z"
   },
   {
    "duration": 4,
    "start_time": "2023-06-06T11:03:06.045Z"
   },
   {
    "duration": 5,
    "start_time": "2023-06-06T11:03:26.674Z"
   },
   {
    "duration": 165,
    "start_time": "2023-06-06T11:07:17.101Z"
   },
   {
    "duration": 371,
    "start_time": "2023-06-06T11:07:27.293Z"
   },
   {
    "duration": 32,
    "start_time": "2023-06-06T11:07:35.613Z"
   },
   {
    "duration": 140,
    "start_time": "2023-06-06T11:08:02.499Z"
   },
   {
    "duration": 22,
    "start_time": "2023-06-06T11:08:37.114Z"
   },
   {
    "duration": 139,
    "start_time": "2023-06-06T11:10:42.602Z"
   },
   {
    "duration": 285,
    "start_time": "2023-06-06T11:10:52.309Z"
   },
   {
    "duration": 161,
    "start_time": "2023-06-06T11:11:05.417Z"
   },
   {
    "duration": 171,
    "start_time": "2023-06-06T11:14:15.706Z"
   },
   {
    "duration": 122,
    "start_time": "2023-06-06T11:14:22.505Z"
   },
   {
    "duration": 229,
    "start_time": "2023-06-06T11:14:27.701Z"
   },
   {
    "duration": 183,
    "start_time": "2023-06-06T11:14:33.905Z"
   },
   {
    "duration": 169,
    "start_time": "2023-06-06T11:14:40.096Z"
   },
   {
    "duration": 113,
    "start_time": "2023-06-06T11:16:57.975Z"
   },
   {
    "duration": 177,
    "start_time": "2023-06-06T11:17:07.217Z"
   },
   {
    "duration": 215,
    "start_time": "2023-06-06T11:17:12.309Z"
   },
   {
    "duration": 126,
    "start_time": "2023-06-06T11:17:19.850Z"
   },
   {
    "duration": 1318,
    "start_time": "2023-06-06T11:17:38.689Z"
   },
   {
    "duration": 128,
    "start_time": "2023-06-06T11:17:46.803Z"
   },
   {
    "duration": 173,
    "start_time": "2023-06-06T11:17:53.703Z"
   },
   {
    "duration": 225,
    "start_time": "2023-06-06T11:18:48.371Z"
   },
   {
    "duration": 180,
    "start_time": "2023-06-06T11:19:08.195Z"
   },
   {
    "duration": 135,
    "start_time": "2023-06-06T11:19:32.602Z"
   },
   {
    "duration": 136,
    "start_time": "2023-06-06T11:20:02.290Z"
   },
   {
    "duration": 6,
    "start_time": "2023-06-06T11:21:12.611Z"
   },
   {
    "duration": 62,
    "start_time": "2023-06-06T11:48:27.337Z"
   },
   {
    "duration": 14,
    "start_time": "2023-06-06T11:48:30.229Z"
   },
   {
    "duration": 14,
    "start_time": "2023-06-06T11:48:50.076Z"
   },
   {
    "duration": 12,
    "start_time": "2023-06-06T11:48:54.717Z"
   },
   {
    "duration": 16,
    "start_time": "2023-06-06T11:49:00.989Z"
   },
   {
    "duration": 12,
    "start_time": "2023-06-06T11:49:05.079Z"
   },
   {
    "duration": 4,
    "start_time": "2023-06-06T11:49:18.980Z"
   },
   {
    "duration": 138,
    "start_time": "2023-06-06T11:49:25.872Z"
   },
   {
    "duration": 126,
    "start_time": "2023-06-06T11:49:49.904Z"
   },
   {
    "duration": 379,
    "start_time": "2023-06-06T11:50:36.079Z"
   },
   {
    "duration": 137,
    "start_time": "2023-06-06T11:51:06.475Z"
   },
   {
    "duration": 134,
    "start_time": "2023-06-06T11:54:01.093Z"
   },
   {
    "duration": 3,
    "start_time": "2023-06-06T11:55:04.241Z"
   },
   {
    "duration": 452,
    "start_time": "2023-06-06T11:57:42.311Z"
   },
   {
    "duration": 125,
    "start_time": "2023-06-06T11:57:52.913Z"
   },
   {
    "duration": 13,
    "start_time": "2023-06-06T11:58:07.134Z"
   },
   {
    "duration": 10,
    "start_time": "2023-06-06T11:58:18.275Z"
   },
   {
    "duration": 8,
    "start_time": "2023-06-06T11:59:06.657Z"
   },
   {
    "duration": 9,
    "start_time": "2023-06-06T11:59:34.821Z"
   },
   {
    "duration": 7,
    "start_time": "2023-06-06T12:00:09.334Z"
   },
   {
    "duration": 4,
    "start_time": "2023-06-06T12:00:15.940Z"
   },
   {
    "duration": 5,
    "start_time": "2023-06-06T12:00:32.258Z"
   },
   {
    "duration": 5,
    "start_time": "2023-06-06T12:00:58.088Z"
   },
   {
    "duration": 6,
    "start_time": "2023-06-06T12:01:06.588Z"
   },
   {
    "duration": 6,
    "start_time": "2023-06-06T12:01:54.181Z"
   },
   {
    "duration": 4,
    "start_time": "2023-06-06T12:02:08.452Z"
   },
   {
    "duration": 892,
    "start_time": "2023-06-06T12:02:34.385Z"
   },
   {
    "duration": 5,
    "start_time": "2023-06-06T12:04:48.217Z"
   },
   {
    "duration": 69,
    "start_time": "2023-06-06T12:06:03.604Z"
   },
   {
    "duration": 13,
    "start_time": "2023-06-06T12:06:04.607Z"
   },
   {
    "duration": 14,
    "start_time": "2023-06-06T12:06:05.596Z"
   },
   {
    "duration": 16,
    "start_time": "2023-06-06T12:06:08.125Z"
   },
   {
    "duration": 17,
    "start_time": "2023-06-06T12:06:11.051Z"
   },
   {
    "duration": 11,
    "start_time": "2023-06-06T12:06:12.839Z"
   },
   {
    "duration": 4,
    "start_time": "2023-06-06T12:06:14.340Z"
   },
   {
    "duration": 290,
    "start_time": "2023-06-06T12:06:43.015Z"
   },
   {
    "duration": 178,
    "start_time": "2023-06-06T12:06:58.327Z"
   },
   {
    "duration": 61,
    "start_time": "2023-06-06T12:58:48.232Z"
   },
   {
    "duration": 13,
    "start_time": "2023-06-06T12:58:51.894Z"
   },
   {
    "duration": 13,
    "start_time": "2023-06-06T12:58:55.900Z"
   },
   {
    "duration": 12,
    "start_time": "2023-06-06T12:59:02.286Z"
   },
   {
    "duration": 12,
    "start_time": "2023-06-06T12:59:07.174Z"
   },
   {
    "duration": 10,
    "start_time": "2023-06-06T12:59:10.106Z"
   },
   {
    "duration": 7,
    "start_time": "2023-06-06T12:59:52.274Z"
   },
   {
    "duration": 7,
    "start_time": "2023-06-06T13:00:18.113Z"
   },
   {
    "duration": 11,
    "start_time": "2023-06-06T13:00:41.793Z"
   },
   {
    "duration": 10,
    "start_time": "2023-06-06T13:01:05.114Z"
   },
   {
    "duration": 3,
    "start_time": "2023-06-06T13:01:56.970Z"
   },
   {
    "duration": 4,
    "start_time": "2023-06-06T13:02:20.465Z"
   },
   {
    "duration": 6,
    "start_time": "2023-06-06T13:02:40.348Z"
   },
   {
    "duration": 7,
    "start_time": "2023-06-06T13:03:02.403Z"
   },
   {
    "duration": 7,
    "start_time": "2023-06-06T13:03:27.030Z"
   },
   {
    "duration": 13,
    "start_time": "2023-06-06T13:03:58.099Z"
   },
   {
    "duration": 13,
    "start_time": "2023-06-06T13:04:04.555Z"
   },
   {
    "duration": 6,
    "start_time": "2023-06-06T13:04:10.733Z"
   },
   {
    "duration": 7,
    "start_time": "2023-06-06T13:04:25.828Z"
   },
   {
    "duration": 19,
    "start_time": "2023-06-06T13:04:55.605Z"
   },
   {
    "duration": 12,
    "start_time": "2023-06-06T13:04:56.605Z"
   },
   {
    "duration": 6,
    "start_time": "2023-06-06T13:05:02.248Z"
   },
   {
    "duration": 11,
    "start_time": "2023-06-06T13:05:44.103Z"
   },
   {
    "duration": 11,
    "start_time": "2023-06-06T13:06:02.988Z"
   },
   {
    "duration": 6,
    "start_time": "2023-06-06T13:07:24.099Z"
   },
   {
    "duration": 9,
    "start_time": "2023-06-06T13:07:38.332Z"
   },
   {
    "duration": 10,
    "start_time": "2023-06-06T13:07:58.920Z"
   },
   {
    "duration": 9,
    "start_time": "2023-06-06T13:14:59.841Z"
   },
   {
    "duration": 7,
    "start_time": "2023-06-06T13:15:10.311Z"
   },
   {
    "duration": 9,
    "start_time": "2023-06-06T13:15:19.685Z"
   },
   {
    "duration": 3114,
    "start_time": "2023-06-06T13:18:14.397Z"
   },
   {
    "duration": 2153,
    "start_time": "2023-06-06T13:18:17.921Z"
   },
   {
    "duration": 3,
    "start_time": "2023-06-06T13:18:27.157Z"
   },
   {
    "duration": 12,
    "start_time": "2023-06-06T13:20:46.014Z"
   },
   {
    "duration": 5,
    "start_time": "2023-06-06T13:20:58.639Z"
   },
   {
    "duration": 85,
    "start_time": "2023-06-06T13:21:42.994Z"
   },
   {
    "duration": 13,
    "start_time": "2023-06-06T13:21:44.393Z"
   },
   {
    "duration": 62,
    "start_time": "2023-06-06T13:21:54.050Z"
   },
   {
    "duration": 17,
    "start_time": "2023-06-06T13:21:55.721Z"
   },
   {
    "duration": 18,
    "start_time": "2023-06-06T13:21:57.024Z"
   },
   {
    "duration": 12,
    "start_time": "2023-06-06T13:21:59.289Z"
   },
   {
    "duration": 16,
    "start_time": "2023-06-06T13:22:02.527Z"
   },
   {
    "duration": 11,
    "start_time": "2023-06-06T13:22:05.256Z"
   },
   {
    "duration": 10,
    "start_time": "2023-06-06T13:22:16.793Z"
   },
   {
    "duration": 12,
    "start_time": "2023-06-06T13:22:35.285Z"
   },
   {
    "duration": 5,
    "start_time": "2023-06-06T13:26:12.209Z"
   },
   {
    "duration": 6,
    "start_time": "2023-06-06T13:26:25.655Z"
   },
   {
    "duration": 6,
    "start_time": "2023-06-06T13:27:13.752Z"
   },
   {
    "duration": 4,
    "start_time": "2023-06-06T13:28:42.839Z"
   },
   {
    "duration": 164,
    "start_time": "2023-06-06T13:28:54.383Z"
   },
   {
    "duration": 29,
    "start_time": "2023-06-06T13:29:19.418Z"
   },
   {
    "duration": 26,
    "start_time": "2023-06-06T13:29:31.013Z"
   },
   {
    "duration": 163,
    "start_time": "2023-06-06T13:29:43.849Z"
   },
   {
    "duration": 168,
    "start_time": "2023-06-06T13:30:07.222Z"
   },
   {
    "duration": 154,
    "start_time": "2023-06-06T13:30:32.439Z"
   },
   {
    "duration": 156,
    "start_time": "2023-06-06T13:30:54.257Z"
   },
   {
    "duration": 173,
    "start_time": "2023-06-06T13:31:18.812Z"
   },
   {
    "duration": 147,
    "start_time": "2023-06-06T13:31:46.644Z"
   },
   {
    "duration": 157,
    "start_time": "2023-06-06T13:31:58.484Z"
   },
   {
    "duration": 5,
    "start_time": "2023-06-06T13:32:28.446Z"
   },
   {
    "duration": 5,
    "start_time": "2023-06-06T13:32:41.432Z"
   },
   {
    "duration": 6,
    "start_time": "2023-06-06T13:32:49.936Z"
   },
   {
    "duration": 7,
    "start_time": "2023-06-06T13:33:10.198Z"
   },
   {
    "duration": 153,
    "start_time": "2023-06-06T13:33:56.906Z"
   },
   {
    "duration": 79,
    "start_time": "2023-06-06T13:39:22.989Z"
   },
   {
    "duration": 14,
    "start_time": "2023-06-06T13:39:26.129Z"
   },
   {
    "duration": 12,
    "start_time": "2023-06-06T13:39:27.241Z"
   },
   {
    "duration": 14,
    "start_time": "2023-06-06T13:39:31.100Z"
   },
   {
    "duration": 13,
    "start_time": "2023-06-06T13:39:33.885Z"
   },
   {
    "duration": 14,
    "start_time": "2023-06-06T13:39:35.086Z"
   },
   {
    "duration": 11,
    "start_time": "2023-06-06T13:39:39.686Z"
   },
   {
    "duration": 9,
    "start_time": "2023-06-06T13:39:41.339Z"
   },
   {
    "duration": 162,
    "start_time": "2023-06-06T13:39:46.804Z"
   },
   {
    "duration": 167,
    "start_time": "2023-06-06T13:39:51.719Z"
   },
   {
    "duration": 184,
    "start_time": "2023-06-06T13:39:56.009Z"
   },
   {
    "duration": 145,
    "start_time": "2023-06-06T13:40:02.108Z"
   },
   {
    "duration": 338,
    "start_time": "2023-06-06T13:41:14.392Z"
   },
   {
    "duration": 152,
    "start_time": "2023-06-06T13:41:41.091Z"
   },
   {
    "duration": 216,
    "start_time": "2023-06-06T13:42:17.683Z"
   },
   {
    "duration": 201,
    "start_time": "2023-06-06T13:44:17.097Z"
   },
   {
    "duration": 174,
    "start_time": "2023-06-06T13:53:12.841Z"
   },
   {
    "duration": 210,
    "start_time": "2023-06-06T13:53:24.284Z"
   },
   {
    "duration": 180,
    "start_time": "2023-06-06T13:53:36.482Z"
   },
   {
    "duration": 13,
    "start_time": "2023-06-06T13:53:46.848Z"
   },
   {
    "duration": 12,
    "start_time": "2023-06-06T13:54:05.186Z"
   },
   {
    "duration": 14,
    "start_time": "2023-06-06T13:54:14.136Z"
   },
   {
    "duration": 179,
    "start_time": "2023-06-06T13:56:50.198Z"
   },
   {
    "duration": 168,
    "start_time": "2023-06-06T13:57:08.227Z"
   },
   {
    "duration": 169,
    "start_time": "2023-06-06T13:57:21.882Z"
   },
   {
    "duration": 16,
    "start_time": "2023-06-06T13:57:42.907Z"
   },
   {
    "duration": 16,
    "start_time": "2023-06-06T14:01:15.748Z"
   },
   {
    "duration": 199,
    "start_time": "2023-06-06T14:01:32.965Z"
   },
   {
    "duration": 160,
    "start_time": "2023-06-06T14:02:58.351Z"
   },
   {
    "duration": 221,
    "start_time": "2023-06-06T14:05:24.899Z"
   },
   {
    "duration": 178,
    "start_time": "2023-06-06T14:05:30.117Z"
   },
   {
    "duration": 165,
    "start_time": "2023-06-06T14:05:36.753Z"
   },
   {
    "duration": 169,
    "start_time": "2023-06-06T14:05:40.303Z"
   },
   {
    "duration": 152,
    "start_time": "2023-06-06T14:05:58.738Z"
   },
   {
    "duration": 176,
    "start_time": "2023-06-06T14:06:05.991Z"
   },
   {
    "duration": 167,
    "start_time": "2023-06-06T14:06:14.635Z"
   },
   {
    "duration": 16,
    "start_time": "2023-06-06T14:06:25.140Z"
   },
   {
    "duration": 175,
    "start_time": "2023-06-06T14:06:29.322Z"
   },
   {
    "duration": 157,
    "start_time": "2023-06-06T14:06:32.903Z"
   },
   {
    "duration": 205,
    "start_time": "2023-06-06T14:08:02.172Z"
   },
   {
    "duration": 180,
    "start_time": "2023-06-06T14:08:10.491Z"
   },
   {
    "duration": 158,
    "start_time": "2023-06-06T14:08:18.859Z"
   },
   {
    "duration": 186,
    "start_time": "2023-06-06T14:08:39.169Z"
   },
   {
    "duration": 74,
    "start_time": "2023-06-06T14:08:55.098Z"
   },
   {
    "duration": 12,
    "start_time": "2023-06-06T14:08:57.435Z"
   },
   {
    "duration": 13,
    "start_time": "2023-06-06T14:08:58.938Z"
   },
   {
    "duration": 13,
    "start_time": "2023-06-06T14:09:01.353Z"
   },
   {
    "duration": 12,
    "start_time": "2023-06-06T14:09:05.649Z"
   },
   {
    "duration": 10,
    "start_time": "2023-06-06T14:09:07.109Z"
   },
   {
    "duration": 9,
    "start_time": "2023-06-06T14:09:11.810Z"
   },
   {
    "duration": 6,
    "start_time": "2023-06-06T14:09:13.357Z"
   },
   {
    "duration": 148,
    "start_time": "2023-06-06T14:09:22.899Z"
   },
   {
    "duration": 144,
    "start_time": "2023-06-06T14:09:27.914Z"
   },
   {
    "duration": 171,
    "start_time": "2023-06-06T14:09:34.556Z"
   },
   {
    "duration": 125,
    "start_time": "2023-06-06T14:09:48.441Z"
   },
   {
    "duration": 166,
    "start_time": "2023-06-06T14:09:51.335Z"
   },
   {
    "duration": 173,
    "start_time": "2023-06-06T14:10:03.614Z"
   },
   {
    "duration": 171,
    "start_time": "2023-06-06T14:10:09.123Z"
   },
   {
    "duration": 192,
    "start_time": "2023-06-06T14:16:23.980Z"
   },
   {
    "duration": 136,
    "start_time": "2023-06-06T14:18:45.490Z"
   },
   {
    "duration": 557,
    "start_time": "2023-06-06T19:29:35.722Z"
   },
   {
    "duration": 17,
    "start_time": "2023-06-06T19:29:37.184Z"
   },
   {
    "duration": 16,
    "start_time": "2023-06-06T19:29:40.648Z"
   },
   {
    "duration": 13,
    "start_time": "2023-06-06T19:29:42.946Z"
   },
   {
    "duration": 14,
    "start_time": "2023-06-06T19:29:48.836Z"
   },
   {
    "duration": 11,
    "start_time": "2023-06-06T19:29:51.604Z"
   },
   {
    "duration": 9,
    "start_time": "2023-06-06T19:29:54.285Z"
   },
   {
    "duration": 6,
    "start_time": "2023-06-06T19:29:57.616Z"
   },
   {
    "duration": 786,
    "start_time": "2023-06-06T19:30:02.313Z"
   },
   {
    "duration": 131,
    "start_time": "2023-06-06T19:30:07.980Z"
   },
   {
    "duration": 146,
    "start_time": "2023-06-06T19:30:14.084Z"
   },
   {
    "duration": 162,
    "start_time": "2023-06-06T19:30:20.045Z"
   },
   {
    "duration": 212,
    "start_time": "2023-06-06T19:30:28.445Z"
   },
   {
    "duration": 151,
    "start_time": "2023-06-06T19:30:38.593Z"
   },
   {
    "duration": 139,
    "start_time": "2023-06-06T19:30:55.702Z"
   },
   {
    "duration": 24,
    "start_time": "2023-06-06T19:36:26.682Z"
   },
   {
    "duration": 15,
    "start_time": "2023-06-06T19:36:30.824Z"
   },
   {
    "duration": 20,
    "start_time": "2023-06-06T19:36:39.784Z"
   },
   {
    "duration": 16,
    "start_time": "2023-06-06T19:41:39.081Z"
   },
   {
    "duration": 16,
    "start_time": "2023-06-06T19:41:59.086Z"
   },
   {
    "duration": 16,
    "start_time": "2023-06-06T19:42:14.004Z"
   },
   {
    "duration": 20,
    "start_time": "2023-06-06T19:44:13.838Z"
   },
   {
    "duration": 16,
    "start_time": "2023-06-06T19:45:08.097Z"
   },
   {
    "duration": 15,
    "start_time": "2023-06-06T19:45:12.311Z"
   },
   {
    "duration": 15,
    "start_time": "2023-06-06T19:45:22.044Z"
   },
   {
    "duration": 30,
    "start_time": "2023-06-06T19:52:09.613Z"
   },
   {
    "duration": 8,
    "start_time": "2023-06-06T19:52:40.679Z"
   },
   {
    "duration": 21,
    "start_time": "2023-06-06T19:52:48.947Z"
   },
   {
    "duration": 26,
    "start_time": "2023-06-06T19:52:57.054Z"
   },
   {
    "duration": 32,
    "start_time": "2023-06-06T19:53:06.078Z"
   },
   {
    "duration": 21,
    "start_time": "2023-06-06T19:53:35.259Z"
   },
   {
    "duration": 25,
    "start_time": "2023-06-06T19:54:47.010Z"
   },
   {
    "duration": 23,
    "start_time": "2023-06-06T19:54:53.682Z"
   },
   {
    "duration": 25,
    "start_time": "2023-06-06T19:57:27.704Z"
   },
   {
    "duration": 9,
    "start_time": "2023-06-06T19:57:50.706Z"
   },
   {
    "duration": 12,
    "start_time": "2023-06-06T19:59:50.347Z"
   },
   {
    "duration": 22,
    "start_time": "2023-06-06T19:59:54.755Z"
   },
   {
    "duration": 76,
    "start_time": "2023-06-06T20:08:10.901Z"
   },
   {
    "duration": 23,
    "start_time": "2023-06-06T20:08:21.506Z"
   },
   {
    "duration": 19,
    "start_time": "2023-06-06T20:18:08.821Z"
   },
   {
    "duration": 13,
    "start_time": "2023-06-06T20:18:25.731Z"
   },
   {
    "duration": 15,
    "start_time": "2023-06-06T20:18:31.182Z"
   },
   {
    "duration": 10,
    "start_time": "2023-06-06T20:20:37.441Z"
   },
   {
    "duration": 16,
    "start_time": "2023-06-06T20:20:53.197Z"
   },
   {
    "duration": 27,
    "start_time": "2023-06-06T20:24:47.287Z"
   },
   {
    "duration": 88,
    "start_time": "2023-06-06T20:28:38.382Z"
   },
   {
    "duration": 11,
    "start_time": "2023-06-06T20:28:39.627Z"
   },
   {
    "duration": 13,
    "start_time": "2023-06-06T20:28:40.928Z"
   },
   {
    "duration": 11,
    "start_time": "2023-06-06T20:28:44.028Z"
   },
   {
    "duration": 15,
    "start_time": "2023-06-06T20:28:46.827Z"
   },
   {
    "duration": 9,
    "start_time": "2023-06-06T20:28:47.731Z"
   },
   {
    "duration": 8,
    "start_time": "2023-06-06T20:28:50.731Z"
   },
   {
    "duration": 7,
    "start_time": "2023-06-06T20:28:51.842Z"
   },
   {
    "duration": 182,
    "start_time": "2023-06-06T20:28:56.277Z"
   },
   {
    "duration": 148,
    "start_time": "2023-06-06T20:28:58.719Z"
   },
   {
    "duration": 166,
    "start_time": "2023-06-06T20:29:00.873Z"
   },
   {
    "duration": 145,
    "start_time": "2023-06-06T20:29:04.728Z"
   },
   {
    "duration": 213,
    "start_time": "2023-06-06T20:29:07.224Z"
   },
   {
    "duration": 183,
    "start_time": "2023-06-06T20:29:10.543Z"
   },
   {
    "duration": 169,
    "start_time": "2023-06-06T20:29:14.103Z"
   },
   {
    "duration": 17,
    "start_time": "2023-06-06T20:29:21.836Z"
   },
   {
    "duration": 147,
    "start_time": "2023-06-06T20:37:35.973Z"
   },
   {
    "duration": 611,
    "start_time": "2023-06-06T20:38:17.828Z"
   },
   {
    "duration": 10,
    "start_time": "2023-06-06T20:43:59.946Z"
   },
   {
    "duration": 21,
    "start_time": "2023-06-06T20:45:35.709Z"
   },
   {
    "duration": 39,
    "start_time": "2023-06-06T20:45:48.424Z"
   },
   {
    "duration": 12,
    "start_time": "2023-06-06T20:48:59.326Z"
   },
   {
    "duration": 21,
    "start_time": "2023-06-06T20:49:07.603Z"
   },
   {
    "duration": 12,
    "start_time": "2023-06-06T20:49:41.510Z"
   },
   {
    "duration": 86,
    "start_time": "2023-06-06T20:53:08.852Z"
   },
   {
    "duration": 87,
    "start_time": "2023-06-06T20:53:27.861Z"
   },
   {
    "duration": 88,
    "start_time": "2023-06-06T20:54:00.184Z"
   },
   {
    "duration": 86,
    "start_time": "2023-06-06T20:54:46.304Z"
   },
   {
    "duration": 18,
    "start_time": "2023-06-06T20:56:28.729Z"
   },
   {
    "duration": 3,
    "start_time": "2023-06-06T20:57:20.636Z"
   },
   {
    "duration": 5,
    "start_time": "2023-06-06T20:57:32.657Z"
   },
   {
    "duration": 3,
    "start_time": "2023-06-06T20:59:13.219Z"
   },
   {
    "duration": 7,
    "start_time": "2023-06-06T20:59:34.116Z"
   },
   {
    "duration": 9,
    "start_time": "2023-06-06T20:59:57.524Z"
   },
   {
    "duration": 7,
    "start_time": "2023-06-06T21:02:37.512Z"
   },
   {
    "duration": 13,
    "start_time": "2023-06-06T21:02:59.191Z"
   },
   {
    "duration": 20,
    "start_time": "2023-06-06T21:03:08.456Z"
   },
   {
    "duration": 20,
    "start_time": "2023-06-06T21:03:33.709Z"
   },
   {
    "duration": 22,
    "start_time": "2023-06-06T21:03:44.555Z"
   },
   {
    "duration": 15,
    "start_time": "2023-06-06T21:06:09.304Z"
   },
   {
    "duration": 14,
    "start_time": "2023-06-06T21:06:12.500Z"
   },
   {
    "duration": 14,
    "start_time": "2023-06-06T21:06:23.812Z"
   },
   {
    "duration": 21,
    "start_time": "2023-06-06T21:06:36.336Z"
   },
   {
    "duration": 7,
    "start_time": "2023-06-06T21:08:22.777Z"
   },
   {
    "duration": 9,
    "start_time": "2023-06-06T21:08:57.700Z"
   },
   {
    "duration": 15,
    "start_time": "2023-06-06T21:09:04.092Z"
   },
   {
    "duration": 71,
    "start_time": "2023-06-06T21:16:07.525Z"
   },
   {
    "duration": 15,
    "start_time": "2023-06-06T21:16:08.072Z"
   },
   {
    "duration": 13,
    "start_time": "2023-06-06T21:16:08.917Z"
   },
   {
    "duration": 13,
    "start_time": "2023-06-06T21:16:09.531Z"
   },
   {
    "duration": 11,
    "start_time": "2023-06-06T21:16:11.339Z"
   },
   {
    "duration": 10,
    "start_time": "2023-06-06T21:16:11.910Z"
   },
   {
    "duration": 7,
    "start_time": "2023-06-06T21:16:13.014Z"
   },
   {
    "duration": 6,
    "start_time": "2023-06-06T21:16:13.624Z"
   },
   {
    "duration": 153,
    "start_time": "2023-06-06T21:16:15.647Z"
   },
   {
    "duration": 178,
    "start_time": "2023-06-06T21:16:17.401Z"
   },
   {
    "duration": 159,
    "start_time": "2023-06-06T21:16:19.026Z"
   },
   {
    "duration": 112,
    "start_time": "2023-06-06T21:16:20.748Z"
   },
   {
    "duration": 198,
    "start_time": "2023-06-06T21:16:21.989Z"
   },
   {
    "duration": 164,
    "start_time": "2023-06-06T21:16:23.158Z"
   },
   {
    "duration": 132,
    "start_time": "2023-06-06T21:16:24.919Z"
   },
   {
    "duration": 20,
    "start_time": "2023-06-06T21:16:32.710Z"
   },
   {
    "duration": 7,
    "start_time": "2023-06-06T21:22:49.934Z"
   },
   {
    "duration": 9,
    "start_time": "2023-06-06T21:23:27.900Z"
   },
   {
    "duration": 86,
    "start_time": "2023-06-06T21:27:16.049Z"
   },
   {
    "duration": 11,
    "start_time": "2023-06-06T21:27:16.937Z"
   },
   {
    "duration": 11,
    "start_time": "2023-06-06T21:27:17.906Z"
   },
   {
    "duration": 11,
    "start_time": "2023-06-06T21:27:18.654Z"
   },
   {
    "duration": 11,
    "start_time": "2023-06-06T21:27:20.628Z"
   },
   {
    "duration": 20,
    "start_time": "2023-06-06T21:27:21.278Z"
   },
   {
    "duration": 10,
    "start_time": "2023-06-06T21:27:22.314Z"
   },
   {
    "duration": 7,
    "start_time": "2023-06-06T21:27:22.951Z"
   },
   {
    "duration": 152,
    "start_time": "2023-06-06T21:27:24.943Z"
   },
   {
    "duration": 141,
    "start_time": "2023-06-06T21:27:26.401Z"
   },
   {
    "duration": 195,
    "start_time": "2023-06-06T21:27:27.877Z"
   },
   {
    "duration": 124,
    "start_time": "2023-06-06T21:27:29.508Z"
   },
   {
    "duration": 157,
    "start_time": "2023-06-06T21:27:30.766Z"
   },
   {
    "duration": 221,
    "start_time": "2023-06-06T21:27:31.926Z"
   },
   {
    "duration": 174,
    "start_time": "2023-06-06T21:27:34.132Z"
   },
   {
    "duration": 15,
    "start_time": "2023-06-06T21:27:36.450Z"
   },
   {
    "duration": 6,
    "start_time": "2023-06-06T21:34:12.731Z"
   },
   {
    "duration": 14,
    "start_time": "2023-06-06T21:35:28.419Z"
   },
   {
    "duration": 23,
    "start_time": "2023-06-06T21:35:49.550Z"
   },
   {
    "duration": 21,
    "start_time": "2023-06-06T21:36:18.365Z"
   },
   {
    "duration": 13,
    "start_time": "2023-06-06T21:37:13.990Z"
   },
   {
    "duration": 16,
    "start_time": "2023-06-06T21:37:19.630Z"
   },
   {
    "duration": 24,
    "start_time": "2023-06-06T21:37:35.778Z"
   },
   {
    "duration": 17,
    "start_time": "2023-06-06T21:37:42.969Z"
   },
   {
    "duration": 64,
    "start_time": "2023-06-06T21:38:10.516Z"
   },
   {
    "duration": 27,
    "start_time": "2023-06-06T21:38:12.676Z"
   },
   {
    "duration": 12,
    "start_time": "2023-06-06T21:38:14.018Z"
   },
   {
    "duration": 11,
    "start_time": "2023-06-06T21:38:16.533Z"
   },
   {
    "duration": 23,
    "start_time": "2023-06-06T21:38:21.681Z"
   },
   {
    "duration": 11,
    "start_time": "2023-06-06T21:38:23.208Z"
   },
   {
    "duration": 11,
    "start_time": "2023-06-06T21:38:27.029Z"
   },
   {
    "duration": 6,
    "start_time": "2023-06-06T21:38:31.206Z"
   },
   {
    "duration": 117,
    "start_time": "2023-06-06T21:38:37.716Z"
   },
   {
    "duration": 125,
    "start_time": "2023-06-06T21:38:41.212Z"
   },
   {
    "duration": 137,
    "start_time": "2023-06-06T21:38:46.878Z"
   },
   {
    "duration": 148,
    "start_time": "2023-06-06T21:38:50.941Z"
   },
   {
    "duration": 184,
    "start_time": "2023-06-06T21:38:54.121Z"
   },
   {
    "duration": 184,
    "start_time": "2023-06-06T21:38:57.426Z"
   },
   {
    "duration": 147,
    "start_time": "2023-06-06T21:39:01.840Z"
   },
   {
    "duration": 16,
    "start_time": "2023-06-06T21:39:11.611Z"
   },
   {
    "duration": 21,
    "start_time": "2023-06-06T21:39:23.396Z"
   },
   {
    "duration": 23,
    "start_time": "2023-06-06T21:39:30.826Z"
   },
   {
    "duration": 5,
    "start_time": "2023-06-06T21:41:01.030Z"
   },
   {
    "duration": 11,
    "start_time": "2023-06-06T21:41:14.861Z"
   },
   {
    "duration": 12,
    "start_time": "2023-06-06T21:41:43.539Z"
   },
   {
    "duration": 674,
    "start_time": "2023-06-07T07:28:26.016Z"
   },
   {
    "duration": 14,
    "start_time": "2023-06-07T07:28:27.243Z"
   },
   {
    "duration": 12,
    "start_time": "2023-06-07T07:28:28.819Z"
   },
   {
    "duration": 11,
    "start_time": "2023-06-07T07:28:32.461Z"
   },
   {
    "duration": 13,
    "start_time": "2023-06-07T07:28:34.659Z"
   },
   {
    "duration": 12,
    "start_time": "2023-06-07T07:28:51.919Z"
   },
   {
    "duration": 18,
    "start_time": "2023-06-07T07:28:53.970Z"
   },
   {
    "duration": 6,
    "start_time": "2023-06-07T07:28:54.940Z"
   },
   {
    "duration": 609,
    "start_time": "2023-06-07T07:28:58.648Z"
   },
   {
    "duration": 171,
    "start_time": "2023-06-07T07:29:03.398Z"
   },
   {
    "duration": 216,
    "start_time": "2023-06-07T07:29:07.614Z"
   },
   {
    "duration": 178,
    "start_time": "2023-06-07T07:29:10.849Z"
   },
   {
    "duration": 274,
    "start_time": "2023-06-07T07:29:14.746Z"
   },
   {
    "duration": 246,
    "start_time": "2023-06-07T07:29:18.105Z"
   },
   {
    "duration": 186,
    "start_time": "2023-06-07T07:29:21.571Z"
   },
   {
    "duration": 24,
    "start_time": "2023-06-07T07:29:27.966Z"
   },
   {
    "duration": 14,
    "start_time": "2023-06-07T07:29:36.519Z"
   },
   {
    "duration": 12,
    "start_time": "2023-06-07T07:29:43.557Z"
   },
   {
    "duration": 63,
    "start_time": "2023-06-07T07:34:35.776Z"
   },
   {
    "duration": 12,
    "start_time": "2023-06-07T07:34:36.868Z"
   },
   {
    "duration": 16,
    "start_time": "2023-06-07T07:34:37.645Z"
   },
   {
    "duration": 11,
    "start_time": "2023-06-07T07:34:38.140Z"
   },
   {
    "duration": 12,
    "start_time": "2023-06-07T07:34:39.944Z"
   },
   {
    "duration": 10,
    "start_time": "2023-06-07T07:34:40.595Z"
   },
   {
    "duration": 10,
    "start_time": "2023-06-07T07:34:41.554Z"
   },
   {
    "duration": 5,
    "start_time": "2023-06-07T07:34:42.125Z"
   },
   {
    "duration": 179,
    "start_time": "2023-06-07T07:34:44.114Z"
   },
   {
    "duration": 151,
    "start_time": "2023-06-07T07:34:45.738Z"
   },
   {
    "duration": 164,
    "start_time": "2023-06-07T07:34:47.278Z"
   },
   {
    "duration": 124,
    "start_time": "2023-06-07T07:34:48.824Z"
   },
   {
    "duration": 185,
    "start_time": "2023-06-07T07:34:50.009Z"
   },
   {
    "duration": 165,
    "start_time": "2023-06-07T07:34:51.044Z"
   },
   {
    "duration": 169,
    "start_time": "2023-06-07T07:34:52.663Z"
   },
   {
    "duration": 19,
    "start_time": "2023-06-07T07:34:55.040Z"
   },
   {
    "duration": 15,
    "start_time": "2023-06-07T07:34:58.216Z"
   },
   {
    "duration": 13,
    "start_time": "2023-06-07T07:34:59.468Z"
   },
   {
    "duration": 447,
    "start_time": "2023-06-07T07:38:03.964Z"
   },
   {
    "duration": 241,
    "start_time": "2023-06-07T07:38:14.698Z"
   },
   {
    "duration": 172,
    "start_time": "2023-06-07T07:38:48.874Z"
   },
   {
    "duration": 171,
    "start_time": "2023-06-07T07:38:59.645Z"
   },
   {
    "duration": 170,
    "start_time": "2023-06-07T07:39:49.867Z"
   },
   {
    "duration": 157,
    "start_time": "2023-06-07T07:40:19.363Z"
   },
   {
    "duration": 293,
    "start_time": "2023-06-07T07:40:24.610Z"
   },
   {
    "duration": 191,
    "start_time": "2023-06-07T07:40:49.184Z"
   },
   {
    "duration": 253,
    "start_time": "2023-06-07T07:41:04.049Z"
   },
   {
    "duration": 7,
    "start_time": "2023-06-07T07:43:47.825Z"
   },
   {
    "duration": 166,
    "start_time": "2023-06-07T07:43:59.022Z"
   },
   {
    "duration": 166,
    "start_time": "2023-06-07T07:44:05.829Z"
   },
   {
    "duration": 166,
    "start_time": "2023-06-07T07:44:37.821Z"
   },
   {
    "duration": 222,
    "start_time": "2023-06-07T07:44:46.420Z"
   },
   {
    "duration": 65,
    "start_time": "2023-06-07T07:44:55.460Z"
   },
   {
    "duration": 13,
    "start_time": "2023-06-07T07:44:55.940Z"
   },
   {
    "duration": 13,
    "start_time": "2023-06-07T07:44:56.646Z"
   },
   {
    "duration": 12,
    "start_time": "2023-06-07T07:44:57.303Z"
   },
   {
    "duration": 13,
    "start_time": "2023-06-07T07:44:58.892Z"
   },
   {
    "duration": 11,
    "start_time": "2023-06-07T07:44:59.389Z"
   },
   {
    "duration": 10,
    "start_time": "2023-06-07T07:45:00.259Z"
   },
   {
    "duration": 7,
    "start_time": "2023-06-07T07:45:00.723Z"
   },
   {
    "duration": 136,
    "start_time": "2023-06-07T07:45:02.572Z"
   },
   {
    "duration": 195,
    "start_time": "2023-06-07T07:45:03.993Z"
   },
   {
    "duration": 178,
    "start_time": "2023-06-07T07:45:05.612Z"
   },
   {
    "duration": 137,
    "start_time": "2023-06-07T07:45:07.180Z"
   },
   {
    "duration": 172,
    "start_time": "2023-06-07T07:45:08.241Z"
   },
   {
    "duration": 192,
    "start_time": "2023-06-07T07:45:15.828Z"
   },
   {
    "duration": 176,
    "start_time": "2023-06-07T07:45:20.139Z"
   },
   {
    "duration": 203,
    "start_time": "2023-06-07T07:46:08.736Z"
   },
   {
    "duration": 148,
    "start_time": "2023-06-07T07:46:54.847Z"
   },
   {
    "duration": 146,
    "start_time": "2023-06-07T07:47:07.753Z"
   },
   {
    "duration": 11,
    "start_time": "2023-06-07T07:48:10.518Z"
   },
   {
    "duration": 73,
    "start_time": "2023-06-07T07:48:26.569Z"
   },
   {
    "duration": 15,
    "start_time": "2023-06-07T07:48:27.528Z"
   },
   {
    "duration": 17,
    "start_time": "2023-06-07T07:48:28.561Z"
   },
   {
    "duration": 19,
    "start_time": "2023-06-07T07:48:29.693Z"
   },
   {
    "duration": 17,
    "start_time": "2023-06-07T07:48:32.817Z"
   },
   {
    "duration": 15,
    "start_time": "2023-06-07T07:48:34.294Z"
   },
   {
    "duration": 13,
    "start_time": "2023-06-07T07:48:36.192Z"
   },
   {
    "duration": 9,
    "start_time": "2023-06-07T07:48:38.105Z"
   },
   {
    "duration": 280,
    "start_time": "2023-06-07T07:48:41.367Z"
   },
   {
    "duration": 166,
    "start_time": "2023-06-07T07:48:45.816Z"
   },
   {
    "duration": 181,
    "start_time": "2023-06-07T07:48:50.570Z"
   },
   {
    "duration": 152,
    "start_time": "2023-06-07T07:48:53.808Z"
   },
   {
    "duration": 206,
    "start_time": "2023-06-07T07:48:57.456Z"
   },
   {
    "duration": 258,
    "start_time": "2023-06-07T07:49:03.957Z"
   },
   {
    "duration": 139,
    "start_time": "2023-06-07T07:49:08.891Z"
   },
   {
    "duration": 13,
    "start_time": "2023-06-07T07:49:47.281Z"
   },
   {
    "duration": 8,
    "start_time": "2023-06-07T07:49:54.689Z"
   },
   {
    "duration": 159,
    "start_time": "2023-06-07T07:50:18.846Z"
   },
   {
    "duration": 172,
    "start_time": "2023-06-07T07:50:22.870Z"
   },
   {
    "duration": 64,
    "start_time": "2023-06-07T07:52:46.079Z"
   },
   {
    "duration": 13,
    "start_time": "2023-06-07T07:52:47.015Z"
   },
   {
    "duration": 20,
    "start_time": "2023-06-07T07:52:49.264Z"
   },
   {
    "duration": 16,
    "start_time": "2023-06-07T07:52:51.241Z"
   },
   {
    "duration": 19,
    "start_time": "2023-06-07T07:52:54.288Z"
   },
   {
    "duration": 14,
    "start_time": "2023-06-07T07:52:54.984Z"
   },
   {
    "duration": 12,
    "start_time": "2023-06-07T07:52:56.153Z"
   },
   {
    "duration": 8,
    "start_time": "2023-06-07T07:52:58.136Z"
   },
   {
    "duration": 187,
    "start_time": "2023-06-07T07:53:00.474Z"
   },
   {
    "duration": 162,
    "start_time": "2023-06-07T07:53:02.166Z"
   },
   {
    "duration": 170,
    "start_time": "2023-06-07T07:53:05.268Z"
   },
   {
    "duration": 250,
    "start_time": "2023-06-07T07:53:07.173Z"
   },
   {
    "duration": 175,
    "start_time": "2023-06-07T07:53:09.443Z"
   },
   {
    "duration": 175,
    "start_time": "2023-06-07T07:53:12.612Z"
   },
   {
    "duration": 134,
    "start_time": "2023-06-07T07:53:16.513Z"
   },
   {
    "duration": 173,
    "start_time": "2023-06-07T07:53:17.848Z"
   },
   {
    "duration": 29,
    "start_time": "2023-06-07T07:53:20.611Z"
   },
   {
    "duration": 23,
    "start_time": "2023-06-07T07:53:22.974Z"
   },
   {
    "duration": 13,
    "start_time": "2023-06-07T07:53:25.765Z"
   },
   {
    "duration": 205,
    "start_time": "2023-06-07T07:53:29.391Z"
   },
   {
    "duration": 217,
    "start_time": "2023-06-07T07:53:53.246Z"
   },
   {
    "duration": 817,
    "start_time": "2023-06-07T07:59:13.995Z"
   },
   {
    "duration": 259,
    "start_time": "2023-06-07T08:03:35.540Z"
   },
   {
    "duration": 250,
    "start_time": "2023-06-07T08:03:46.231Z"
   },
   {
    "duration": 63,
    "start_time": "2023-06-07T08:10:35.328Z"
   },
   {
    "duration": 17,
    "start_time": "2023-06-07T08:10:36.053Z"
   },
   {
    "duration": 13,
    "start_time": "2023-06-07T08:10:36.694Z"
   },
   {
    "duration": 18,
    "start_time": "2023-06-07T08:10:37.331Z"
   },
   {
    "duration": 14,
    "start_time": "2023-06-07T08:10:38.510Z"
   },
   {
    "duration": 10,
    "start_time": "2023-06-07T08:10:38.996Z"
   },
   {
    "duration": 10,
    "start_time": "2023-06-07T08:10:39.666Z"
   },
   {
    "duration": 7,
    "start_time": "2023-06-07T08:10:39.953Z"
   },
   {
    "duration": 132,
    "start_time": "2023-06-07T08:10:41.268Z"
   },
   {
    "duration": 154,
    "start_time": "2023-06-07T08:10:42.699Z"
   },
   {
    "duration": 159,
    "start_time": "2023-06-07T08:10:43.791Z"
   },
   {
    "duration": 126,
    "start_time": "2023-06-07T08:10:45.210Z"
   },
   {
    "duration": 174,
    "start_time": "2023-06-07T08:10:45.996Z"
   },
   {
    "duration": 180,
    "start_time": "2023-06-07T08:10:46.833Z"
   },
   {
    "duration": 124,
    "start_time": "2023-06-07T08:10:48.263Z"
   },
   {
    "duration": 159,
    "start_time": "2023-06-07T08:10:49.384Z"
   },
   {
    "duration": 18,
    "start_time": "2023-06-07T08:10:50.703Z"
   },
   {
    "duration": 14,
    "start_time": "2023-06-07T08:10:52.310Z"
   },
   {
    "duration": 13,
    "start_time": "2023-06-07T08:10:53.444Z"
   },
   {
    "duration": 204,
    "start_time": "2023-06-07T08:10:54.827Z"
   },
   {
    "duration": 184,
    "start_time": "2023-06-07T08:10:55.451Z"
   },
   {
    "duration": 830,
    "start_time": "2023-06-07T08:10:58.079Z"
   },
   {
    "duration": 801,
    "start_time": "2023-06-07T08:17:35.523Z"
   },
   {
    "duration": 3,
    "start_time": "2023-06-07T08:22:32.021Z"
   },
   {
    "duration": 829,
    "start_time": "2023-06-07T08:30:25.752Z"
   },
   {
    "duration": 235,
    "start_time": "2023-06-07T08:36:03.731Z"
   },
   {
    "duration": 260,
    "start_time": "2023-06-07T08:36:39.395Z"
   },
   {
    "duration": 63,
    "start_time": "2023-06-07T08:46:04.300Z"
   },
   {
    "duration": 16,
    "start_time": "2023-06-07T08:46:05.100Z"
   },
   {
    "duration": 19,
    "start_time": "2023-06-07T08:46:07.290Z"
   },
   {
    "duration": 15,
    "start_time": "2023-06-07T08:46:08.438Z"
   },
   {
    "duration": 11,
    "start_time": "2023-06-07T08:46:10.023Z"
   },
   {
    "duration": 17,
    "start_time": "2023-06-07T08:46:10.467Z"
   },
   {
    "duration": 12,
    "start_time": "2023-06-07T08:46:11.288Z"
   },
   {
    "duration": 7,
    "start_time": "2023-06-07T08:46:11.697Z"
   },
   {
    "duration": 266,
    "start_time": "2023-06-07T08:46:13.297Z"
   },
   {
    "duration": 156,
    "start_time": "2023-06-07T08:46:14.473Z"
   },
   {
    "duration": 163,
    "start_time": "2023-06-07T08:46:15.533Z"
   },
   {
    "duration": 136,
    "start_time": "2023-06-07T08:46:16.604Z"
   },
   {
    "duration": 187,
    "start_time": "2023-06-07T08:46:17.378Z"
   },
   {
    "duration": 194,
    "start_time": "2023-06-07T08:46:18.202Z"
   },
   {
    "duration": 152,
    "start_time": "2023-06-07T08:46:19.361Z"
   },
   {
    "duration": 200,
    "start_time": "2023-06-07T08:46:20.212Z"
   },
   {
    "duration": 18,
    "start_time": "2023-06-07T08:46:21.402Z"
   },
   {
    "duration": 14,
    "start_time": "2023-06-07T08:46:22.806Z"
   },
   {
    "duration": 13,
    "start_time": "2023-06-07T08:46:23.782Z"
   },
   {
    "duration": 213,
    "start_time": "2023-06-07T08:46:24.803Z"
   },
   {
    "duration": 192,
    "start_time": "2023-06-07T08:46:25.299Z"
   },
   {
    "duration": 843,
    "start_time": "2023-06-07T08:46:27.859Z"
   },
   {
    "duration": 0,
    "start_time": "2023-06-07T08:47:56.470Z"
   },
   {
    "duration": 12,
    "start_time": "2023-06-07T08:48:35.220Z"
   },
   {
    "duration": 2948,
    "start_time": "2023-06-07T08:48:47.345Z"
   },
   {
    "duration": 11,
    "start_time": "2023-06-07T08:51:06.917Z"
   },
   {
    "duration": 71,
    "start_time": "2023-06-07T08:52:48.098Z"
   },
   {
    "duration": 16,
    "start_time": "2023-06-07T08:52:48.599Z"
   },
   {
    "duration": 29,
    "start_time": "2023-06-07T08:52:49.171Z"
   },
   {
    "duration": 13,
    "start_time": "2023-06-07T08:52:49.597Z"
   },
   {
    "duration": 17,
    "start_time": "2023-06-07T08:52:50.597Z"
   },
   {
    "duration": 21,
    "start_time": "2023-06-07T08:52:50.993Z"
   },
   {
    "duration": 9,
    "start_time": "2023-06-07T08:52:51.712Z"
   },
   {
    "duration": 8,
    "start_time": "2023-06-07T08:52:52.003Z"
   },
   {
    "duration": 167,
    "start_time": "2023-06-07T08:52:53.072Z"
   },
   {
    "duration": 215,
    "start_time": "2023-06-07T08:52:54.104Z"
   },
   {
    "duration": 191,
    "start_time": "2023-06-07T08:52:55.029Z"
   },
   {
    "duration": 198,
    "start_time": "2023-06-07T08:52:55.944Z"
   },
   {
    "duration": 206,
    "start_time": "2023-06-07T08:52:56.690Z"
   },
   {
    "duration": 217,
    "start_time": "2023-06-07T08:52:57.503Z"
   },
   {
    "duration": 163,
    "start_time": "2023-06-07T08:52:58.899Z"
   },
   {
    "duration": 192,
    "start_time": "2023-06-07T08:52:59.394Z"
   },
   {
    "duration": 18,
    "start_time": "2023-06-07T08:53:00.144Z"
   },
   {
    "duration": 15,
    "start_time": "2023-06-07T08:53:01.112Z"
   },
   {
    "duration": 18,
    "start_time": "2023-06-07T08:53:01.729Z"
   },
   {
    "duration": 219,
    "start_time": "2023-06-07T08:53:02.601Z"
   },
   {
    "duration": 364,
    "start_time": "2023-06-07T08:53:02.998Z"
   },
   {
    "duration": 832,
    "start_time": "2023-06-07T08:53:05.094Z"
   },
   {
    "duration": 12,
    "start_time": "2023-06-07T08:53:06.232Z"
   },
   {
    "duration": 3518,
    "start_time": "2023-06-07T08:53:26.342Z"
   },
   {
    "duration": 79,
    "start_time": "2023-06-07T09:27:30.841Z"
   },
   {
    "duration": 17,
    "start_time": "2023-06-07T09:27:31.576Z"
   },
   {
    "duration": 14,
    "start_time": "2023-06-07T09:27:32.342Z"
   },
   {
    "duration": 11,
    "start_time": "2023-06-07T09:27:33.023Z"
   },
   {
    "duration": 19,
    "start_time": "2023-06-07T09:27:34.774Z"
   },
   {
    "duration": 12,
    "start_time": "2023-06-07T09:27:35.374Z"
   },
   {
    "duration": 16,
    "start_time": "2023-06-07T09:27:36.368Z"
   },
   {
    "duration": 6,
    "start_time": "2023-06-07T09:27:36.909Z"
   },
   {
    "duration": 139,
    "start_time": "2023-06-07T09:27:39.160Z"
   },
   {
    "duration": 157,
    "start_time": "2023-06-07T09:27:40.638Z"
   },
   {
    "duration": 165,
    "start_time": "2023-06-07T09:27:42.095Z"
   },
   {
    "duration": 135,
    "start_time": "2023-06-07T09:27:43.583Z"
   },
   {
    "duration": 190,
    "start_time": "2023-06-07T09:27:44.712Z"
   },
   {
    "duration": 180,
    "start_time": "2023-06-07T09:27:45.673Z"
   },
   {
    "duration": 139,
    "start_time": "2023-06-07T09:27:47.089Z"
   },
   {
    "duration": 196,
    "start_time": "2023-06-07T09:27:48.232Z"
   },
   {
    "duration": 18,
    "start_time": "2023-06-07T09:27:49.690Z"
   },
   {
    "duration": 14,
    "start_time": "2023-06-07T09:27:51.431Z"
   },
   {
    "duration": 18,
    "start_time": "2023-06-07T09:27:52.471Z"
   },
   {
    "duration": 207,
    "start_time": "2023-06-07T09:27:53.590Z"
   },
   {
    "duration": 215,
    "start_time": "2023-06-07T09:27:54.198Z"
   },
   {
    "duration": 958,
    "start_time": "2023-06-07T09:27:56.688Z"
   },
   {
    "duration": 18,
    "start_time": "2023-06-07T09:27:59.637Z"
   },
   {
    "duration": 293,
    "start_time": "2023-06-07T09:28:12.008Z"
   },
   {
    "duration": 275,
    "start_time": "2023-06-07T09:52:34.594Z"
   },
   {
    "duration": 32,
    "start_time": "2023-06-07T09:53:37.699Z"
   },
   {
    "duration": 892,
    "start_time": "2023-06-07T09:58:55.846Z"
   },
   {
    "duration": 28,
    "start_time": "2023-06-07T10:00:18.469Z"
   },
   {
    "duration": 17,
    "start_time": "2023-06-07T10:01:42.012Z"
   },
   {
    "duration": 40,
    "start_time": "2023-06-07T10:02:02.076Z"
   },
   {
    "duration": 16,
    "start_time": "2023-06-07T10:02:32.130Z"
   },
   {
    "duration": 22,
    "start_time": "2023-06-07T10:03:08.873Z"
   },
   {
    "duration": 72,
    "start_time": "2023-06-07T10:03:29.540Z"
   },
   {
    "duration": 15,
    "start_time": "2023-06-07T10:03:30.350Z"
   },
   {
    "duration": 19,
    "start_time": "2023-06-07T10:03:31.110Z"
   },
   {
    "duration": 13,
    "start_time": "2023-06-07T10:03:31.700Z"
   },
   {
    "duration": 13,
    "start_time": "2023-06-07T10:03:33.303Z"
   },
   {
    "duration": 13,
    "start_time": "2023-06-07T10:03:33.955Z"
   },
   {
    "duration": 10,
    "start_time": "2023-06-07T10:03:34.854Z"
   },
   {
    "duration": 5,
    "start_time": "2023-06-07T10:03:35.358Z"
   },
   {
    "duration": 169,
    "start_time": "2023-06-07T10:03:37.070Z"
   },
   {
    "duration": 162,
    "start_time": "2023-06-07T10:03:38.394Z"
   },
   {
    "duration": 174,
    "start_time": "2023-06-07T10:03:39.650Z"
   },
   {
    "duration": 153,
    "start_time": "2023-06-07T10:03:40.845Z"
   },
   {
    "duration": 176,
    "start_time": "2023-06-07T10:03:41.644Z"
   },
   {
    "duration": 183,
    "start_time": "2023-06-07T10:03:42.413Z"
   },
   {
    "duration": 136,
    "start_time": "2023-06-07T10:03:43.512Z"
   },
   {
    "duration": 223,
    "start_time": "2023-06-07T10:03:44.298Z"
   },
   {
    "duration": 27,
    "start_time": "2023-06-07T10:03:45.476Z"
   },
   {
    "duration": 19,
    "start_time": "2023-06-07T10:03:46.871Z"
   },
   {
    "duration": 15,
    "start_time": "2023-06-07T10:04:04.718Z"
   },
   {
    "duration": 251,
    "start_time": "2023-06-07T10:04:06.666Z"
   },
   {
    "duration": 269,
    "start_time": "2023-06-07T10:04:06.920Z"
   },
   {
    "duration": 866,
    "start_time": "2023-06-07T10:04:08.818Z"
   },
   {
    "duration": 1271,
    "start_time": "2023-06-07T10:04:46.320Z"
   },
   {
    "duration": 20,
    "start_time": "2023-06-07T10:04:57.518Z"
   },
   {
    "duration": 24,
    "start_time": "2023-06-07T10:05:45.905Z"
   },
   {
    "duration": 28,
    "start_time": "2023-06-07T10:06:29.487Z"
   },
   {
    "duration": 1102,
    "start_time": "2023-06-07T10:06:41.653Z"
   },
   {
    "duration": 26,
    "start_time": "2023-06-07T10:06:51.613Z"
   },
   {
    "duration": 22,
    "start_time": "2023-06-07T10:07:08.997Z"
   },
   {
    "duration": 64,
    "start_time": "2023-06-07T10:09:51.608Z"
   },
   {
    "duration": 13,
    "start_time": "2023-06-07T10:09:52.334Z"
   },
   {
    "duration": 15,
    "start_time": "2023-06-07T10:09:53.033Z"
   },
   {
    "duration": 13,
    "start_time": "2023-06-07T10:09:53.725Z"
   },
   {
    "duration": 12,
    "start_time": "2023-06-07T10:09:55.610Z"
   },
   {
    "duration": 11,
    "start_time": "2023-06-07T10:09:56.128Z"
   },
   {
    "duration": 8,
    "start_time": "2023-06-07T10:09:57.152Z"
   },
   {
    "duration": 6,
    "start_time": "2023-06-07T10:09:57.732Z"
   },
   {
    "duration": 151,
    "start_time": "2023-06-07T10:09:59.653Z"
   },
   {
    "duration": 154,
    "start_time": "2023-06-07T10:10:01.088Z"
   },
   {
    "duration": 350,
    "start_time": "2023-06-07T10:10:02.410Z"
   },
   {
    "duration": 161,
    "start_time": "2023-06-07T10:10:03.913Z"
   },
   {
    "duration": 193,
    "start_time": "2023-06-07T10:10:04.846Z"
   },
   {
    "duration": 198,
    "start_time": "2023-06-07T10:10:05.951Z"
   },
   {
    "duration": 129,
    "start_time": "2023-06-07T10:10:07.296Z"
   },
   {
    "duration": 178,
    "start_time": "2023-06-07T10:10:08.343Z"
   },
   {
    "duration": 16,
    "start_time": "2023-06-07T10:10:09.909Z"
   },
   {
    "duration": 17,
    "start_time": "2023-06-07T10:10:11.462Z"
   },
   {
    "duration": 11,
    "start_time": "2023-06-07T10:10:12.511Z"
   },
   {
    "duration": 203,
    "start_time": "2023-06-07T10:10:13.566Z"
   },
   {
    "duration": 232,
    "start_time": "2023-06-07T10:10:14.126Z"
   },
   {
    "duration": 804,
    "start_time": "2023-06-07T10:10:16.027Z"
   },
   {
    "duration": 28,
    "start_time": "2023-06-07T10:10:17.065Z"
   },
   {
    "duration": 12,
    "start_time": "2023-06-07T10:10:36.336Z"
   },
   {
    "duration": 21,
    "start_time": "2023-06-07T10:13:34.068Z"
   },
   {
    "duration": 20,
    "start_time": "2023-06-07T10:13:51.992Z"
   },
   {
    "duration": 269,
    "start_time": "2023-06-07T10:14:57.968Z"
   },
   {
    "duration": 336,
    "start_time": "2023-06-07T10:17:18.810Z"
   },
   {
    "duration": 23,
    "start_time": "2023-06-07T10:17:30.418Z"
   },
   {
    "duration": 28,
    "start_time": "2023-06-07T10:18:00.275Z"
   },
   {
    "duration": 827,
    "start_time": "2023-06-07T10:19:30.509Z"
   },
   {
    "duration": 333,
    "start_time": "2023-06-07T10:19:32.712Z"
   },
   {
    "duration": 399,
    "start_time": "2023-06-07T10:24:37.663Z"
   },
   {
    "duration": 16,
    "start_time": "2023-06-07T10:24:51.619Z"
   },
   {
    "duration": 886,
    "start_time": "2023-06-07T10:27:51.223Z"
   },
   {
    "duration": 18,
    "start_time": "2023-06-07T10:27:59.316Z"
   },
   {
    "duration": 273,
    "start_time": "2023-06-07T10:28:31.255Z"
   },
   {
    "duration": 32,
    "start_time": "2023-06-07T10:28:50.573Z"
   },
   {
    "duration": 18,
    "start_time": "2023-06-07T10:30:09.314Z"
   },
   {
    "duration": 928,
    "start_time": "2023-06-07T10:30:58.336Z"
   },
   {
    "duration": 96,
    "start_time": "2023-06-07T10:33:16.261Z"
   },
   {
    "duration": 13,
    "start_time": "2023-06-07T10:33:17.007Z"
   },
   {
    "duration": 14,
    "start_time": "2023-06-07T10:33:17.632Z"
   },
   {
    "duration": 11,
    "start_time": "2023-06-07T10:33:18.147Z"
   },
   {
    "duration": 14,
    "start_time": "2023-06-07T10:33:19.523Z"
   },
   {
    "duration": 11,
    "start_time": "2023-06-07T10:33:20.045Z"
   },
   {
    "duration": 9,
    "start_time": "2023-06-07T10:33:20.943Z"
   },
   {
    "duration": 5,
    "start_time": "2023-06-07T10:33:21.151Z"
   },
   {
    "duration": 184,
    "start_time": "2023-06-07T10:33:22.225Z"
   },
   {
    "duration": 176,
    "start_time": "2023-06-07T10:33:23.006Z"
   },
   {
    "duration": 184,
    "start_time": "2023-06-07T10:33:23.743Z"
   },
   {
    "duration": 177,
    "start_time": "2023-06-07T10:33:24.434Z"
   },
   {
    "duration": 240,
    "start_time": "2023-06-07T10:33:24.905Z"
   },
   {
    "duration": 228,
    "start_time": "2023-06-07T10:33:25.670Z"
   },
   {
    "duration": 140,
    "start_time": "2023-06-07T10:33:26.512Z"
   },
   {
    "duration": 216,
    "start_time": "2023-06-07T10:33:27.402Z"
   },
   {
    "duration": 20,
    "start_time": "2023-06-07T10:33:29.918Z"
   },
   {
    "duration": 20,
    "start_time": "2023-06-07T10:33:34.154Z"
   },
   {
    "duration": 12,
    "start_time": "2023-06-07T10:33:35.438Z"
   },
   {
    "duration": 233,
    "start_time": "2023-06-07T10:33:36.937Z"
   },
   {
    "duration": 213,
    "start_time": "2023-06-07T10:33:37.431Z"
   },
   {
    "duration": 877,
    "start_time": "2023-06-07T10:33:43.470Z"
   },
   {
    "duration": 856,
    "start_time": "2023-06-07T10:34:16.739Z"
   },
   {
    "duration": 17,
    "start_time": "2023-06-07T10:34:53.410Z"
   },
   {
    "duration": 918,
    "start_time": "2023-06-07T10:35:59.620Z"
   },
   {
    "duration": 842,
    "start_time": "2023-06-07T10:36:23.290Z"
   },
   {
    "duration": 839,
    "start_time": "2023-06-07T10:36:40.422Z"
   },
   {
    "duration": 983,
    "start_time": "2023-06-07T10:37:22.252Z"
   },
   {
    "duration": 16,
    "start_time": "2023-06-07T10:37:37.203Z"
   },
   {
    "duration": 15,
    "start_time": "2023-06-07T10:38:42.227Z"
   },
   {
    "duration": 110,
    "start_time": "2023-06-07T10:38:56.907Z"
   },
   {
    "duration": 114,
    "start_time": "2023-06-07T10:39:00.056Z"
   },
   {
    "duration": 104,
    "start_time": "2023-06-07T10:39:14.756Z"
   },
   {
    "duration": 48,
    "start_time": "2023-06-07T10:39:27.417Z"
   },
   {
    "duration": 145,
    "start_time": "2023-06-07T10:39:34.257Z"
   },
   {
    "duration": 112,
    "start_time": "2023-06-07T10:39:42.710Z"
   },
   {
    "duration": 170,
    "start_time": "2023-06-07T10:39:54.102Z"
   },
   {
    "duration": 132,
    "start_time": "2023-06-07T10:40:15.849Z"
   },
   {
    "duration": 119,
    "start_time": "2023-06-07T10:40:39.601Z"
   },
   {
    "duration": 140,
    "start_time": "2023-06-07T10:40:44.232Z"
   },
   {
    "duration": 69,
    "start_time": "2023-06-07T10:47:47.110Z"
   },
   {
    "duration": 13,
    "start_time": "2023-06-07T10:47:51.123Z"
   },
   {
    "duration": 20,
    "start_time": "2023-06-07T10:48:13.836Z"
   },
   {
    "duration": 17,
    "start_time": "2023-06-07T10:48:13.857Z"
   },
   {
    "duration": 25,
    "start_time": "2023-06-07T10:48:13.887Z"
   },
   {
    "duration": 12,
    "start_time": "2023-06-07T10:48:13.914Z"
   },
   {
    "duration": 12,
    "start_time": "2023-06-07T10:48:14.211Z"
   },
   {
    "duration": 8,
    "start_time": "2023-06-07T10:48:14.437Z"
   },
   {
    "duration": 139,
    "start_time": "2023-06-07T10:48:15.211Z"
   },
   {
    "duration": 167,
    "start_time": "2023-06-07T10:48:15.752Z"
   },
   {
    "duration": 173,
    "start_time": "2023-06-07T10:48:16.538Z"
   },
   {
    "duration": 375,
    "start_time": "2023-06-07T10:48:17.138Z"
   },
   {
    "duration": 208,
    "start_time": "2023-06-07T10:48:17.521Z"
   },
   {
    "duration": 190,
    "start_time": "2023-06-07T10:48:18.128Z"
   },
   {
    "duration": 156,
    "start_time": "2023-06-07T10:48:18.535Z"
   },
   {
    "duration": 183,
    "start_time": "2023-06-07T10:48:18.907Z"
   },
   {
    "duration": 17,
    "start_time": "2023-06-07T10:48:19.525Z"
   },
   {
    "duration": 14,
    "start_time": "2023-06-07T10:48:20.336Z"
   },
   {
    "duration": 12,
    "start_time": "2023-06-07T10:48:21.362Z"
   },
   {
    "duration": 218,
    "start_time": "2023-06-07T10:48:22.015Z"
   },
   {
    "duration": 205,
    "start_time": "2023-06-07T10:48:22.303Z"
   },
   {
    "duration": 1005,
    "start_time": "2023-06-07T10:48:23.852Z"
   },
   {
    "duration": 67,
    "start_time": "2023-06-07T10:48:32.911Z"
   },
   {
    "duration": 15,
    "start_time": "2023-06-07T10:48:34.432Z"
   },
   {
    "duration": 86,
    "start_time": "2023-06-07T10:56:04.664Z"
   },
   {
    "duration": 23,
    "start_time": "2023-06-07T10:56:05.969Z"
   },
   {
    "duration": 25,
    "start_time": "2023-06-07T10:56:09.069Z"
   },
   {
    "duration": 14,
    "start_time": "2023-06-07T10:56:10.515Z"
   },
   {
    "duration": 13,
    "start_time": "2023-06-07T10:56:13.526Z"
   },
   {
    "duration": 14,
    "start_time": "2023-06-07T10:56:14.430Z"
   },
   {
    "duration": 9,
    "start_time": "2023-06-07T10:56:16.559Z"
   },
   {
    "duration": 6,
    "start_time": "2023-06-07T10:56:17.460Z"
   },
   {
    "duration": 141,
    "start_time": "2023-06-07T10:56:20.618Z"
   },
   {
    "duration": 166,
    "start_time": "2023-06-07T10:56:22.604Z"
   },
   {
    "duration": 194,
    "start_time": "2023-06-07T10:56:24.818Z"
   },
   {
    "duration": 141,
    "start_time": "2023-06-07T10:56:26.948Z"
   },
   {
    "duration": 208,
    "start_time": "2023-06-07T10:56:31.605Z"
   },
   {
    "duration": 196,
    "start_time": "2023-06-07T10:56:36.419Z"
   },
   {
    "duration": 165,
    "start_time": "2023-06-07T10:56:43.138Z"
   },
   {
    "duration": 7,
    "start_time": "2023-06-07T10:56:53.848Z"
   },
   {
    "duration": 23,
    "start_time": "2023-06-07T10:56:57.817Z"
   },
   {
    "duration": 14,
    "start_time": "2023-06-07T10:57:02.249Z"
   },
   {
    "duration": 12,
    "start_time": "2023-06-07T10:57:05.139Z"
   },
   {
    "duration": 234,
    "start_time": "2023-06-07T10:57:09.908Z"
   },
   {
    "duration": 243,
    "start_time": "2023-06-07T10:57:11.153Z"
   },
   {
    "duration": 859,
    "start_time": "2023-06-07T10:57:22.726Z"
   },
   {
    "duration": 18,
    "start_time": "2023-06-07T10:58:21.523Z"
   },
   {
    "duration": 320,
    "start_time": "2023-06-07T10:59:43.735Z"
   },
   {
    "duration": 22,
    "start_time": "2023-06-07T10:59:59.835Z"
   },
   {
    "duration": 77,
    "start_time": "2023-06-07T11:00:44.207Z"
   },
   {
    "duration": 163,
    "start_time": "2023-06-07T11:01:06.345Z"
   },
   {
    "duration": 1019,
    "start_time": "2023-06-07T15:54:42.687Z"
   },
   {
    "duration": 16,
    "start_time": "2023-06-07T15:54:44.107Z"
   },
   {
    "duration": 15,
    "start_time": "2023-06-07T15:54:45.521Z"
   },
   {
    "duration": 14,
    "start_time": "2023-06-07T15:54:46.550Z"
   },
   {
    "duration": 13,
    "start_time": "2023-06-07T15:54:49.653Z"
   },
   {
    "duration": 12,
    "start_time": "2023-06-07T15:54:51.458Z"
   },
   {
    "duration": 10,
    "start_time": "2023-06-07T15:54:52.695Z"
   },
   {
    "duration": 6,
    "start_time": "2023-06-07T15:54:53.699Z"
   },
   {
    "duration": 177,
    "start_time": "2023-06-07T15:54:57.701Z"
   },
   {
    "duration": 149,
    "start_time": "2023-06-07T15:55:00.253Z"
   },
   {
    "duration": 158,
    "start_time": "2023-06-07T15:55:02.158Z"
   },
   {
    "duration": 128,
    "start_time": "2023-06-07T15:55:04.301Z"
   },
   {
    "duration": 222,
    "start_time": "2023-06-07T15:55:05.754Z"
   },
   {
    "duration": 176,
    "start_time": "2023-06-07T15:55:07.320Z"
   },
   {
    "duration": 128,
    "start_time": "2023-06-07T15:55:09.743Z"
   },
   {
    "duration": 8,
    "start_time": "2023-06-07T15:55:11.005Z"
   },
   {
    "duration": 19,
    "start_time": "2023-06-07T15:55:14.053Z"
   },
   {
    "duration": 15,
    "start_time": "2023-06-07T15:55:17.374Z"
   },
   {
    "duration": 12,
    "start_time": "2023-06-07T15:55:19.018Z"
   },
   {
    "duration": 238,
    "start_time": "2023-06-07T15:55:20.767Z"
   },
   {
    "duration": 190,
    "start_time": "2023-06-07T15:55:26.154Z"
   },
   {
    "duration": 813,
    "start_time": "2023-06-07T15:55:31.073Z"
   },
   {
    "duration": 138,
    "start_time": "2023-06-07T15:55:42.923Z"
   },
   {
    "duration": 520,
    "start_time": "2023-06-07T16:02:18.350Z"
   },
   {
    "duration": 13,
    "start_time": "2023-06-07T16:02:19.585Z"
   },
   {
    "duration": 14,
    "start_time": "2023-06-07T16:02:20.456Z"
   },
   {
    "duration": 12,
    "start_time": "2023-06-07T16:02:21.264Z"
   },
   {
    "duration": 12,
    "start_time": "2023-06-07T16:02:23.163Z"
   },
   {
    "duration": 11,
    "start_time": "2023-06-07T16:02:24.062Z"
   },
   {
    "duration": 9,
    "start_time": "2023-06-07T16:02:24.691Z"
   },
   {
    "duration": 6,
    "start_time": "2023-06-07T16:02:25.084Z"
   },
   {
    "duration": 203,
    "start_time": "2023-06-07T16:02:26.901Z"
   },
   {
    "duration": 159,
    "start_time": "2023-06-07T16:02:27.969Z"
   },
   {
    "duration": 174,
    "start_time": "2023-06-07T16:02:28.968Z"
   },
   {
    "duration": 134,
    "start_time": "2023-06-07T16:02:30.151Z"
   },
   {
    "duration": 184,
    "start_time": "2023-06-07T16:02:30.830Z"
   },
   {
    "duration": 184,
    "start_time": "2023-06-07T16:02:31.500Z"
   },
   {
    "duration": 133,
    "start_time": "2023-06-07T16:02:32.978Z"
   },
   {
    "duration": 6,
    "start_time": "2023-06-07T16:02:33.644Z"
   },
   {
    "duration": 19,
    "start_time": "2023-06-07T16:02:34.907Z"
   },
   {
    "duration": 19,
    "start_time": "2023-06-07T16:02:36.423Z"
   },
   {
    "duration": 13,
    "start_time": "2023-06-07T16:02:39.602Z"
   },
   {
    "duration": 210,
    "start_time": "2023-06-07T16:02:40.672Z"
   },
   {
    "duration": 190,
    "start_time": "2023-06-07T16:02:41.295Z"
   },
   {
    "duration": 864,
    "start_time": "2023-06-07T16:02:43.726Z"
   },
   {
    "duration": 132,
    "start_time": "2023-06-07T16:02:48.823Z"
   },
   {
    "duration": 6,
    "start_time": "2023-06-07T16:18:20.387Z"
   },
   {
    "duration": 6,
    "start_time": "2023-06-07T16:33:51.734Z"
   },
   {
    "duration": 74,
    "start_time": "2023-06-07T16:53:07.753Z"
   },
   {
    "duration": 13,
    "start_time": "2023-06-07T16:53:08.947Z"
   },
   {
    "duration": 14,
    "start_time": "2023-06-07T16:53:11.276Z"
   },
   {
    "duration": 13,
    "start_time": "2023-06-07T16:53:12.130Z"
   },
   {
    "duration": 13,
    "start_time": "2023-06-07T16:53:14.354Z"
   },
   {
    "duration": 10,
    "start_time": "2023-06-07T16:53:15.338Z"
   },
   {
    "duration": 10,
    "start_time": "2023-06-07T16:53:16.717Z"
   },
   {
    "duration": 7,
    "start_time": "2023-06-07T16:53:18.272Z"
   },
   {
    "duration": 135,
    "start_time": "2023-06-07T16:53:20.437Z"
   },
   {
    "duration": 161,
    "start_time": "2023-06-07T16:53:22.159Z"
   },
   {
    "duration": 284,
    "start_time": "2023-06-07T16:53:24.022Z"
   },
   {
    "duration": 152,
    "start_time": "2023-06-07T16:53:25.712Z"
   },
   {
    "duration": 189,
    "start_time": "2023-06-07T16:53:27.012Z"
   },
   {
    "duration": 184,
    "start_time": "2023-06-07T16:53:28.286Z"
   },
   {
    "duration": 140,
    "start_time": "2023-06-07T16:53:30.437Z"
   },
   {
    "duration": 7,
    "start_time": "2023-06-07T16:53:31.632Z"
   },
   {
    "duration": 18,
    "start_time": "2023-06-07T16:53:33.501Z"
   },
   {
    "duration": 14,
    "start_time": "2023-06-07T16:53:35.174Z"
   },
   {
    "duration": 15,
    "start_time": "2023-06-07T16:53:36.589Z"
   },
   {
    "duration": 234,
    "start_time": "2023-06-07T16:53:37.693Z"
   },
   {
    "duration": 197,
    "start_time": "2023-06-07T16:53:38.261Z"
   },
   {
    "duration": 867,
    "start_time": "2023-06-07T16:53:41.220Z"
   },
   {
    "duration": 138,
    "start_time": "2023-06-07T16:53:52.108Z"
   },
   {
    "duration": 6,
    "start_time": "2023-06-07T16:53:54.446Z"
   },
   {
    "duration": 6,
    "start_time": "2023-06-07T16:53:57.811Z"
   },
   {
    "duration": 12,
    "start_time": "2023-06-07T17:14:53.689Z"
   },
   {
    "duration": 12,
    "start_time": "2023-06-07T17:15:07.224Z"
   },
   {
    "duration": 12,
    "start_time": "2023-06-07T17:15:37.607Z"
   },
   {
    "duration": 16,
    "start_time": "2023-06-07T17:17:16.051Z"
   },
   {
    "duration": 13,
    "start_time": "2023-06-07T17:17:25.560Z"
   },
   {
    "duration": 13,
    "start_time": "2023-06-07T17:17:29.488Z"
   },
   {
    "duration": 8,
    "start_time": "2023-06-07T17:17:54.012Z"
   },
   {
    "duration": 8,
    "start_time": "2023-06-07T17:18:31.070Z"
   },
   {
    "duration": 8,
    "start_time": "2023-06-07T17:18:35.437Z"
   },
   {
    "duration": 25,
    "start_time": "2023-06-07T17:20:59.422Z"
   },
   {
    "duration": 13,
    "start_time": "2023-06-07T17:23:52.247Z"
   },
   {
    "duration": 15,
    "start_time": "2023-06-07T17:24:08.068Z"
   },
   {
    "duration": 74,
    "start_time": "2023-06-07T17:52:42.080Z"
   },
   {
    "duration": 14,
    "start_time": "2023-06-07T17:52:44.036Z"
   },
   {
    "duration": 15,
    "start_time": "2023-06-07T17:52:46.200Z"
   },
   {
    "duration": 13,
    "start_time": "2023-06-07T17:52:48.034Z"
   },
   {
    "duration": 19,
    "start_time": "2023-06-07T17:52:51.984Z"
   },
   {
    "duration": 16,
    "start_time": "2023-06-07T17:52:54.495Z"
   },
   {
    "duration": 11,
    "start_time": "2023-06-07T17:52:57.489Z"
   },
   {
    "duration": 6,
    "start_time": "2023-06-07T17:52:58.641Z"
   },
   {
    "duration": 181,
    "start_time": "2023-06-07T17:53:06.398Z"
   },
   {
    "duration": 164,
    "start_time": "2023-06-07T17:53:14.416Z"
   },
   {
    "duration": 165,
    "start_time": "2023-06-07T17:53:22.938Z"
   },
   {
    "duration": 175,
    "start_time": "2023-06-07T17:53:26.109Z"
   },
   {
    "duration": 190,
    "start_time": "2023-06-07T17:53:32.272Z"
   },
   {
    "duration": 285,
    "start_time": "2023-06-07T17:53:34.155Z"
   },
   {
    "duration": 153,
    "start_time": "2023-06-07T17:53:44.125Z"
   },
   {
    "duration": 11,
    "start_time": "2023-06-07T17:53:55.717Z"
   },
   {
    "duration": 28,
    "start_time": "2023-06-07T17:53:58.697Z"
   },
   {
    "duration": 15,
    "start_time": "2023-06-07T17:54:05.574Z"
   },
   {
    "duration": 17,
    "start_time": "2023-06-07T17:54:16.858Z"
   },
   {
    "duration": 14,
    "start_time": "2023-06-07T17:54:23.009Z"
   },
   {
    "duration": 235,
    "start_time": "2023-06-07T17:54:25.331Z"
   },
   {
    "duration": 197,
    "start_time": "2023-06-07T17:54:26.757Z"
   },
   {
    "duration": 865,
    "start_time": "2023-06-07T17:54:41.524Z"
   },
   {
    "duration": 140,
    "start_time": "2023-06-07T17:54:46.580Z"
   },
   {
    "duration": 6,
    "start_time": "2023-06-07T17:54:50.796Z"
   },
   {
    "duration": 5,
    "start_time": "2023-06-07T17:54:57.168Z"
   },
   {
    "duration": 6,
    "start_time": "2023-06-07T17:55:21.691Z"
   },
   {
    "duration": 6,
    "start_time": "2023-06-07T17:55:35.155Z"
   },
   {
    "duration": 13,
    "start_time": "2023-06-07T17:55:50.811Z"
   },
   {
    "duration": 14,
    "start_time": "2023-06-07T17:55:51.533Z"
   },
   {
    "duration": 5,
    "start_time": "2023-06-07T17:55:52.296Z"
   },
   {
    "duration": 100,
    "start_time": "2023-06-07T18:00:32.677Z"
   },
   {
    "duration": 11,
    "start_time": "2023-06-07T18:01:08.466Z"
   },
   {
    "duration": 121,
    "start_time": "2023-06-07T18:01:21.184Z"
   },
   {
    "duration": 240,
    "start_time": "2023-06-07T18:02:23.161Z"
   },
   {
    "duration": 5,
    "start_time": "2023-06-07T18:17:35.081Z"
   },
   {
    "duration": 87,
    "start_time": "2023-06-07T18:22:49.687Z"
   },
   {
    "duration": 157,
    "start_time": "2023-06-07T18:23:10.204Z"
   },
   {
    "duration": 129,
    "start_time": "2023-06-07T18:23:49.164Z"
   },
   {
    "duration": 143,
    "start_time": "2023-06-07T18:24:05.657Z"
   },
   {
    "duration": 72,
    "start_time": "2023-06-07T18:24:32.587Z"
   },
   {
    "duration": 14,
    "start_time": "2023-06-07T18:24:36.939Z"
   },
   {
    "duration": 14,
    "start_time": "2023-06-07T18:24:54.557Z"
   },
   {
    "duration": 12,
    "start_time": "2023-06-07T18:25:03.373Z"
   },
   {
    "duration": 139,
    "start_time": "2023-06-07T18:25:22.432Z"
   },
   {
    "duration": 10,
    "start_time": "2023-06-07T18:25:28.229Z"
   },
   {
    "duration": 10,
    "start_time": "2023-06-07T18:25:37.794Z"
   },
   {
    "duration": 7,
    "start_time": "2023-06-07T18:25:44.859Z"
   },
   {
    "duration": 144,
    "start_time": "2023-06-07T18:25:55.276Z"
   },
   {
    "duration": 165,
    "start_time": "2023-06-07T18:26:15.744Z"
   },
   {
    "duration": 168,
    "start_time": "2023-06-07T18:26:24.238Z"
   },
   {
    "duration": 138,
    "start_time": "2023-06-07T18:26:28.784Z"
   },
   {
    "duration": 193,
    "start_time": "2023-06-07T18:26:32.996Z"
   },
   {
    "duration": 189,
    "start_time": "2023-06-07T18:26:34.705Z"
   },
   {
    "duration": 133,
    "start_time": "2023-06-07T18:26:41.255Z"
   },
   {
    "duration": 8,
    "start_time": "2023-06-07T18:26:52.155Z"
   },
   {
    "duration": 18,
    "start_time": "2023-06-07T18:26:55.853Z"
   },
   {
    "duration": 15,
    "start_time": "2023-06-07T18:27:47.913Z"
   },
   {
    "duration": 219,
    "start_time": "2023-06-07T18:28:26.592Z"
   },
   {
    "duration": 221,
    "start_time": "2023-06-07T18:28:33.697Z"
   },
   {
    "duration": 843,
    "start_time": "2023-06-07T18:29:03.788Z"
   },
   {
    "duration": 140,
    "start_time": "2023-06-07T18:29:14.380Z"
   },
   {
    "duration": 6,
    "start_time": "2023-06-07T18:29:25.527Z"
   },
   {
    "duration": 7,
    "start_time": "2023-06-07T18:29:30.394Z"
   },
   {
    "duration": 1205,
    "start_time": "2023-06-07T19:11:57.853Z"
   },
   {
    "duration": 13,
    "start_time": "2023-06-07T19:11:59.059Z"
   },
   {
    "duration": 14,
    "start_time": "2023-06-07T19:11:59.074Z"
   },
   {
    "duration": 19,
    "start_time": "2023-06-07T19:11:59.090Z"
   },
   {
    "duration": 58,
    "start_time": "2023-06-07T19:11:59.111Z"
   },
   {
    "duration": 11,
    "start_time": "2023-06-07T19:11:59.171Z"
   },
   {
    "duration": 9,
    "start_time": "2023-06-07T19:11:59.186Z"
   },
   {
    "duration": 90,
    "start_time": "2023-06-07T19:11:59.196Z"
   },
   {
    "duration": 271,
    "start_time": "2023-06-07T19:11:59.287Z"
   },
   {
    "duration": 183,
    "start_time": "2023-06-07T19:11:59.560Z"
   },
   {
    "duration": 164,
    "start_time": "2023-06-07T19:11:59.748Z"
   },
   {
    "duration": 142,
    "start_time": "2023-06-07T19:11:59.918Z"
   },
   {
    "duration": 200,
    "start_time": "2023-06-07T19:12:00.062Z"
   },
   {
    "duration": 182,
    "start_time": "2023-06-07T19:12:00.265Z"
   },
   {
    "duration": 160,
    "start_time": "2023-06-07T19:12:00.449Z"
   },
   {
    "duration": 20,
    "start_time": "2023-06-07T19:12:00.610Z"
   },
   {
    "duration": 66,
    "start_time": "2023-06-07T19:12:00.632Z"
   },
   {
    "duration": 31,
    "start_time": "2023-06-07T19:12:00.700Z"
   },
   {
    "duration": 43,
    "start_time": "2023-06-07T19:12:00.740Z"
   },
   {
    "duration": 326,
    "start_time": "2023-06-07T19:12:00.785Z"
   },
   {
    "duration": 237,
    "start_time": "2023-06-07T19:12:01.113Z"
   },
   {
    "duration": 954,
    "start_time": "2023-06-07T19:12:01.352Z"
   },
   {
    "duration": 230,
    "start_time": "2023-06-07T19:12:02.308Z"
   },
   {
    "duration": 5,
    "start_time": "2023-06-07T19:12:02.540Z"
   },
   {
    "duration": 66,
    "start_time": "2023-06-07T19:12:02.547Z"
   },
   {
    "duration": 86,
    "start_time": "2023-06-07T19:12:02.615Z"
   },
   {
    "duration": 59,
    "start_time": "2023-06-07T19:12:02.702Z"
   },
   {
    "duration": 39,
    "start_time": "2023-06-07T19:12:02.763Z"
   },
   {
    "duration": 1596,
    "start_time": "2023-06-08T13:04:04.831Z"
   },
   {
    "duration": 0,
    "start_time": "2023-06-08T13:04:06.430Z"
   },
   {
    "duration": 0,
    "start_time": "2023-06-08T13:04:06.431Z"
   },
   {
    "duration": 0,
    "start_time": "2023-06-08T13:04:06.433Z"
   },
   {
    "duration": 0,
    "start_time": "2023-06-08T13:04:06.434Z"
   },
   {
    "duration": 0,
    "start_time": "2023-06-08T13:04:06.436Z"
   },
   {
    "duration": 0,
    "start_time": "2023-06-08T13:04:06.438Z"
   },
   {
    "duration": 0,
    "start_time": "2023-06-08T13:04:06.439Z"
   },
   {
    "duration": 0,
    "start_time": "2023-06-08T13:04:06.442Z"
   },
   {
    "duration": 0,
    "start_time": "2023-06-08T13:04:06.444Z"
   },
   {
    "duration": 0,
    "start_time": "2023-06-08T13:04:06.446Z"
   },
   {
    "duration": 0,
    "start_time": "2023-06-08T13:04:06.447Z"
   },
   {
    "duration": 0,
    "start_time": "2023-06-08T13:04:06.450Z"
   },
   {
    "duration": 0,
    "start_time": "2023-06-08T13:04:06.452Z"
   },
   {
    "duration": 0,
    "start_time": "2023-06-08T13:04:06.476Z"
   },
   {
    "duration": 0,
    "start_time": "2023-06-08T13:04:06.477Z"
   },
   {
    "duration": 0,
    "start_time": "2023-06-08T13:04:06.478Z"
   },
   {
    "duration": 0,
    "start_time": "2023-06-08T13:04:06.479Z"
   },
   {
    "duration": 0,
    "start_time": "2023-06-08T13:04:06.480Z"
   },
   {
    "duration": 0,
    "start_time": "2023-06-08T13:04:06.480Z"
   },
   {
    "duration": 0,
    "start_time": "2023-06-08T13:04:06.481Z"
   },
   {
    "duration": 0,
    "start_time": "2023-06-08T13:04:06.482Z"
   },
   {
    "duration": 0,
    "start_time": "2023-06-08T13:04:06.482Z"
   },
   {
    "duration": 0,
    "start_time": "2023-06-08T13:04:06.483Z"
   },
   {
    "duration": 0,
    "start_time": "2023-06-08T13:04:06.484Z"
   },
   {
    "duration": 0,
    "start_time": "2023-06-08T13:04:06.485Z"
   },
   {
    "duration": 0,
    "start_time": "2023-06-08T13:04:06.486Z"
   },
   {
    "duration": 0,
    "start_time": "2023-06-08T13:04:06.486Z"
   },
   {
    "duration": 1451,
    "start_time": "2023-06-08T13:04:52.159Z"
   },
   {
    "duration": 0,
    "start_time": "2023-06-08T13:04:53.612Z"
   },
   {
    "duration": 0,
    "start_time": "2023-06-08T13:04:53.613Z"
   },
   {
    "duration": 0,
    "start_time": "2023-06-08T13:04:53.614Z"
   },
   {
    "duration": 0,
    "start_time": "2023-06-08T13:04:53.616Z"
   },
   {
    "duration": 0,
    "start_time": "2023-06-08T13:04:53.617Z"
   },
   {
    "duration": 0,
    "start_time": "2023-06-08T13:04:53.618Z"
   },
   {
    "duration": 0,
    "start_time": "2023-06-08T13:04:53.619Z"
   },
   {
    "duration": 0,
    "start_time": "2023-06-08T13:04:53.621Z"
   },
   {
    "duration": 0,
    "start_time": "2023-06-08T13:04:53.622Z"
   },
   {
    "duration": 0,
    "start_time": "2023-06-08T13:04:53.623Z"
   },
   {
    "duration": 0,
    "start_time": "2023-06-08T13:04:53.624Z"
   },
   {
    "duration": 0,
    "start_time": "2023-06-08T13:04:53.625Z"
   },
   {
    "duration": 0,
    "start_time": "2023-06-08T13:04:53.626Z"
   },
   {
    "duration": 0,
    "start_time": "2023-06-08T13:04:53.627Z"
   },
   {
    "duration": 0,
    "start_time": "2023-06-08T13:04:53.629Z"
   },
   {
    "duration": 0,
    "start_time": "2023-06-08T13:04:53.630Z"
   },
   {
    "duration": 0,
    "start_time": "2023-06-08T13:04:53.632Z"
   },
   {
    "duration": 0,
    "start_time": "2023-06-08T13:04:53.633Z"
   },
   {
    "duration": 0,
    "start_time": "2023-06-08T13:04:53.634Z"
   },
   {
    "duration": 0,
    "start_time": "2023-06-08T13:04:53.635Z"
   },
   {
    "duration": 0,
    "start_time": "2023-06-08T13:04:53.636Z"
   },
   {
    "duration": 0,
    "start_time": "2023-06-08T13:04:53.637Z"
   },
   {
    "duration": 0,
    "start_time": "2023-06-08T13:04:53.638Z"
   },
   {
    "duration": 0,
    "start_time": "2023-06-08T13:04:53.639Z"
   },
   {
    "duration": 0,
    "start_time": "2023-06-08T13:04:53.680Z"
   },
   {
    "duration": 0,
    "start_time": "2023-06-08T13:04:53.681Z"
   },
   {
    "duration": 0,
    "start_time": "2023-06-08T13:04:53.681Z"
   },
   {
    "duration": 1379,
    "start_time": "2023-06-08T13:05:59.408Z"
   },
   {
    "duration": 1,
    "start_time": "2023-06-08T13:06:00.791Z"
   },
   {
    "duration": 0,
    "start_time": "2023-06-08T13:06:00.792Z"
   },
   {
    "duration": 0,
    "start_time": "2023-06-08T13:06:00.793Z"
   },
   {
    "duration": 0,
    "start_time": "2023-06-08T13:06:00.794Z"
   },
   {
    "duration": 0,
    "start_time": "2023-06-08T13:06:00.795Z"
   },
   {
    "duration": 0,
    "start_time": "2023-06-08T13:06:00.795Z"
   },
   {
    "duration": 0,
    "start_time": "2023-06-08T13:06:00.796Z"
   },
   {
    "duration": 0,
    "start_time": "2023-06-08T13:06:00.797Z"
   },
   {
    "duration": 0,
    "start_time": "2023-06-08T13:06:00.797Z"
   },
   {
    "duration": 0,
    "start_time": "2023-06-08T13:06:00.798Z"
   },
   {
    "duration": 0,
    "start_time": "2023-06-08T13:06:00.799Z"
   },
   {
    "duration": 0,
    "start_time": "2023-06-08T13:06:00.799Z"
   },
   {
    "duration": 0,
    "start_time": "2023-06-08T13:06:00.800Z"
   },
   {
    "duration": 0,
    "start_time": "2023-06-08T13:06:00.801Z"
   },
   {
    "duration": 0,
    "start_time": "2023-06-08T13:06:00.801Z"
   },
   {
    "duration": 0,
    "start_time": "2023-06-08T13:06:00.802Z"
   },
   {
    "duration": 0,
    "start_time": "2023-06-08T13:06:00.802Z"
   },
   {
    "duration": 0,
    "start_time": "2023-06-08T13:06:00.809Z"
   },
   {
    "duration": 0,
    "start_time": "2023-06-08T13:06:00.810Z"
   },
   {
    "duration": 0,
    "start_time": "2023-06-08T13:06:00.811Z"
   },
   {
    "duration": 0,
    "start_time": "2023-06-08T13:06:00.813Z"
   },
   {
    "duration": 0,
    "start_time": "2023-06-08T13:06:00.814Z"
   },
   {
    "duration": 0,
    "start_time": "2023-06-08T13:06:00.815Z"
   },
   {
    "duration": 0,
    "start_time": "2023-06-08T13:06:00.817Z"
   },
   {
    "duration": 0,
    "start_time": "2023-06-08T13:06:00.818Z"
   },
   {
    "duration": 0,
    "start_time": "2023-06-08T13:06:00.819Z"
   },
   {
    "duration": 0,
    "start_time": "2023-06-08T13:06:00.821Z"
   },
   {
    "duration": 1305,
    "start_time": "2023-06-08T13:08:34.759Z"
   },
   {
    "duration": 18,
    "start_time": "2023-06-08T13:08:36.066Z"
   },
   {
    "duration": 61,
    "start_time": "2023-06-08T13:08:36.086Z"
   },
   {
    "duration": 12,
    "start_time": "2023-06-08T13:08:36.149Z"
   },
   {
    "duration": 55,
    "start_time": "2023-06-08T13:08:36.164Z"
   },
   {
    "duration": 28,
    "start_time": "2023-06-08T13:08:36.220Z"
   },
   {
    "duration": 15,
    "start_time": "2023-06-08T13:08:36.250Z"
   },
   {
    "duration": 46,
    "start_time": "2023-06-08T13:08:36.267Z"
   },
   {
    "duration": 217,
    "start_time": "2023-06-08T13:08:36.314Z"
   },
   {
    "duration": 212,
    "start_time": "2023-06-08T13:08:36.535Z"
   },
   {
    "duration": 198,
    "start_time": "2023-06-08T13:08:36.749Z"
   },
   {
    "duration": 172,
    "start_time": "2023-06-08T13:08:36.949Z"
   },
   {
    "duration": 219,
    "start_time": "2023-06-08T13:08:37.123Z"
   },
   {
    "duration": 221,
    "start_time": "2023-06-08T13:08:37.345Z"
   },
   {
    "duration": 177,
    "start_time": "2023-06-08T13:08:37.567Z"
   },
   {
    "duration": 10,
    "start_time": "2023-06-08T13:08:37.747Z"
   },
   {
    "duration": 77,
    "start_time": "2023-06-08T13:08:37.759Z"
   },
   {
    "duration": 30,
    "start_time": "2023-06-08T13:08:37.838Z"
   },
   {
    "duration": 21,
    "start_time": "2023-06-08T13:08:37.870Z"
   },
   {
    "duration": 297,
    "start_time": "2023-06-08T13:08:37.893Z"
   },
   {
    "duration": 236,
    "start_time": "2023-06-08T13:08:38.193Z"
   },
   {
    "duration": 972,
    "start_time": "2023-06-08T13:08:38.431Z"
   },
   {
    "duration": 156,
    "start_time": "2023-06-08T13:08:39.413Z"
   },
   {
    "duration": 16,
    "start_time": "2023-06-08T13:08:39.570Z"
   },
   {
    "duration": 29,
    "start_time": "2023-06-08T13:08:39.588Z"
   },
   {
    "duration": 24,
    "start_time": "2023-06-08T13:08:39.619Z"
   },
   {
    "duration": 20,
    "start_time": "2023-06-08T13:08:39.645Z"
   },
   {
    "duration": 7,
    "start_time": "2023-06-08T13:08:39.666Z"
   },
   {
    "duration": 4,
    "start_time": "2023-06-08T13:12:13.069Z"
   },
   {
    "duration": 4,
    "start_time": "2023-06-08T13:12:25.133Z"
   },
   {
    "duration": 141,
    "start_time": "2023-06-08T13:12:59.853Z"
   },
   {
    "duration": 5,
    "start_time": "2023-06-08T13:13:02.821Z"
   },
   {
    "duration": 124,
    "start_time": "2023-06-08T13:14:52.237Z"
   },
   {
    "duration": 20,
    "start_time": "2023-06-08T13:15:19.144Z"
   },
   {
    "duration": 15,
    "start_time": "2023-06-08T13:15:36.120Z"
   },
   {
    "duration": 5,
    "start_time": "2023-06-08T13:18:02.705Z"
   },
   {
    "duration": 8,
    "start_time": "2023-06-08T13:18:22.264Z"
   },
   {
    "duration": 1325,
    "start_time": "2023-06-08T14:53:13.874Z"
   },
   {
    "duration": 202,
    "start_time": "2023-06-08T14:53:21.550Z"
   },
   {
    "duration": 68,
    "start_time": "2023-06-08T14:55:59.530Z"
   },
   {
    "duration": 21,
    "start_time": "2023-06-08T14:56:23.366Z"
   },
   {
    "duration": 18,
    "start_time": "2023-06-08T14:56:40.829Z"
   },
   {
    "duration": 18,
    "start_time": "2023-06-08T14:56:54.855Z"
   },
   {
    "duration": 17,
    "start_time": "2023-06-08T14:57:07.405Z"
   },
   {
    "duration": 18,
    "start_time": "2023-06-08T14:57:15.187Z"
   },
   {
    "duration": 16,
    "start_time": "2023-06-08T14:57:21.460Z"
   },
   {
    "duration": 17,
    "start_time": "2023-06-08T14:57:53.604Z"
   },
   {
    "duration": 12,
    "start_time": "2023-06-08T14:58:23.725Z"
   },
   {
    "duration": 10,
    "start_time": "2023-06-08T14:58:31.783Z"
   },
   {
    "duration": 6,
    "start_time": "2023-06-08T14:58:34.982Z"
   },
   {
    "duration": 192,
    "start_time": "2023-06-08T15:04:01.034Z"
   },
   {
    "duration": 385,
    "start_time": "2023-06-08T15:04:08.796Z"
   },
   {
    "duration": 148,
    "start_time": "2023-06-08T15:04:36.520Z"
   },
   {
    "duration": 2,
    "start_time": "2023-06-08T15:34:14.898Z"
   },
   {
    "duration": 66,
    "start_time": "2023-06-08T15:34:16.436Z"
   },
   {
    "duration": 18,
    "start_time": "2023-06-08T15:34:27.772Z"
   },
   {
    "duration": 17,
    "start_time": "2023-06-08T15:34:31.145Z"
   },
   {
    "duration": 15,
    "start_time": "2023-06-08T15:34:34.369Z"
   },
   {
    "duration": 16,
    "start_time": "2023-06-08T15:34:41.180Z"
   },
   {
    "duration": 22,
    "start_time": "2023-06-08T15:36:54.466Z"
   },
   {
    "duration": 15,
    "start_time": "2023-06-08T15:36:58.115Z"
   },
   {
    "duration": 11,
    "start_time": "2023-06-08T15:37:28.189Z"
   },
   {
    "duration": 6,
    "start_time": "2023-06-08T15:37:31.075Z"
   },
   {
    "duration": 4,
    "start_time": "2023-06-08T15:41:43.167Z"
   },
   {
    "duration": 78,
    "start_time": "2023-06-08T15:41:44.190Z"
   },
   {
    "duration": 18,
    "start_time": "2023-06-08T15:41:46.412Z"
   },
   {
    "duration": 19,
    "start_time": "2023-06-08T15:41:50.427Z"
   },
   {
    "duration": 21,
    "start_time": "2023-06-08T15:41:52.656Z"
   },
   {
    "duration": 18,
    "start_time": "2023-06-08T15:42:47.890Z"
   },
   {
    "duration": 11,
    "start_time": "2023-06-08T15:42:50.793Z"
   },
   {
    "duration": 9,
    "start_time": "2023-06-08T15:42:54.008Z"
   },
   {
    "duration": 6,
    "start_time": "2023-06-08T15:42:56.467Z"
   },
   {
    "duration": 15,
    "start_time": "2023-06-08T15:47:59.193Z"
   },
   {
    "duration": 176,
    "start_time": "2023-06-08T15:48:15.611Z"
   },
   {
    "duration": 200,
    "start_time": "2023-06-08T15:48:31.046Z"
   },
   {
    "duration": 168,
    "start_time": "2023-06-08T15:49:04.980Z"
   },
   {
    "duration": 254,
    "start_time": "2023-06-08T15:49:38.695Z"
   },
   {
    "duration": 132,
    "start_time": "2023-06-08T15:50:33.825Z"
   },
   {
    "duration": 221,
    "start_time": "2023-06-08T15:50:54.299Z"
   },
   {
    "duration": 221,
    "start_time": "2023-06-08T15:53:10.594Z"
   },
   {
    "duration": 208,
    "start_time": "2023-06-08T15:53:23.979Z"
   },
   {
    "duration": 215,
    "start_time": "2023-06-08T15:53:44.584Z"
   },
   {
    "duration": 188,
    "start_time": "2023-06-08T16:04:48.925Z"
   },
   {
    "duration": 15,
    "start_time": "2023-06-08T16:05:08.793Z"
   },
   {
    "duration": 214,
    "start_time": "2023-06-08T16:05:16.347Z"
   },
   {
    "duration": 199,
    "start_time": "2023-06-08T16:05:56.964Z"
   },
   {
    "duration": 166,
    "start_time": "2023-06-08T16:06:05.458Z"
   },
   {
    "duration": 167,
    "start_time": "2023-06-08T16:06:09.995Z"
   },
   {
    "duration": 171,
    "start_time": "2023-06-08T16:06:15.002Z"
   },
   {
    "duration": 206,
    "start_time": "2023-06-08T16:06:31.883Z"
   },
   {
    "duration": 300,
    "start_time": "2023-06-08T16:06:58.481Z"
   },
   {
    "duration": 232,
    "start_time": "2023-06-08T16:07:13.577Z"
   },
   {
    "duration": 203,
    "start_time": "2023-06-08T16:07:21.396Z"
   },
   {
    "duration": 3,
    "start_time": "2023-06-08T16:10:33.163Z"
   },
   {
    "duration": 65,
    "start_time": "2023-06-08T16:10:34.077Z"
   },
   {
    "duration": 19,
    "start_time": "2023-06-08T16:10:36.398Z"
   },
   {
    "duration": 17,
    "start_time": "2023-06-08T16:10:39.478Z"
   },
   {
    "duration": 17,
    "start_time": "2023-06-08T16:10:41.886Z"
   },
   {
    "duration": 17,
    "start_time": "2023-06-08T16:10:45.738Z"
   },
   {
    "duration": 11,
    "start_time": "2023-06-08T16:10:48.852Z"
   },
   {
    "duration": 10,
    "start_time": "2023-06-08T16:10:50.973Z"
   },
   {
    "duration": 7,
    "start_time": "2023-06-08T16:10:52.659Z"
   },
   {
    "duration": 203,
    "start_time": "2023-06-08T16:11:57.925Z"
   },
   {
    "duration": 28343,
    "start_time": "2023-06-08T16:12:13.203Z"
   },
   {
    "duration": 195,
    "start_time": "2023-06-08T16:13:08.643Z"
   },
   {
    "duration": 8,
    "start_time": "2023-06-08T16:13:38.859Z"
   },
   {
    "duration": 8,
    "start_time": "2023-06-08T16:13:45.538Z"
   },
   {
    "duration": 18,
    "start_time": "2023-06-08T16:16:29.513Z"
   },
   {
    "duration": 16,
    "start_time": "2023-06-08T16:16:44.039Z"
   },
   {
    "duration": 20,
    "start_time": "2023-06-08T16:19:05.472Z"
   },
   {
    "duration": 19,
    "start_time": "2023-06-08T16:19:26.283Z"
   },
   {
    "duration": 21,
    "start_time": "2023-06-08T16:19:28.566Z"
   },
   {
    "duration": 189,
    "start_time": "2023-06-08T16:24:15.079Z"
   },
   {
    "duration": 211,
    "start_time": "2023-06-08T16:26:32.650Z"
   },
   {
    "duration": 193,
    "start_time": "2023-06-08T16:26:45.386Z"
   },
   {
    "duration": 216,
    "start_time": "2023-06-08T16:32:50.705Z"
   },
   {
    "duration": 221,
    "start_time": "2023-06-08T16:33:07.780Z"
   },
   {
    "duration": 220,
    "start_time": "2023-06-08T16:33:18.721Z"
   },
   {
    "duration": 218,
    "start_time": "2023-06-08T16:33:53.793Z"
   },
   {
    "duration": 4,
    "start_time": "2023-06-08T16:34:13.039Z"
   },
   {
    "duration": 68,
    "start_time": "2023-06-08T16:34:13.985Z"
   },
   {
    "duration": 18,
    "start_time": "2023-06-08T16:34:15.775Z"
   },
   {
    "duration": 19,
    "start_time": "2023-06-08T16:34:17.302Z"
   },
   {
    "duration": 16,
    "start_time": "2023-06-08T16:34:18.192Z"
   },
   {
    "duration": 17,
    "start_time": "2023-06-08T16:34:21.023Z"
   },
   {
    "duration": 12,
    "start_time": "2023-06-08T16:34:23.445Z"
   },
   {
    "duration": 10,
    "start_time": "2023-06-08T16:34:24.653Z"
   },
   {
    "duration": 7,
    "start_time": "2023-06-08T16:34:25.233Z"
   },
   {
    "duration": 226,
    "start_time": "2023-06-08T16:34:49.620Z"
   },
   {
    "duration": 215,
    "start_time": "2023-06-08T16:34:58.089Z"
   },
   {
    "duration": 10,
    "start_time": "2023-06-08T16:35:41.494Z"
   },
   {
    "duration": 11,
    "start_time": "2023-06-08T16:35:46.581Z"
   },
   {
    "duration": 2121,
    "start_time": "2023-06-08T16:36:58.871Z"
   },
   {
    "duration": 2262,
    "start_time": "2023-06-08T16:37:41.166Z"
   },
   {
    "duration": 2259,
    "start_time": "2023-06-08T16:38:22.406Z"
   },
   {
    "duration": 3787,
    "start_time": "2023-06-08T16:38:44.076Z"
   },
   {
    "duration": 2,
    "start_time": "2023-06-08T16:41:24.089Z"
   },
   {
    "duration": 67,
    "start_time": "2023-06-08T16:41:24.684Z"
   },
   {
    "duration": 18,
    "start_time": "2023-06-08T16:41:26.404Z"
   },
   {
    "duration": 19,
    "start_time": "2023-06-08T16:41:27.814Z"
   },
   {
    "duration": 17,
    "start_time": "2023-06-08T16:41:28.962Z"
   },
   {
    "duration": 18,
    "start_time": "2023-06-08T16:41:32.399Z"
   },
   {
    "duration": 14,
    "start_time": "2023-06-08T16:41:36.041Z"
   },
   {
    "duration": 10,
    "start_time": "2023-06-08T16:41:39.105Z"
   },
   {
    "duration": 7,
    "start_time": "2023-06-08T16:41:39.746Z"
   },
   {
    "duration": 2115,
    "start_time": "2023-06-08T16:42:53.653Z"
   },
   {
    "duration": 2037,
    "start_time": "2023-06-08T16:43:04.122Z"
   },
   {
    "duration": 2079,
    "start_time": "2023-06-08T16:45:07.320Z"
   },
   {
    "duration": 4012,
    "start_time": "2023-06-08T16:45:39.309Z"
   },
   {
    "duration": 10,
    "start_time": "2023-06-08T16:46:03.009Z"
   },
   {
    "duration": 182,
    "start_time": "2023-06-08T16:53:20.013Z"
   },
   {
    "duration": 179,
    "start_time": "2023-06-08T16:53:43.761Z"
   },
   {
    "duration": 173,
    "start_time": "2023-06-08T16:53:59.448Z"
   },
   {
    "duration": 178,
    "start_time": "2023-06-08T16:54:26.287Z"
   },
   {
    "duration": 181,
    "start_time": "2023-06-08T16:55:58.184Z"
   },
   {
    "duration": 166,
    "start_time": "2023-06-08T16:57:26.593Z"
   },
   {
    "duration": 141,
    "start_time": "2023-06-08T16:58:34.939Z"
   },
   {
    "duration": 368,
    "start_time": "2023-06-08T17:00:01.585Z"
   },
   {
    "duration": 15,
    "start_time": "2023-06-08T17:00:19.846Z"
   },
   {
    "duration": 217,
    "start_time": "2023-06-08T17:00:34.768Z"
   },
   {
    "duration": 203,
    "start_time": "2023-06-08T17:00:48.367Z"
   },
   {
    "duration": 6,
    "start_time": "2023-06-08T17:02:31.070Z"
   },
   {
    "duration": 11,
    "start_time": "2023-06-08T17:06:35.621Z"
   },
   {
    "duration": 17,
    "start_time": "2023-06-08T17:07:10.616Z"
   },
   {
    "duration": 23,
    "start_time": "2023-06-08T17:07:48.950Z"
   },
   {
    "duration": 23,
    "start_time": "2023-06-08T17:07:58.112Z"
   },
   {
    "duration": 194,
    "start_time": "2023-06-08T17:08:06.894Z"
   },
   {
    "duration": 11,
    "start_time": "2023-06-08T17:10:18.786Z"
   },
   {
    "duration": 9,
    "start_time": "2023-06-08T17:12:22.097Z"
   },
   {
    "duration": 233,
    "start_time": "2023-06-08T17:12:32.928Z"
   },
   {
    "duration": 217,
    "start_time": "2023-06-08T17:15:01.975Z"
   },
   {
    "duration": 213,
    "start_time": "2023-06-08T17:15:26.915Z"
   },
   {
    "duration": 272,
    "start_time": "2023-06-08T17:16:12.308Z"
   },
   {
    "duration": 232,
    "start_time": "2023-06-08T17:16:31.462Z"
   },
   {
    "duration": 189,
    "start_time": "2023-06-08T17:16:47.094Z"
   },
   {
    "duration": 178,
    "start_time": "2023-06-08T17:16:54.986Z"
   },
   {
    "duration": 218,
    "start_time": "2023-06-08T17:17:01.683Z"
   },
   {
    "duration": 185,
    "start_time": "2023-06-08T17:17:09.103Z"
   },
   {
    "duration": 195,
    "start_time": "2023-06-08T17:17:19.408Z"
   },
   {
    "duration": 182,
    "start_time": "2023-06-08T17:17:29.256Z"
   },
   {
    "duration": 15,
    "start_time": "2023-06-08T17:18:19.719Z"
   },
   {
    "duration": 8,
    "start_time": "2023-06-08T17:19:01.630Z"
   },
   {
    "duration": 212,
    "start_time": "2023-06-08T17:20:00.231Z"
   },
   {
    "duration": 255,
    "start_time": "2023-06-08T17:21:13.578Z"
   },
   {
    "duration": 245,
    "start_time": "2023-06-08T17:22:43.457Z"
   },
   {
    "duration": 238,
    "start_time": "2023-06-08T17:22:59.919Z"
   },
   {
    "duration": 242,
    "start_time": "2023-06-08T17:23:15.755Z"
   },
   {
    "duration": 241,
    "start_time": "2023-06-08T17:23:29.826Z"
   },
   {
    "duration": 3,
    "start_time": "2023-06-08T17:23:52.893Z"
   },
   {
    "duration": 66,
    "start_time": "2023-06-08T17:23:53.620Z"
   },
   {
    "duration": 18,
    "start_time": "2023-06-08T17:23:57.604Z"
   },
   {
    "duration": 18,
    "start_time": "2023-06-08T17:23:59.156Z"
   },
   {
    "duration": 21,
    "start_time": "2023-06-08T17:24:01.094Z"
   },
   {
    "duration": 18,
    "start_time": "2023-06-08T17:24:05.208Z"
   },
   {
    "duration": 12,
    "start_time": "2023-06-08T17:24:07.713Z"
   },
   {
    "duration": 11,
    "start_time": "2023-06-08T17:24:10.667Z"
   },
   {
    "duration": 7,
    "start_time": "2023-06-08T17:24:11.776Z"
   },
   {
    "duration": 228,
    "start_time": "2023-06-08T17:24:22.834Z"
   },
   {
    "duration": 194,
    "start_time": "2023-06-08T17:24:33.296Z"
   },
   {
    "duration": 206,
    "start_time": "2023-06-08T17:28:19.608Z"
   },
   {
    "duration": 232,
    "start_time": "2023-06-08T17:28:33.367Z"
   },
   {
    "duration": 193,
    "start_time": "2023-06-08T17:28:45.924Z"
   },
   {
    "duration": 163,
    "start_time": "2023-06-08T17:29:37.917Z"
   },
   {
    "duration": 202,
    "start_time": "2023-06-08T17:30:03.561Z"
   },
   {
    "duration": 194,
    "start_time": "2023-06-08T17:30:21.385Z"
   },
   {
    "duration": 287,
    "start_time": "2023-06-08T17:30:42.881Z"
   },
   {
    "duration": 231,
    "start_time": "2023-06-08T17:30:48.140Z"
   },
   {
    "duration": 180,
    "start_time": "2023-06-08T17:30:56.099Z"
   },
   {
    "duration": 203,
    "start_time": "2023-06-08T17:31:29.014Z"
   },
   {
    "duration": 176,
    "start_time": "2023-06-08T17:35:16.156Z"
   },
   {
    "duration": 186,
    "start_time": "2023-06-08T17:35:33.916Z"
   },
   {
    "duration": 181,
    "start_time": "2023-06-08T17:35:55.624Z"
   },
   {
    "duration": 3,
    "start_time": "2023-06-08T17:49:35.092Z"
   },
   {
    "duration": 68,
    "start_time": "2023-06-08T17:49:36.018Z"
   },
   {
    "duration": 19,
    "start_time": "2023-06-08T17:49:39.440Z"
   },
   {
    "duration": 18,
    "start_time": "2023-06-08T17:49:44.691Z"
   },
   {
    "duration": 18,
    "start_time": "2023-06-08T17:49:47.603Z"
   },
   {
    "duration": 18,
    "start_time": "2023-06-08T17:49:53.221Z"
   },
   {
    "duration": 12,
    "start_time": "2023-06-08T17:49:56.187Z"
   },
   {
    "duration": 14,
    "start_time": "2023-06-08T17:49:59.384Z"
   },
   {
    "duration": 7,
    "start_time": "2023-06-08T17:50:00.468Z"
   },
   {
    "duration": 199,
    "start_time": "2023-06-08T17:50:07.069Z"
   },
   {
    "duration": 9,
    "start_time": "2023-06-08T17:50:13.425Z"
   },
   {
    "duration": 257,
    "start_time": "2023-06-08T17:50:18.133Z"
   },
   {
    "duration": 257,
    "start_time": "2023-06-08T17:50:35.039Z"
   },
   {
    "duration": 229,
    "start_time": "2023-06-08T17:50:38.217Z"
   },
   {
    "duration": 244,
    "start_time": "2023-06-08T17:51:06.336Z"
   },
   {
    "duration": 172,
    "start_time": "2023-06-08T17:51:11.667Z"
   },
   {
    "duration": 36,
    "start_time": "2023-06-08T17:54:46.448Z"
   },
   {
    "duration": 38,
    "start_time": "2023-06-08T17:56:26.684Z"
   },
   {
    "duration": 27,
    "start_time": "2023-06-08T17:57:23.366Z"
   },
   {
    "duration": 31,
    "start_time": "2023-06-08T17:57:58.340Z"
   },
   {
    "duration": 287,
    "start_time": "2023-06-08T17:58:33.825Z"
   },
   {
    "duration": 240,
    "start_time": "2023-06-08T17:58:40.098Z"
   },
   {
    "duration": 892,
    "start_time": "2023-06-08T17:59:43.067Z"
   },
   {
    "duration": 148,
    "start_time": "2023-06-08T18:00:09.031Z"
   },
   {
    "duration": 15,
    "start_time": "2023-06-08T18:01:06.653Z"
   },
   {
    "duration": 7,
    "start_time": "2023-06-08T18:02:01.943Z"
   },
   {
    "duration": 5,
    "start_time": "2023-06-08T18:07:46.026Z"
   },
   {
    "duration": 7,
    "start_time": "2023-06-08T18:12:42.628Z"
   },
   {
    "duration": 6,
    "start_time": "2023-06-08T18:13:53.932Z"
   },
   {
    "duration": 18,
    "start_time": "2023-06-08T18:20:42.739Z"
   },
   {
    "duration": 20,
    "start_time": "2023-06-08T18:20:50.293Z"
   },
   {
    "duration": 11,
    "start_time": "2023-06-08T18:21:42.361Z"
   },
   {
    "duration": 9,
    "start_time": "2023-06-08T18:21:51.589Z"
   },
   {
    "duration": 16,
    "start_time": "2023-06-08T18:24:39.397Z"
   },
   {
    "duration": 9,
    "start_time": "2023-06-08T18:24:58.563Z"
   },
   {
    "duration": 3,
    "start_time": "2023-06-08T18:41:56.592Z"
   },
   {
    "duration": 69,
    "start_time": "2023-06-08T18:42:00.094Z"
   },
   {
    "duration": 17,
    "start_time": "2023-06-08T18:42:03.477Z"
   },
   {
    "duration": 18,
    "start_time": "2023-06-08T18:42:05.573Z"
   },
   {
    "duration": 18,
    "start_time": "2023-06-08T18:42:07.888Z"
   },
   {
    "duration": 20,
    "start_time": "2023-06-08T18:42:12.373Z"
   },
   {
    "duration": 12,
    "start_time": "2023-06-08T18:42:17.811Z"
   },
   {
    "duration": 15,
    "start_time": "2023-06-08T18:42:22.700Z"
   },
   {
    "duration": 8,
    "start_time": "2023-06-08T18:42:23.814Z"
   },
   {
    "duration": 204,
    "start_time": "2023-06-08T18:42:30.790Z"
   },
   {
    "duration": 7,
    "start_time": "2023-06-08T18:42:37.278Z"
   },
   {
    "duration": 283,
    "start_time": "2023-06-08T18:42:41.673Z"
   },
   {
    "duration": 231,
    "start_time": "2023-06-08T18:42:43.949Z"
   },
   {
    "duration": 230,
    "start_time": "2023-06-08T18:42:49.759Z"
   },
   {
    "duration": 182,
    "start_time": "2023-06-08T18:42:58.878Z"
   },
   {
    "duration": 47,
    "start_time": "2023-06-08T18:43:05.046Z"
   },
   {
    "duration": 38,
    "start_time": "2023-06-08T18:43:11.147Z"
   },
   {
    "duration": 29,
    "start_time": "2023-06-08T18:43:14.285Z"
   },
   {
    "duration": 254,
    "start_time": "2023-06-08T18:43:17.464Z"
   },
   {
    "duration": 251,
    "start_time": "2023-06-08T18:43:30.493Z"
   },
   {
    "duration": 228,
    "start_time": "2023-06-08T18:43:41.811Z"
   },
   {
    "duration": 1018,
    "start_time": "2023-06-08T18:43:50.715Z"
   },
   {
    "duration": 180,
    "start_time": "2023-06-08T18:43:55.209Z"
   },
   {
    "duration": 8,
    "start_time": "2023-06-08T18:44:01.922Z"
   },
   {
    "duration": 6,
    "start_time": "2023-06-08T18:44:09.110Z"
   },
   {
    "duration": 13,
    "start_time": "2023-06-08T18:44:14.034Z"
   },
   {
    "duration": 14,
    "start_time": "2023-06-08T18:44:35.623Z"
   },
   {
    "duration": 6,
    "start_time": "2023-06-08T18:44:38.842Z"
   },
   {
    "duration": 1379,
    "start_time": "2023-06-09T17:46:12.946Z"
   },
   {
    "duration": 304,
    "start_time": "2023-06-09T17:46:14.327Z"
   },
   {
    "duration": 26,
    "start_time": "2023-06-09T17:46:16.375Z"
   },
   {
    "duration": 24,
    "start_time": "2023-06-09T17:46:20.871Z"
   },
   {
    "duration": 17,
    "start_time": "2023-06-09T17:46:20.983Z"
   },
   {
    "duration": 23,
    "start_time": "2023-06-09T17:46:23.973Z"
   },
   {
    "duration": 10,
    "start_time": "2023-06-09T17:46:25.027Z"
   },
   {
    "duration": 10,
    "start_time": "2023-06-09T17:46:26.722Z"
   },
   {
    "duration": 6,
    "start_time": "2023-06-09T17:46:28.955Z"
   },
   {
    "duration": 211,
    "start_time": "2023-06-09T17:46:32.589Z"
   },
   {
    "duration": 7,
    "start_time": "2023-06-09T17:46:38.009Z"
   },
   {
    "duration": 239,
    "start_time": "2023-06-09T17:46:56.421Z"
   },
   {
    "duration": 3,
    "start_time": "2023-06-09T17:49:11.329Z"
   },
   {
    "duration": 64,
    "start_time": "2023-06-09T17:49:12.099Z"
   },
   {
    "duration": 19,
    "start_time": "2023-06-09T17:49:13.645Z"
   },
   {
    "duration": 27,
    "start_time": "2023-06-09T17:49:15.354Z"
   },
   {
    "duration": 19,
    "start_time": "2023-06-09T17:49:16.142Z"
   },
   {
    "duration": 21,
    "start_time": "2023-06-09T17:49:19.561Z"
   },
   {
    "duration": 10,
    "start_time": "2023-06-09T17:49:20.741Z"
   },
   {
    "duration": 9,
    "start_time": "2023-06-09T17:49:22.233Z"
   },
   {
    "duration": 6,
    "start_time": "2023-06-09T17:49:24.118Z"
   },
   {
    "duration": 211,
    "start_time": "2023-06-09T17:49:28.109Z"
   },
   {
    "duration": 6,
    "start_time": "2023-06-09T17:49:30.839Z"
   },
   {
    "duration": 407,
    "start_time": "2023-06-09T17:49:33.160Z"
   },
   {
    "duration": 198,
    "start_time": "2023-06-09T17:49:36.555Z"
   },
   {
    "duration": 201,
    "start_time": "2023-06-09T17:49:40.338Z"
   },
   {
    "duration": 171,
    "start_time": "2023-06-09T17:49:45.802Z"
   },
   {
    "duration": 32,
    "start_time": "2023-06-09T17:49:52.310Z"
   },
   {
    "duration": 30,
    "start_time": "2023-06-09T17:49:57.222Z"
   },
   {
    "duration": 20,
    "start_time": "2023-06-09T17:50:00.421Z"
   },
   {
    "duration": 278,
    "start_time": "2023-06-09T17:50:04.733Z"
   },
   {
    "duration": 217,
    "start_time": "2023-06-09T17:50:07.131Z"
   },
   {
    "duration": 856,
    "start_time": "2023-06-09T17:50:11.708Z"
   },
   {
    "duration": 190,
    "start_time": "2023-06-09T17:50:15.635Z"
   },
   {
    "duration": 7,
    "start_time": "2023-06-09T18:00:12.808Z"
   },
   {
    "duration": 6,
    "start_time": "2023-06-09T18:14:55.048Z"
   },
   {
    "duration": 2,
    "start_time": "2023-06-09T18:28:39.067Z"
   },
   {
    "duration": 72,
    "start_time": "2023-06-09T18:28:39.835Z"
   },
   {
    "duration": 21,
    "start_time": "2023-06-09T18:28:41.401Z"
   },
   {
    "duration": 18,
    "start_time": "2023-06-09T18:28:42.850Z"
   },
   {
    "duration": 16,
    "start_time": "2023-06-09T18:28:43.526Z"
   },
   {
    "duration": 14,
    "start_time": "2023-06-09T18:28:45.743Z"
   },
   {
    "duration": 14,
    "start_time": "2023-06-09T18:28:46.915Z"
   },
   {
    "duration": 10,
    "start_time": "2023-06-09T18:28:48.331Z"
   },
   {
    "duration": 7,
    "start_time": "2023-06-09T18:28:48.887Z"
   },
   {
    "duration": 228,
    "start_time": "2023-06-09T18:28:51.570Z"
   },
   {
    "duration": 6,
    "start_time": "2023-06-09T18:28:53.711Z"
   },
   {
    "duration": 260,
    "start_time": "2023-06-09T18:28:55.656Z"
   },
   {
    "duration": 237,
    "start_time": "2023-06-09T18:28:57.565Z"
   },
   {
    "duration": 223,
    "start_time": "2023-06-09T18:28:59.374Z"
   },
   {
    "duration": 285,
    "start_time": "2023-06-09T18:29:01.812Z"
   },
   {
    "duration": 37,
    "start_time": "2023-06-09T18:29:04.770Z"
   },
   {
    "duration": 28,
    "start_time": "2023-06-09T18:29:06.874Z"
   },
   {
    "duration": 24,
    "start_time": "2023-06-09T18:29:08.002Z"
   },
   {
    "duration": 204,
    "start_time": "2023-06-09T18:29:09.265Z"
   },
   {
    "duration": 206,
    "start_time": "2023-06-09T18:29:09.899Z"
   },
   {
    "duration": 832,
    "start_time": "2023-06-09T18:29:13.066Z"
   },
   {
    "duration": 147,
    "start_time": "2023-06-09T18:29:15.106Z"
   },
   {
    "duration": 6,
    "start_time": "2023-06-09T18:30:49.045Z"
   },
   {
    "duration": 6,
    "start_time": "2023-06-09T18:33:58.290Z"
   },
   {
    "duration": 11,
    "start_time": "2023-06-09T18:37:46.069Z"
   },
   {
    "duration": 71,
    "start_time": "2023-06-09T18:37:46.082Z"
   },
   {
    "duration": 22,
    "start_time": "2023-06-09T18:37:47.370Z"
   },
   {
    "duration": 22,
    "start_time": "2023-06-09T18:37:48.536Z"
   },
   {
    "duration": 18,
    "start_time": "2023-06-09T18:37:49.329Z"
   },
   {
    "duration": 15,
    "start_time": "2023-06-09T18:37:51.011Z"
   },
   {
    "duration": 10,
    "start_time": "2023-06-09T18:37:52.563Z"
   },
   {
    "duration": 9,
    "start_time": "2023-06-09T18:37:54.522Z"
   },
   {
    "duration": 7,
    "start_time": "2023-06-09T18:37:54.533Z"
   },
   {
    "duration": 238,
    "start_time": "2023-06-09T18:37:57.003Z"
   },
   {
    "duration": 11,
    "start_time": "2023-06-09T18:37:59.280Z"
   },
   {
    "duration": 264,
    "start_time": "2023-06-09T18:38:01.735Z"
   },
   {
    "duration": 211,
    "start_time": "2023-06-09T18:38:03.123Z"
   },
   {
    "duration": 204,
    "start_time": "2023-06-09T18:38:05.609Z"
   },
   {
    "duration": 198,
    "start_time": "2023-06-09T18:38:08.260Z"
   },
   {
    "duration": 30,
    "start_time": "2023-06-09T18:38:11.103Z"
   },
   {
    "duration": 23,
    "start_time": "2023-06-09T18:38:13.591Z"
   },
   {
    "duration": 29,
    "start_time": "2023-06-09T18:38:15.067Z"
   },
   {
    "duration": 217,
    "start_time": "2023-06-09T18:38:16.398Z"
   },
   {
    "duration": 184,
    "start_time": "2023-06-09T18:38:17.325Z"
   },
   {
    "duration": 787,
    "start_time": "2023-06-09T18:38:20.797Z"
   },
   {
    "duration": 149,
    "start_time": "2023-06-09T18:38:22.540Z"
   },
   {
    "duration": 8,
    "start_time": "2023-06-09T18:39:05.890Z"
   },
   {
    "duration": 99,
    "start_time": "2023-06-09T18:43:16.824Z"
   },
   {
    "duration": 11,
    "start_time": "2023-06-09T18:43:26.439Z"
   },
   {
    "duration": 6,
    "start_time": "2023-06-09T18:43:29.239Z"
   }
  ],
  "kernelspec": {
   "display_name": "Python 3 (ipykernel)",
   "language": "python",
   "name": "python3"
  },
  "language_info": {
   "codemirror_mode": {
    "name": "ipython",
    "version": 3
   },
   "file_extension": ".py",
   "mimetype": "text/x-python",
   "name": "python",
   "nbconvert_exporter": "python",
   "pygments_lexer": "ipython3",
   "version": "3.9.5"
  },
  "toc": {
   "base_numbering": 1,
   "nav_menu": {},
   "number_sections": true,
   "sideBar": true,
   "skip_h1_title": true,
   "title_cell": "Table of Contents",
   "title_sidebar": "Contents",
   "toc_cell": false,
   "toc_position": {},
   "toc_section_display": true,
   "toc_window_display": true
  }
 },
 "nbformat": 4,
 "nbformat_minor": 5
}
